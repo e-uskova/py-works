{
 "cells": [
  {
   "cell_type": "code",
   "execution_count": 1,
   "metadata": {},
   "outputs": [],
   "source": [
    "import random\n",
    "# random.seed(131)\n",
    "n = 30\n",
    "objects = sorted([(random.randint(0,1), round(random.random(), 2), round(random.random(), 2))\n",
    "                  for _ in range(n)], key=lambda x: x[1])\n",
    "# print(objects)\n",
    "#  1 = крестик, 0 = нолик"
   ]
  },
  {
   "cell_type": "code",
   "execution_count": 2,
   "metadata": {},
   "outputs": [
    {
     "name": "stdout",
     "output_type": "stream",
     "text": [
      "x = 0.595, Q = 1.0888888888888886\n"
     ]
    }
   ],
   "source": [
    "maxQ = 0\n",
    "for x in ((objects[i+1][1] + objects[i][1])/2 for i in range(n-1)):\n",
    "#     print(x)\n",
    "    m_l = sum(obj[1] <= x for obj in objects)\n",
    "    m_r = len(objects) - m_l\n",
    "    nu_0 = sum(obj[0]==1 for obj in objects) / len(objects)\n",
    "    nu_l = sum(obj[0]==1 for obj in objects if obj[1] <= x) / m_l\n",
    "    nu_r = sum(obj[0]==1 for obj in objects if obj[1] > x) / m_r\n",
    "    Q = (nu_0 - nu_l) ** 2 * m_l + (nu_0 - nu_r) ** 2 * m_r\n",
    "    if Q > maxQ:\n",
    "        maxQ = Q \n",
    "        x_opt = x\n",
    "#     print(m_l, m_r, nu_0, nu_r, nu_l)\n",
    "#     print(\"Q =\", Q)\n",
    "print(f'x = {x_opt}, Q = {maxQ}')"
   ]
  },
  {
   "cell_type": "code",
   "execution_count": 3,
   "metadata": {},
   "outputs": [
    {
     "data": {
      "text/plain": [
       "<matplotlib.lines.Line2D at 0x2c09ade5a20>"
      ]
     },
     "execution_count": 3,
     "metadata": {},
     "output_type": "execute_result"
    },
    {
     "data": {
      "image/png": "[encoded data removed]",
      "text/plain": [
       "<Figure size 432x288 with 1 Axes>"
      ]
     },
     "metadata": {
      "needs_background": "light"
     },
     "output_type": "display_data"
    }
   ],
   "source": [
    "import matplotlib.pyplot as plt\n",
    "%matplotlib inline\n",
    "x_o = [obj[1] for obj in objects if obj[0]==0]\n",
    "x_x = [obj[1] for obj in objects if obj[0]==1]\n",
    "y_o = [obj[2] for obj in objects if obj[0]==0]\n",
    "y_x = [obj[2] for obj in objects if obj[0]==1]\n",
    "plt.plot(x_o, y_o, 'o')\n",
    "plt.plot(x_x, y_x, 'bx')\n",
    "plt.axvline(x=x_opt, color='g')"
   ]
  },
  {
   "cell_type": "code",
   "execution_count": null,
   "metadata": {},
   "outputs": [],
   "source": []
  }
 ],
 "metadata": {
  "kernelspec": {
   "display_name": "Python 3",
   "language": "python",
   "name": "python3"
  },
  "language_info": {
   "codemirror_mode": {
    "name": "ipython",
    "version": 3
   },
   "file_extension": ".py",
   "mimetype": "text/x-python",
   "name": "python",
   "nbconvert_exporter": "python",
   "pygments_lexer": "ipython3",
   "version": "3.7.3"
  }
 },
 "nbformat": 4,
 "nbformat_minor": 2
}
