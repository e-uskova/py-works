{
 "cells": [
  {
   "cell_type": "code",
   "execution_count": 1,
   "metadata": {},
   "outputs": [],
   "source": [
    "import numpy as np\n",
    "import pandas as pd"
   ]
  },
  {
   "cell_type": "code",
   "execution_count": 36,
   "metadata": {},
   "outputs": [
    {
     "data": {
      "text/plain": [
       "DatetimeIndex(['2019-09-09', '2019-09-10', '2019-09-11', '2019-09-12',\n",
       "               '2019-09-13', '2019-09-14'],\n",
       "              dtype='datetime64[ns]', freq='D')"
      ]
     },
     "execution_count": 36,
     "metadata": {},
     "output_type": "execute_result"
    }
   ],
   "source": [
    "dates = pd.date_range('20190909', periods=6)\n",
    "dates"
   ]
  },
  {
   "cell_type": "code",
   "execution_count": 6,
   "metadata": {},
   "outputs": [
    {
     "data": {
      "text/html": [
       "<div>\n",
       "<style scoped>\n",
       "    .dataframe tbody tr th:only-of-type {\n",
       "        vertical-align: middle;\n",
       "    }\n",
       "\n",
       "    .dataframe tbody tr th {\n",
       "        vertical-align: top;\n",
       "    }\n",
       "\n",
       "    .dataframe thead th {\n",
       "        text-align: right;\n",
       "    }\n",
       "</style>\n",
       "<table border=\"1\" class=\"dataframe\">\n",
       "  <thead>\n",
       "    <tr style=\"text-align: right;\">\n",
       "      <th></th>\n",
       "      <th>A</th>\n",
       "      <th>B</th>\n",
       "      <th>C</th>\n",
       "      <th>D</th>\n",
       "    </tr>\n",
       "  </thead>\n",
       "  <tbody>\n",
       "    <tr>\n",
       "      <th>2019-09-09</th>\n",
       "      <td>0.918923</td>\n",
       "      <td>-1.085372</td>\n",
       "      <td>-2.807729</td>\n",
       "      <td>-0.525705</td>\n",
       "    </tr>\n",
       "    <tr>\n",
       "      <th>2019-09-10</th>\n",
       "      <td>0.971745</td>\n",
       "      <td>-0.159099</td>\n",
       "      <td>0.432294</td>\n",
       "      <td>-1.146470</td>\n",
       "    </tr>\n",
       "    <tr>\n",
       "      <th>2019-09-11</th>\n",
       "      <td>2.374554</td>\n",
       "      <td>0.156285</td>\n",
       "      <td>-0.871206</td>\n",
       "      <td>-0.967473</td>\n",
       "    </tr>\n",
       "    <tr>\n",
       "      <th>2019-09-12</th>\n",
       "      <td>0.148116</td>\n",
       "      <td>1.349779</td>\n",
       "      <td>1.840475</td>\n",
       "      <td>-1.153948</td>\n",
       "    </tr>\n",
       "    <tr>\n",
       "      <th>2019-09-13</th>\n",
       "      <td>0.237009</td>\n",
       "      <td>0.606982</td>\n",
       "      <td>-1.147536</td>\n",
       "      <td>-0.100789</td>\n",
       "    </tr>\n",
       "    <tr>\n",
       "      <th>2019-09-14</th>\n",
       "      <td>2.677144</td>\n",
       "      <td>-0.120434</td>\n",
       "      <td>-0.100014</td>\n",
       "      <td>1.076644</td>\n",
       "    </tr>\n",
       "  </tbody>\n",
       "</table>\n",
       "</div>"
      ],
      "text/plain": [
       "                   A         B         C         D\n",
       "2019-09-09  0.918923 -1.085372 -2.807729 -0.525705\n",
       "2019-09-10  0.971745 -0.159099  0.432294 -1.146470\n",
       "2019-09-11  2.374554  0.156285 -0.871206 -0.967473\n",
       "2019-09-12  0.148116  1.349779  1.840475 -1.153948\n",
       "2019-09-13  0.237009  0.606982 -1.147536 -0.100789\n",
       "2019-09-14  2.677144 -0.120434 -0.100014  1.076644"
      ]
     },
     "execution_count": 6,
     "metadata": {},
     "output_type": "execute_result"
    }
   ],
   "source": [
    "df = pd.DataFrame(np.random.randn(6, 4), index=d, columns=list('ABCD'))\n",
    "df"
   ]
  },
  {
   "cell_type": "code",
   "execution_count": 19,
   "metadata": {},
   "outputs": [
    {
     "data": {
      "text/html": [
       "<div>\n",
       "<style scoped>\n",
       "    .dataframe tbody tr th:only-of-type {\n",
       "        vertical-align: middle;\n",
       "    }\n",
       "\n",
       "    .dataframe tbody tr th {\n",
       "        vertical-align: top;\n",
       "    }\n",
       "\n",
       "    .dataframe thead th {\n",
       "        text-align: right;\n",
       "    }\n",
       "</style>\n",
       "<table border=\"1\" class=\"dataframe\">\n",
       "  <thead>\n",
       "    <tr style=\"text-align: right;\">\n",
       "      <th></th>\n",
       "      <th>D</th>\n",
       "      <th>C</th>\n",
       "      <th>B</th>\n",
       "      <th>A</th>\n",
       "    </tr>\n",
       "  </thead>\n",
       "  <tbody>\n",
       "    <tr>\n",
       "      <th>2019-09-09</th>\n",
       "      <td>-0.525705</td>\n",
       "      <td>-2.807729</td>\n",
       "      <td>-1.085372</td>\n",
       "      <td>0.918923</td>\n",
       "    </tr>\n",
       "    <tr>\n",
       "      <th>2019-09-10</th>\n",
       "      <td>-1.146470</td>\n",
       "      <td>0.432294</td>\n",
       "      <td>-0.159099</td>\n",
       "      <td>0.971745</td>\n",
       "    </tr>\n",
       "    <tr>\n",
       "      <th>2019-09-11</th>\n",
       "      <td>-0.967473</td>\n",
       "      <td>-0.871206</td>\n",
       "      <td>0.156285</td>\n",
       "      <td>2.374554</td>\n",
       "    </tr>\n",
       "    <tr>\n",
       "      <th>2019-09-12</th>\n",
       "      <td>-1.153948</td>\n",
       "      <td>1.840475</td>\n",
       "      <td>1.349779</td>\n",
       "      <td>0.148116</td>\n",
       "    </tr>\n",
       "    <tr>\n",
       "      <th>2019-09-13</th>\n",
       "      <td>-0.100789</td>\n",
       "      <td>-1.147536</td>\n",
       "      <td>0.606982</td>\n",
       "      <td>0.237009</td>\n",
       "    </tr>\n",
       "    <tr>\n",
       "      <th>2019-09-14</th>\n",
       "      <td>1.076644</td>\n",
       "      <td>-0.100014</td>\n",
       "      <td>-0.120434</td>\n",
       "      <td>2.677144</td>\n",
       "    </tr>\n",
       "  </tbody>\n",
       "</table>\n",
       "</div>"
      ],
      "text/plain": [
       "                   D         C         B         A\n",
       "2019-09-09 -0.525705 -2.807729 -1.085372  0.918923\n",
       "2019-09-10 -1.146470  0.432294 -0.159099  0.971745\n",
       "2019-09-11 -0.967473 -0.871206  0.156285  2.374554\n",
       "2019-09-12 -1.153948  1.840475  1.349779  0.148116\n",
       "2019-09-13 -0.100789 -1.147536  0.606982  0.237009\n",
       "2019-09-14  1.076644 -0.100014 -0.120434  2.677144"
      ]
     },
     "execution_count": 19,
     "metadata": {},
     "output_type": "execute_result"
    }
   ],
   "source": [
    "df.sort_index(axis=1, ascending=False)"
   ]
  },
  {
   "cell_type": "code",
   "execution_count": 21,
   "metadata": {},
   "outputs": [
    {
     "data": {
      "text/html": [
       "<div>\n",
       "<style scoped>\n",
       "    .dataframe tbody tr th:only-of-type {\n",
       "        vertical-align: middle;\n",
       "    }\n",
       "\n",
       "    .dataframe tbody tr th {\n",
       "        vertical-align: top;\n",
       "    }\n",
       "\n",
       "    .dataframe thead th {\n",
       "        text-align: right;\n",
       "    }\n",
       "</style>\n",
       "<table border=\"1\" class=\"dataframe\">\n",
       "  <thead>\n",
       "    <tr style=\"text-align: right;\">\n",
       "      <th></th>\n",
       "      <th>A</th>\n",
       "      <th>B</th>\n",
       "      <th>C</th>\n",
       "      <th>D</th>\n",
       "    </tr>\n",
       "  </thead>\n",
       "  <tbody>\n",
       "    <tr>\n",
       "      <th>2019-09-09</th>\n",
       "      <td>0.918923</td>\n",
       "      <td>-1.085372</td>\n",
       "      <td>-2.807729</td>\n",
       "      <td>-0.525705</td>\n",
       "    </tr>\n",
       "    <tr>\n",
       "      <th>2019-09-10</th>\n",
       "      <td>0.971745</td>\n",
       "      <td>-0.159099</td>\n",
       "      <td>0.432294</td>\n",
       "      <td>-1.146470</td>\n",
       "    </tr>\n",
       "    <tr>\n",
       "      <th>2019-09-14</th>\n",
       "      <td>2.677144</td>\n",
       "      <td>-0.120434</td>\n",
       "      <td>-0.100014</td>\n",
       "      <td>1.076644</td>\n",
       "    </tr>\n",
       "    <tr>\n",
       "      <th>2019-09-11</th>\n",
       "      <td>2.374554</td>\n",
       "      <td>0.156285</td>\n",
       "      <td>-0.871206</td>\n",
       "      <td>-0.967473</td>\n",
       "    </tr>\n",
       "    <tr>\n",
       "      <th>2019-09-13</th>\n",
       "      <td>0.237009</td>\n",
       "      <td>0.606982</td>\n",
       "      <td>-1.147536</td>\n",
       "      <td>-0.100789</td>\n",
       "    </tr>\n",
       "    <tr>\n",
       "      <th>2019-09-12</th>\n",
       "      <td>0.148116</td>\n",
       "      <td>1.349779</td>\n",
       "      <td>1.840475</td>\n",
       "      <td>-1.153948</td>\n",
       "    </tr>\n",
       "  </tbody>\n",
       "</table>\n",
       "</div>"
      ],
      "text/plain": [
       "                   A         B         C         D\n",
       "2019-09-09  0.918923 -1.085372 -2.807729 -0.525705\n",
       "2019-09-10  0.971745 -0.159099  0.432294 -1.146470\n",
       "2019-09-14  2.677144 -0.120434 -0.100014  1.076644\n",
       "2019-09-11  2.374554  0.156285 -0.871206 -0.967473\n",
       "2019-09-13  0.237009  0.606982 -1.147536 -0.100789\n",
       "2019-09-12  0.148116  1.349779  1.840475 -1.153948"
      ]
     },
     "execution_count": 21,
     "metadata": {},
     "output_type": "execute_result"
    }
   ],
   "source": [
    "df.sort_values(by='B')"
   ]
  },
  {
   "cell_type": "code",
   "execution_count": 38,
   "metadata": {},
   "outputs": [
    {
     "data": {
      "text/html": [
       "<div>\n",
       "<style scoped>\n",
       "    .dataframe tbody tr th:only-of-type {\n",
       "        vertical-align: middle;\n",
       "    }\n",
       "\n",
       "    .dataframe tbody tr th {\n",
       "        vertical-align: top;\n",
       "    }\n",
       "\n",
       "    .dataframe thead th {\n",
       "        text-align: right;\n",
       "    }\n",
       "</style>\n",
       "<table border=\"1\" class=\"dataframe\">\n",
       "  <thead>\n",
       "    <tr style=\"text-align: right;\">\n",
       "      <th></th>\n",
       "      <th>A</th>\n",
       "      <th>B</th>\n",
       "      <th>C</th>\n",
       "      <th>D</th>\n",
       "    </tr>\n",
       "  </thead>\n",
       "  <tbody>\n",
       "    <tr>\n",
       "      <th>2019-09-09</th>\n",
       "      <td>0.918923</td>\n",
       "      <td>-1.085372</td>\n",
       "      <td>-2.807729</td>\n",
       "      <td>-0.525705</td>\n",
       "    </tr>\n",
       "    <tr>\n",
       "      <th>2019-09-10</th>\n",
       "      <td>0.971745</td>\n",
       "      <td>-0.159099</td>\n",
       "      <td>0.432294</td>\n",
       "      <td>-1.146470</td>\n",
       "    </tr>\n",
       "    <tr>\n",
       "      <th>2019-09-11</th>\n",
       "      <td>2.374554</td>\n",
       "      <td>0.156285</td>\n",
       "      <td>-0.871206</td>\n",
       "      <td>-0.967473</td>\n",
       "    </tr>\n",
       "    <tr>\n",
       "      <th>2019-09-12</th>\n",
       "      <td>0.148116</td>\n",
       "      <td>1.349779</td>\n",
       "      <td>1.840475</td>\n",
       "      <td>-1.153948</td>\n",
       "    </tr>\n",
       "    <tr>\n",
       "      <th>2019-09-13</th>\n",
       "      <td>0.237009</td>\n",
       "      <td>0.606982</td>\n",
       "      <td>-1.147536</td>\n",
       "      <td>-0.100789</td>\n",
       "    </tr>\n",
       "    <tr>\n",
       "      <th>2019-09-14</th>\n",
       "      <td>2.677144</td>\n",
       "      <td>-0.120434</td>\n",
       "      <td>-0.100014</td>\n",
       "      <td>1.076644</td>\n",
       "    </tr>\n",
       "  </tbody>\n",
       "</table>\n",
       "</div>"
      ],
      "text/plain": [
       "                   A         B         C         D\n",
       "2019-09-09  0.918923 -1.085372 -2.807729 -0.525705\n",
       "2019-09-10  0.971745 -0.159099  0.432294 -1.146470\n",
       "2019-09-11  2.374554  0.156285 -0.871206 -0.967473\n",
       "2019-09-12  0.148116  1.349779  1.840475 -1.153948\n",
       "2019-09-13  0.237009  0.606982 -1.147536 -0.100789\n",
       "2019-09-14  2.677144 -0.120434 -0.100014  1.076644"
      ]
     },
     "execution_count": 38,
     "metadata": {},
     "output_type": "execute_result"
    }
   ],
   "source": [
    "df"
   ]
  },
  {
   "cell_type": "code",
   "execution_count": 51,
   "metadata": {},
   "outputs": [
    {
     "data": {
      "text/plain": [
       "0.9189228800059172"
      ]
     },
     "execution_count": 51,
     "metadata": {},
     "output_type": "execute_result"
    }
   ],
   "source": [
    "df.iat[0,0]"
   ]
  },
  {
   "cell_type": "code",
   "execution_count": null,
   "metadata": {},
   "outputs": [],
   "source": []
  }
 ],
 "metadata": {
  "kernelspec": {
   "display_name": "Python 3",
   "language": "python",
   "name": "python3"
  },
  "language_info": {
   "codemirror_mode": {
    "name": "ipython",
    "version": 3
   },
   "file_extension": ".py",
   "mimetype": "text/x-python",
   "name": "python",
   "nbconvert_exporter": "python",
   "pygments_lexer": "ipython3",
   "version": "3.7.3"
  }
 },
 "nbformat": 4,
 "nbformat_minor": 2
}
