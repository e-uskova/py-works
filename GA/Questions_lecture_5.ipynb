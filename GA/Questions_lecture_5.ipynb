{
 "cells": [
  {
   "cell_type": "code",
   "execution_count": 11,
   "metadata": {},
   "outputs": [],
   "source": [
    "# population - полученное множество решений\n",
    "# optimal    - множество решений, оптимальных по Парето\n",
    "# N          - размерность пространства"
   ]
  },
  {
   "cell_type": "code",
   "execution_count": 12,
   "metadata": {},
   "outputs": [],
   "source": [
    "# Число полученных решений \n",
    "def number_of_solutions(population):\n",
    "    return len(population)"
   ]
  },
  {
   "cell_type": "code",
   "execution_count": 13,
   "metadata": {},
   "outputs": [],
   "source": [
    "# Отношение недоминируемых решений\n",
    "def ratio_of_nondominant(population, optimal):\n",
    "    number_of_opt = len(set(population).intersection(set(optimal)))\n",
    "    return number_of_opt / len(population)"
   ]
  },
  {
   "cell_type": "code",
   "execution_count": 14,
   "metadata": {},
   "outputs": [],
   "source": [
    "# расстояние между решениями\n",
    "def distance(a, b):\n",
    "    result = 0\n",
    "    for i in range(N):\n",
    "        result += abs(a[i] - b[i])\n",
    "    return result\n",
    "\n",
    "# Среднее расстояние\n",
    "def mean_distance(population, optimal):\n",
    "    result = 0\n",
    "    for individ, opt_individ in zip(population, optimal):\n",
    "        result += distance(individ, opt_individ)\n",
    "    return result / len(population)"
   ]
  },
  {
   "cell_type": "code",
   "execution_count": null,
   "metadata": {},
   "outputs": [],
   "source": []
  },
  {
   "cell_type": "code",
   "execution_count": null,
   "metadata": {},
   "outputs": [],
   "source": []
  }
 ],
 "metadata": {
  "kernelspec": {
   "display_name": "Python 3",
   "language": "python",
   "name": "python3"
  },
  "language_info": {
   "codemirror_mode": {
    "name": "ipython",
    "version": 3
   },
   "file_extension": ".py",
   "mimetype": "text/x-python",
   "name": "python",
   "nbconvert_exporter": "python",
   "pygments_lexer": "ipython3",
   "version": "3.8.6"
  }
 },
 "nbformat": 4,
 "nbformat_minor": 4
}
