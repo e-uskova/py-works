{
 "cells": [
  {
   "cell_type": "code",
   "execution_count": 1,
   "metadata": {},
   "outputs": [],
   "source": [
    "import numpy as np\n",
    "from math import *\n",
    "import random\n",
    "import time\n",
    "import matplotlib.pyplot as plt\n",
    "%matplotlib inline"
   ]
  },
  {
   "cell_type": "code",
   "execution_count": 2,
   "metadata": {},
   "outputs": [],
   "source": [
    "def fit(x):\n",
    "    if ((x > -0.1) and (x < 0.1)):\n",
    "        f = -10\n",
    "    else:\n",
    "        f = cos(x - 0.5) / abs(x)\n",
    "    return f\n",
    "#     return (1.85 - x) * cos(3.5 * x - 0.5)"
   ]
  },
  {
   "cell_type": "code",
   "execution_count": 3,
   "metadata": {},
   "outputs": [],
   "source": [
    "def bintodec(x):\n",
    "    d = 0\n",
    "    for i, x_i in enumerate(x):\n",
    "        d += 2 ** (len(x) - i - 1) * x_i\n",
    "    r = a + d * (b - a) / (2 ** len(x) - 1)\n",
    "    return round(r, 2)"
   ]
  },
  {
   "cell_type": "code",
   "execution_count": 4,
   "metadata": {},
   "outputs": [],
   "source": [
    "def init(n, l=5):\n",
    "    return [[random.randint(0, 1) for _ in range(l)] for _ in range(n)]"
   ]
  },
  {
   "cell_type": "code",
   "execution_count": 5,
   "metadata": {},
   "outputs": [],
   "source": [
    "def reproduction(pop):\n",
    "    pop_p = [fit(bintodec(ch)) for ch in pop]\n",
    "    ch_p = [p / sum(pop_p) for p in pop_p]\n",
    "    res = random.choices(pop, weights=ch_p, k=n)\n",
    "    return res"
   ]
  },
  {
   "cell_type": "code",
   "execution_count": 6,
   "metadata": {},
   "outputs": [],
   "source": [
    "def crossingover(pop):\n",
    "    for i in range(0, n, 2):\n",
    "        if random.choices([True, False], weights=[p_c, 1 - p_c], k=1)[0]:\n",
    "            k = random.randint(1, l-1)\n",
    "            pop[i], pop[i + 1] = pop[i][:k] + pop[i + 1][k:], pop[i + 1][:k] + pop[i][k:]\n",
    "    return pop"
   ]
  },
  {
   "cell_type": "code",
   "execution_count": 7,
   "metadata": {},
   "outputs": [],
   "source": [
    "def mutation(pop):\n",
    "    for cr in pop:\n",
    "        if random.choices([True, False], weights=[p_m, 1 - p_m], k=1)[0]:\n",
    "            k = random.randint(1, l) - 1\n",
    "            cr[k] = 1 if cr[k] == 0 else 0\n",
    "    return pop"
   ]
  },
  {
   "cell_type": "code",
   "execution_count": 8,
   "metadata": {},
   "outputs": [],
   "source": [
    "def reduction(pop):\n",
    "    fit_pop = [fit(bintodec(ch)) for ch in pop]\n",
    "    fit_sorted = sorted(range(len(pop)), key=fit_pop.__getitem__)\n",
    "    new_pop = []\n",
    "    for i in fit_sorted[-n:]:\n",
    "        new_pop.append(pop[i])\n",
    "    return new_pop, fit_pop[fit_sorted[-1]]"
   ]
  },
  {
   "cell_type": "markdown",
   "metadata": {},
   "source": [
    "время поиска, число поколений, точность нахождения решения"
   ]
  },
  {
   "cell_type": "markdown",
   "metadata": {},
   "source": [
    "число особей в популяции, вероятность кроссинговера, вероятность мутации"
   ]
  },
  {
   "cell_type": "code",
   "execution_count": 9,
   "metadata": {},
   "outputs": [],
   "source": [
    "a, b = -10, 10\n",
    "sup = fit(0.10001)"
   ]
  },
  {
   "cell_type": "markdown",
   "metadata": {},
   "source": [
    "### Зависимость от числа особей в популяции"
   ]
  },
  {
   "cell_type": "code",
   "execution_count": 55,
   "metadata": {},
   "outputs": [],
   "source": [
    "n_list = [2 ** i for i in range(2, 12)]\n",
    "l_list = [i for i in range(2, 12)]\n",
    "\n",
    "# p_c_list = [0.2, 0.5, 0.8]\n",
    "\n",
    "# p_m_list = [0.001, 0.1, 0.5]"
   ]
  },
  {
   "cell_type": "code",
   "execution_count": 56,
   "metadata": {},
   "outputs": [
    {
     "data": {
      "text/plain": [
       "[5.0,\n",
       " 2.5,\n",
       " 1.25,\n",
       " 0.625,\n",
       " 0.3125,\n",
       " 0.15625,\n",
       " 0.078125,\n",
       " 0.0390625,\n",
       " 0.01953125,\n",
       " 0.009765625]"
      ]
     },
     "execution_count": 56,
     "metadata": {},
     "output_type": "execute_result"
    }
   ],
   "source": [
    "n_iter = 100\n",
    "\n",
    "acc = [20 / (2 ** l) for l in l_list]\n",
    "\n",
    "p_c = 0.5\n",
    "p_m = 0.001\n",
    "\n",
    "acc"
   ]
  },
  {
   "cell_type": "code",
   "execution_count": 57,
   "metadata": {},
   "outputs": [
    {
     "name": "stdout",
     "output_type": "stream",
     "text": [
      "Wall time: 2.16 s\n"
     ]
    }
   ],
   "source": [
    "%%time\n",
    "res_t = []\n",
    "res_it = []\n",
    "res_er = []\n",
    "for n, l in zip(n_list, l_list):\n",
    "    start = time.time()\n",
    "    i = 0\n",
    "    k = 0\n",
    "    pop = init(n, l)\n",
    "    while i < n_iter:   \n",
    "        re_pop = reproduction(pop)\n",
    "        cr_pop = crossingover(re_pop)\n",
    "        pop += mutation(cr_pop)\n",
    "        pop, m = reduction(pop)\n",
    "        i += 1\n",
    "#         print(k)\n",
    "        if abs(bintodec(pop[-1]) - 0.1) < acc[k]:\n",
    "            break\n",
    "    k += 1\n",
    "    res_t.append(time.time() - start)\n",
    "    res_it.append(i)\n",
    "    res_er.append(abs(bintodec(pop[-1]) - 0.1))"
   ]
  },
  {
   "cell_type": "code",
   "execution_count": 58,
   "metadata": {},
   "outputs": [
    {
     "data": {
      "text/plain": [
       "Text(0.5, 1.0, 'Зависимость времени выполнения от размера популяции')"
      ]
     },
     "execution_count": 58,
     "metadata": {},
     "output_type": "execute_result"
    },
    {
     "data": {
      "image/png": "[encoded data removed]",
      "text/plain": [
       "<Figure size 432x288 with 1 Axes>"
      ]
     },
     "metadata": {
      "needs_background": "light"
     },
     "output_type": "display_data"
    }
   ],
   "source": [
    "plt.plot(range(2, len(res_t) + 2), res_t)\n",
    "plt.title('Зависимость времени выполнения от размера популяции')\n",
    "# plt.savefig(\"n_t.png\")"
   ]
  },
  {
   "cell_type": "code",
   "execution_count": 59,
   "metadata": {},
   "outputs": [
    {
     "data": {
      "text/plain": [
       "Text(0.5, 1.0, 'Зависимость количества итераций от размера популяции')"
      ]
     },
     "execution_count": 59,
     "metadata": {},
     "output_type": "execute_result"
    },
    {
     "data": {
      "image/png": "[encoded data removed]",
      "text/plain": [
       "<Figure size 432x288 with 1 Axes>"
      ]
     },
     "metadata": {
      "needs_background": "light"
     },
     "output_type": "display_data"
    }
   ],
   "source": [
    "plt.plot(range(2, len(res_it) + 2), res_it)\n",
    "plt.title('Зависимость количества итераций от размера популяции')\n",
    "# plt.savefig(\"n_it.png\")"
   ]
  },
  {
   "cell_type": "code",
   "execution_count": 60,
   "metadata": {},
   "outputs": [],
   "source": [
    "# res_it"
   ]
  },
  {
   "cell_type": "code",
   "execution_count": 61,
   "metadata": {},
   "outputs": [
    {
     "data": {
      "text/plain": [
       "Text(0.5, 1.0, 'Зависимость ошибки от размера популяции')"
      ]
     },
     "execution_count": 61,
     "metadata": {},
     "output_type": "execute_result"
    },
    {
     "data": {
      "image/png": "[encoded data removed]",
      "text/plain": [
       "<Figure size 432x288 with 1 Axes>"
      ]
     },
     "metadata": {
      "needs_background": "light"
     },
     "output_type": "display_data"
    }
   ],
   "source": [
    "plt.plot(range(2, len(res_er) + 2), res_er)\n",
    "plt.title('Зависимость ошибки от размера популяции')\n",
    "# plt.savefig(\"n_er.png\")"
   ]
  },
  {
   "cell_type": "code",
   "execution_count": 17,
   "metadata": {},
   "outputs": [],
   "source": [
    "# res_er"
   ]
  },
  {
   "cell_type": "code",
   "execution_count": null,
   "metadata": {},
   "outputs": [],
   "source": []
  },
  {
   "cell_type": "markdown",
   "metadata": {},
   "source": [
    "### Зависимость от вероятности кроссинговера"
   ]
  },
  {
   "cell_type": "code",
   "execution_count": 18,
   "metadata": {},
   "outputs": [],
   "source": [
    "p_c_list = [0.1 * i for i in range(1, 11)]"
   ]
  },
  {
   "cell_type": "code",
   "execution_count": 19,
   "metadata": {},
   "outputs": [],
   "source": [
    "n, l = 256, 8\n",
    "\n",
    "n_iter = 100\n",
    "\n",
    "acc = 20 / (2 ** l)\n",
    "\n",
    "p_m = 0.001"
   ]
  },
  {
   "cell_type": "code",
   "execution_count": 20,
   "metadata": {},
   "outputs": [
    {
     "data": {
      "text/plain": [
       "0.078125"
      ]
     },
     "execution_count": 20,
     "metadata": {},
     "output_type": "execute_result"
    }
   ],
   "source": [
    "acc"
   ]
  },
  {
   "cell_type": "code",
   "execution_count": 21,
   "metadata": {},
   "outputs": [
    {
     "name": "stdout",
     "output_type": "stream",
     "text": [
      "Wall time: 2.14 s\n"
     ]
    }
   ],
   "source": [
    "%%time\n",
    "res_t = []\n",
    "res_it = []\n",
    "res_er = []\n",
    "for p_c in p_c_list:\n",
    "    start = time.time()\n",
    "    i = 0\n",
    "    pop = init(n, l)\n",
    "    while i < n_iter:   \n",
    "        re_pop = reproduction(pop)\n",
    "        cr_pop = crossingover(re_pop)\n",
    "        pop += mutation(cr_pop)\n",
    "        pop, m = reduction(pop)\n",
    "        i += 1\n",
    "        if abs(bintodec(pop[-1]) - 0.1) < acc:\n",
    "            break\n",
    "    res_t.append(time.time() - start)\n",
    "    res_it.append(i)\n",
    "    res_er.append(abs(bintodec(pop[-1]) - 0.1))"
   ]
  },
  {
   "cell_type": "code",
   "execution_count": 22,
   "metadata": {},
   "outputs": [
    {
     "data": {
      "text/plain": [
       "Text(0.5, 1.0, 'Зависимость времени выполнения от вероятности кроссинговера')"
      ]
     },
     "execution_count": 22,
     "metadata": {},
     "output_type": "execute_result"
    },
    {
     "data": {
      "image/png": "[encoded data removed]",
      "text/plain": [
       "<Figure size 432x288 with 1 Axes>"
      ]
     },
     "metadata": {
      "needs_background": "light"
     },
     "output_type": "display_data"
    }
   ],
   "source": [
    "plt.plot(range(1, len(res_t) + 1), res_t)\n",
    "plt.title('Зависимость времени выполнения от вероятности кроссинговера')\n",
    "# plt.savefig(\"p_c_t.png\")"
   ]
  },
  {
   "cell_type": "code",
   "execution_count": 23,
   "metadata": {},
   "outputs": [
    {
     "data": {
      "text/plain": [
       "Text(0.5, 1.0, 'Зависимость количества итераций от вероятности кроссинговера')"
      ]
     },
     "execution_count": 23,
     "metadata": {},
     "output_type": "execute_result"
    },
    {
     "data": {
      "image/png": "[encoded data removed]",
      "text/plain": [
       "<Figure size 432x288 with 1 Axes>"
      ]
     },
     "metadata": {
      "needs_background": "light"
     },
     "output_type": "display_data"
    }
   ],
   "source": [
    "plt.plot(range(1, len(res_it) + 1), res_it)\n",
    "plt.title('Зависимость количества итераций от вероятности кроссинговера')\n",
    "# plt.savefig(\"c_p_it.png\")"
   ]
  },
  {
   "cell_type": "code",
   "execution_count": 24,
   "metadata": {},
   "outputs": [
    {
     "data": {
      "text/plain": [
       "Text(0.5, 1.0, 'Зависимость ошибки от вероятности кроссинговера')"
      ]
     },
     "execution_count": 24,
     "metadata": {},
     "output_type": "execute_result"
    },
    {
     "data": {
      "image/png": "[encoded data removed]",
      "text/plain": [
       "<Figure size 432x288 with 1 Axes>"
      ]
     },
     "metadata": {
      "needs_background": "light"
     },
     "output_type": "display_data"
    }
   ],
   "source": [
    "plt.plot(range(1, len(res_er) + 1), res_er)\n",
    "plt.title('Зависимость ошибки от вероятности кроссинговера')\n",
    "# plt.savefig(\"c_p_er.png\")"
   ]
  },
  {
   "cell_type": "code",
   "execution_count": 25,
   "metadata": {},
   "outputs": [],
   "source": [
    "# res_er"
   ]
  },
  {
   "cell_type": "code",
   "execution_count": 26,
   "metadata": {},
   "outputs": [],
   "source": [
    "# bintodec(pop[-1])"
   ]
  },
  {
   "cell_type": "code",
   "execution_count": null,
   "metadata": {},
   "outputs": [],
   "source": []
  },
  {
   "cell_type": "markdown",
   "metadata": {},
   "source": [
    "### Зависимость от вероятности мутации"
   ]
  },
  {
   "cell_type": "code",
   "execution_count": 27,
   "metadata": {},
   "outputs": [],
   "source": [
    "p_m_list = [0.001, 0.01, 0.1, 0.2, 0.5, 0.8, 1]"
   ]
  },
  {
   "cell_type": "code",
   "execution_count": 28,
   "metadata": {},
   "outputs": [],
   "source": [
    "n, l = 256, 8\n",
    "\n",
    "n_iter = 100\n",
    "\n",
    "acc = 20 / (2 ** l)\n",
    "\n",
    "p_c = 1"
   ]
  },
  {
   "cell_type": "code",
   "execution_count": 29,
   "metadata": {},
   "outputs": [
    {
     "data": {
      "text/plain": [
       "0.078125"
      ]
     },
     "execution_count": 29,
     "metadata": {},
     "output_type": "execute_result"
    }
   ],
   "source": [
    "acc"
   ]
  },
  {
   "cell_type": "code",
   "execution_count": 30,
   "metadata": {},
   "outputs": [
    {
     "name": "stdout",
     "output_type": "stream",
     "text": [
      "Wall time: 183 ms\n"
     ]
    }
   ],
   "source": [
    "%%time\n",
    "res_t = []\n",
    "res_it = []\n",
    "res_er = []\n",
    "init_pop = []\n",
    "end_pop = []\n",
    "for p_m in p_m_list:\n",
    "    start = time.time()\n",
    "    i = 0\n",
    "    pop = init(n, l)\n",
    "    init_pop.append(pop)\n",
    "    while i < n_iter:   \n",
    "        re_pop = reproduction(pop)\n",
    "        cr_pop = crossingover(re_pop)\n",
    "        pop += mutation(cr_pop)\n",
    "        pop, m = reduction(pop)\n",
    "        i += 1\n",
    "#         print(abs(m - sup), abs(fit(0.1 + acc) - sup))\n",
    "        if abs(bintodec(pop[-1]) - 0.1) < acc:\n",
    "            break\n",
    "    end_pop.append(pop)\n",
    "    res_t.append(time.time() - start)\n",
    "    res_it.append(i)\n",
    "    res_er.append(abs(bintodec(pop[-1]) - 0.1))"
   ]
  },
  {
   "cell_type": "code",
   "execution_count": 31,
   "metadata": {},
   "outputs": [
    {
     "data": {
      "text/plain": [
       "Text(0.5, 1.0, 'Зависимость времени выполнения от вероятности мутации')"
      ]
     },
     "execution_count": 31,
     "metadata": {},
     "output_type": "execute_result"
    },
    {
     "data": {
      "image/png": "[encoded data removed]",
      "text/plain": [
       "<Figure size 432x288 with 1 Axes>"
      ]
     },
     "metadata": {
      "needs_background": "light"
     },
     "output_type": "display_data"
    }
   ],
   "source": [
    "plt.plot(range(1, len(res_t) + 1), res_t)\n",
    "plt.title('Зависимость времени выполнения от вероятности мутации')\n",
    "# plt.savefig(\"c_m_t.png\")"
   ]
  },
  {
   "cell_type": "code",
   "execution_count": 32,
   "metadata": {},
   "outputs": [
    {
     "data": {
      "text/plain": [
       "Text(0.5, 1.0, 'Зависимость количества итераций от вероятности мутации')"
      ]
     },
     "execution_count": 32,
     "metadata": {},
     "output_type": "execute_result"
    },
    {
     "data": {
      "image/png": "[encoded data removed]",
      "text/plain": [
       "<Figure size 432x288 with 1 Axes>"
      ]
     },
     "metadata": {
      "needs_background": "light"
     },
     "output_type": "display_data"
    }
   ],
   "source": [
    "plt.plot(range(1, len(res_it) + 1), res_it)\n",
    "plt.title('Зависимость количества итераций от вероятности мутации')\n",
    "# plt.savefig(\"c_m_it.png\")"
   ]
  },
  {
   "cell_type": "code",
   "execution_count": 33,
   "metadata": {},
   "outputs": [
    {
     "data": {
      "text/plain": [
       "Text(0.5, 1.0, 'Зависимость ошибки от вероятности мутации')"
      ]
     },
     "execution_count": 33,
     "metadata": {},
     "output_type": "execute_result"
    },
    {
     "data": {
      "image/png": "[encoded data removed]",
      "text/plain": [
       "<Figure size 432x288 with 1 Axes>"
      ]
     },
     "metadata": {
      "needs_background": "light"
     },
     "output_type": "display_data"
    }
   ],
   "source": [
    "plt.plot(range(1, len(res_er) + 1), res_er)\n",
    "plt.title('Зависимость ошибки от вероятности мутации')\n",
    "# plt.savefig(\"c_m_er.png\")"
   ]
  },
  {
   "cell_type": "code",
   "execution_count": 34,
   "metadata": {},
   "outputs": [],
   "source": [
    "# res_er"
   ]
  },
  {
   "cell_type": "code",
   "execution_count": 35,
   "metadata": {},
   "outputs": [],
   "source": [
    "# bintodec(pop[-1])"
   ]
  },
  {
   "cell_type": "code",
   "execution_count": null,
   "metadata": {},
   "outputs": [],
   "source": []
  },
  {
   "cell_type": "code",
   "execution_count": null,
   "metadata": {},
   "outputs": [],
   "source": []
  },
  {
   "cell_type": "code",
   "execution_count": 68,
   "metadata": {},
   "outputs": [
    {
     "data": {
      "text/plain": [
       "0.078125"
      ]
     },
     "execution_count": 68,
     "metadata": {},
     "output_type": "execute_result"
    }
   ],
   "source": [
    "n, l = 256, 8\n",
    "n_iter = 100\n",
    "p_c = 0.5\n",
    "p_m = 0.001\n",
    "acc = 20 / (2 ** l)\n",
    "acc"
   ]
  },
  {
   "cell_type": "code",
   "execution_count": 66,
   "metadata": {},
   "outputs": [
    {
     "name": "stdout",
     "output_type": "stream",
     "text": [
      "10\n"
     ]
    }
   ],
   "source": [
    "pop = init(n, l)\n",
    "pops = [pop]\n",
    "for i in range(1, n_iter + 1):\n",
    "    k = 1\n",
    "    re_pop = reproduction(pop)\n",
    "    cr_pop = crossingover(re_pop)\n",
    "    pop += mutation(cr_pop)\n",
    "    pop, m = reduction(pop)\n",
    "    pops.append(pop)\n",
    "#     if abs(bintodec(pop[-1]) - 0.1) < acc:\n",
    "#         print(i)\n",
    "#         break\n",
    "    for j in range(1, len(pop)):\n",
    "        if pop[j] == pop[j - 1]:\n",
    "            k += 1\n",
    "    if k == len(pop):\n",
    "        print(i)\n",
    "        break\n",
    "        "
   ]
  },
  {
   "cell_type": "code",
   "execution_count": null,
   "metadata": {},
   "outputs": [],
   "source": []
  },
  {
   "cell_type": "code",
   "execution_count": null,
   "metadata": {},
   "outputs": [],
   "source": []
  },
  {
   "cell_type": "code",
   "execution_count": null,
   "metadata": {},
   "outputs": [],
   "source": []
  },
  {
   "cell_type": "code",
   "execution_count": null,
   "metadata": {},
   "outputs": [],
   "source": []
  },
  {
   "cell_type": "code",
   "execution_count": 67,
   "metadata": {},
   "outputs": [
    {
     "data": {
      "text/plain": [
       "<matplotlib.collections.PathCollection at 0x200facf14c0>"
      ]
     },
     "execution_count": 67,
     "metadata": {},
     "output_type": "execute_result"
    },
    {
     "data": {
      "image/png": "[encoded data removed]",
      "text/plain": [
       "<Figure size 432x288 with 1 Axes>"
      ]
     },
     "metadata": {
      "needs_background": "light"
     },
     "output_type": "display_data"
    }
   ],
   "source": [
    "plt.ylim(-2, 10)\n",
    "x = np.arange(-10, 10, 0.01)\n",
    "x = sorted(x)\n",
    "y = [fitness(x_i) for x_i in x]\n",
    "plt.plot(x, y, color='green')\n",
    "plt.hlines(fitness(0.1), -10, 10)\n",
    "dots_x = [bintodec(ch) for ch in pops[0]]\n",
    "dots_y = [fit(dot) for dot in dots_x]\n",
    "plt.scatter(dots_x, dots_y, marker='x', color='yellow')\n",
    "# dots_x = [bintodec(ch) for ch in pops[1]]\n",
    "# dots_y = [fit(dot) for dot in dots_x]\n",
    "# plt.scatter(dots_x, dots_y, marker='x', color='orange')\n",
    "dots_x = [bintodec(ch) for ch in pops[2]]\n",
    "dots_y = [fit(dot) for dot in dots_x]\n",
    "plt.scatter(dots_x, dots_y, marker='x', color='orange')\n",
    "# dots_x = [bintodec(ch) for ch in pops[3]]\n",
    "# dots_y = [fit(dot) for dot in dots_x]\n",
    "# plt.scatter(dots_x, dots_y, marker='x', color='orange')\n",
    "dots_x = [bintodec(ch) for ch in pops[-1]]\n",
    "dots_y = [fit(dot) for dot in dots_x]\n",
    "plt.scatter(dots_x, dots_y, marker='x', c='red')\n",
    "# plt.savefig('pop_pretty.png')"
   ]
  },
  {
   "cell_type": "code",
   "execution_count": null,
   "metadata": {},
   "outputs": [],
   "source": []
  },
  {
   "cell_type": "code",
   "execution_count": null,
   "metadata": {},
   "outputs": [],
   "source": []
  },
  {
   "cell_type": "code",
   "execution_count": 39,
   "metadata": {},
   "outputs": [],
   "source": [
    "def fitness(x):\n",
    "    return cos(x - 0.5) / abs(x)\n",
    "#     return (1.85 - x) * cos(3.5 * x - 0.5)"
   ]
  },
  {
   "cell_type": "code",
   "execution_count": null,
   "metadata": {},
   "outputs": [],
   "source": []
  },
  {
   "cell_type": "code",
   "execution_count": null,
   "metadata": {},
   "outputs": [],
   "source": []
  },
  {
   "cell_type": "code",
   "execution_count": null,
   "metadata": {},
   "outputs": [],
   "source": []
  },
  {
   "cell_type": "code",
   "execution_count": 116,
   "metadata": {},
   "outputs": [
    {
     "data": {
      "text/plain": [
       "5"
      ]
     },
     "execution_count": 116,
     "metadata": {},
     "output_type": "execute_result"
    }
   ],
   "source": [
    "acc = 1.25\n",
    "n = log2(1 / acc * (b - a)) // 1 + 1\n",
    "int(n)"
   ]
  },
  {
   "cell_type": "code",
   "execution_count": 118,
   "metadata": {},
   "outputs": [
    {
     "data": {
      "text/plain": [
       "1.25"
      ]
     },
     "execution_count": 118,
     "metadata": {},
     "output_type": "execute_result"
    }
   ],
   "source": [
    "n = 4\n",
    "acc = (b - a) / (2 ** n)\n",
    "acc"
   ]
  },
  {
   "cell_type": "code",
   "execution_count": null,
   "metadata": {},
   "outputs": [],
   "source": []
  },
  {
   "cell_type": "code",
   "execution_count": null,
   "metadata": {},
   "outputs": [],
   "source": []
  },
  {
   "cell_type": "code",
   "execution_count": null,
   "metadata": {},
   "outputs": [],
   "source": []
  }
 ],
 "metadata": {
  "kernelspec": {
   "display_name": "Python 3",
   "language": "python",
   "name": "python3"
  },
  "language_info": {
   "codemirror_mode": {
    "name": "ipython",
    "version": 3
   },
   "file_extension": ".py",
   "mimetype": "text/x-python",
   "name": "python",
   "nbconvert_exporter": "python",
   "pygments_lexer": "ipython3",
   "version": "3.8.6"
  }
 },
 "nbformat": 4,
 "nbformat_minor": 4
}
