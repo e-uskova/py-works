{
 "cells": [
  {
   "cell_type": "markdown",
   "metadata": {},
   "source": [
    "## Задание\n"
   ]
  },
  {
   "cell_type": "markdown",
   "metadata": {},
   "source": [
    "Реализуйте класс разреженной матрицы `CooSparseMatrix` с координатным форматом хранения. В памяти должны хранится только ненулевые элементы матрицы!\n",
    "\n",
    "1. Метод `__init__` класса принимает два аргумента:\n",
    "\n",
    "* ijx_list — список кортежей (i, j, x), i,j - положение элемента в матрице, x - значение элемента.\n",
    "* shape — кортеж из двух элементов, размер матрицы\n",
    "\n",
    "  Если в списке встречаются одинаковые индексы, необходимо выбросить исключение TypeError\n",
    "\n",
    "2. Необходимо реализовать простую индексацию матриц. При вызове matrix[i] необходимо вернуть объект `CooSparseMatrix`, соответствующий i-ой строки исходной матрице и имеющий размер 1 на количество столбцов в матрице. При вызове matrix[i, j] необходимо вернуть [i, j] элемент матрицы. Также реализуйте возможность присвоить [i,j] элементу матрицы вещественное число.\n",
    "\n",
    "   *Замечание. Также рекомендуется реализовать для себя функцию или метод to_array, преобразующий разреженную матрицу в numpy ndarray.*\n",
    "   \n",
    "\n",
    "3. Добавьте в класс `CooSparseMatrix` возможность сложения и вычитания матриц, а также умножения матриц на число. При сложнение и вычитании матриц разного размера должно выбрасываться исключение `TypeError`.\n",
    "\n",
    "\n",
    "4. Добавьте в класс `CooSparseMatrix` следующие атрибуты:\n",
    "\n",
    "    4.1. Атрибут `shape`, задающий размер массива\n",
    "\n",
    "    Значение атрибута — кортеж из двух целых положительных чисел. При попытке присвоить атрибуту что-либо другое, должно выбрасываться исключение `TypeError`. При попытке присвоить атрибуту размер, не соответствующий существующему (например, попытаться сменить размер матрицы с (2, 5) на (3, 4)) должно выбрасываться исключение `TypeError`. При корректном присваивании, необходимо изменить размер матрицы согласно C-order.\n",
    "\n",
    "    4.2. Атрибут `T`, возвращающий транспонированную матрицу. При попытке присвоить что-либо атрибуту должно выбрасываться исключение `AttributeError`. Обращение к атрибуту не должно влиять на исходную матрицу!\n"
   ]
  },
  {
   "cell_type": "markdown",
   "metadata": {},
   "source": [
    "## Краткие теоретические сведения"
   ]
  },
  {
   "cell_type": "markdown",
   "metadata": {},
   "source": [
    "Разреженная матрица — матрица с преимущественно нулевыми элементами. В противном случае, если бо́льшая часть элементов матрицы ненулевые, матрица считается плотной."
   ]
  },
  {
   "cell_type": "markdown",
   "metadata": {},
   "source": [
    "### Форматы хранения разреженной матрицы\n",
    "\n",
    "Существует несколько способов хранения (представления) разреженных матриц, отличающиеся:\n",
    "\n",
    "удобством изменения структуры матрицы (активно используется косвенная адресация) - это структуры в виде списков и словарей.\n",
    "скоростью доступа к элементам и возможной оптимизацией матричных вычислений (чаще используются плотные блоки - массивы, увеличивая локальность доступа к памяти).\n",
    "\n",
    "* **Словарь по ключам (DOK - Dictionary of Keys)** строится как словарь, где ключ это пара (строка, столбец), а значение это соответствующий строке и столбцу элемент матрицы.\n",
    "\n",
    "* **Список списков (LIL - List of Lists)** строится как список строк, где строка это список узлов вида (столбец, значение).\n",
    "\n",
    "* **Список координат (COO - Coordinate list)** хранится список из элементов вида (строка, столбец, значение).\n",
    "\n",
    "\n",
    "#### Сжатое хранение строкой (CSR - compressed sparse row, CRS - compressed row storage, Йельский формат)\n",
    "\n",
    "Мы представляем исходную матрицу $M^{n\\times m}$, cодержащую $N_{NZ}$ ненулевых значений в виде трёх массивов:\n",
    "\n",
    "* массив значений - массив размера $N_{NZ}$, в котором хранятся ненулевые значения взятые подряд из первой непустой строки, затем идут значения из следующей непустой строки и т.д.\n",
    "* массив индексов столбцов - массив размера $N_{NZ}$ и хранит номера столбцов, соответствующих элементов из массива значений.\n",
    "* массив индексации строк - массив размера $n+1$ (кол_во_строк + 1), для индекса $i$ хранит количество ненулевых элементов в строках до $i-1$ включительно, стоит отметить что последний элемент массива индексации строк совпадает с $N_{NZ}$, а первый всегда равен $0$.\n",
    "\n",
    "Примеры:\n",
    "\n",
    "Пусть $M={\\begin{pmatrix}1&2&0\\\\0&4&0\\\\0&2&6\\end{pmatrix}}$, тогда\n",
    "\n",
    "массив_значений          = {1, 2, 4, 2, 6}\n",
    "\n",
    "массив_индексов_столбцов = {0, 1, 1, 1, 2}\n",
    "\n",
    "массив_индексации_строк  = {0, 2, 3, 5} -- в начале хранится 0, как запирающий элемент\n",
    "\n",
    "Пусть $M={\\begin{pmatrix}1&2&0&3\\\\0&0&4&0\\\\0&1&0&11\\end{pmatrix}}$, тогда\n",
    "\n",
    "массив_значений          = {1, 2, 3, 4, 1, 11}\n",
    "\n",
    "массив_индексов_столбцов = {0, 1, 3, 2, 1,  3}\n",
    "\n",
    "массив_индексации_строк  = {0, 3, 4, 6} -- в начале хранится 0, как запирающий элемент\n",
    "\n",
    "Для того, чтобы восстановить исходную матрицу нужно взять некоторое значение $v$ в первом массиве и соответствующий индекс $i_{v}:Arr_{values}[i_{v}]=v$, тогда номер столбца $n_{c}=Arr_{cols}[i_{v}]$, а номер строки $n_{r}$ находится, как наименьшее $n_{r}$, для которого $Arr_{rows}[n_{r}+1]\\geq i_{v}+1$.\n",
    "\n",
    "#### Сжатое хранение столбцом(CSС - compressed sparse column, CСS - compressed column storage)\n",
    "\n",
    "То же самое что и CRS, только строки и столбцы меняются ролями - значения храним по столбцам, по второму массиву можем определить строку, после подсчётов с третьим массивом - узнаём столбцы."
   ]
  },
  {
   "cell_type": "markdown",
   "metadata": {},
   "source": [
    "## Результаты выполнения работы\n",
    "\n",
    "Реализован класс разреженных матриц CooSparseMatrix с форматом хранения данных в виде списка координат.\n",
    "\n",
    "Класс содержит следующие методы: \n",
    "- **\\_\\_init__(self, ijx_list, shape, antirec=True)** - инициализация класса. \n",
    "    - ijx_list - список кортежей (i, j, x), i,j - положение элемента в матрице, x - значение элемента\n",
    "    - shape - кортеж из двух элементов, размер матрицы\n",
    "    - antirec - вспомогательный аргумент, используемый для избегания зацикливания)\n",
    "- **\\_\\_getitem__(self, index)** - получение значения по индексу\n",
    "    - index - индекс элемента. Если index - число, то возвращается строка матрицы под номером index в виде разреженной матрицы CooSparseMatrix размером (1, self.shape[1]). Если index - кортеж, возвращается значение матрицы, находящееся по указанному индексу.\n",
    "- **\\_\\_setitem__(self, key, value)** - установка значения по индексу\n",
    "    - key - кортеж из двух элементов, положение элемента в матрице (индекс)\n",
    "    - value - значение\n",
    "- **\\_\\_add__(self, other)** - прибавление матрицы\n",
    "    - other - прибавляемая матрица\n",
    "- **\\_\\_sub__(self, other)** - вычитание матрицы\n",
    "    - other - вычитаемая матрица\n",
    "- **\\_\\_mul__(self, other)** - умножение на число\n",
    "    - other - скаляр, на который происходит умножение\n",
    "\n",
    "Атрибуты класса:\n",
    "- **T** - транспонированная матрица\n",
    "- **shape** - размер матрицы"
   ]
  },
  {
   "cell_type": "code",
   "execution_count": 1,
   "metadata": {},
   "outputs": [],
   "source": [
    "\n",
    "class CooSparseMatrix:\n",
    "\n",
    "    def __init__(self, ijx_list, shape, antirec=True):\n",
    "        self.ijx_dict = {}\n",
    "        for i, j, x in ijx_list:\n",
    "            if (i, j) in self.ijx_dict:\n",
    "                raise TypeError\n",
    "            if (type(i) != int) or (type(j) != int):\n",
    "                raise TypeError\n",
    "            elif x != 0:\n",
    "                self.ijx_dict[(i, j)] = x\n",
    "        if ((type(shape) != tuple) or (len(shape) != 2) or\n",
    "                (type(shape[0]) != int) or (type(shape[1]) != int)):\n",
    "            raise TypeError\n",
    "        self.shape = shape\n",
    "        if antirec:\n",
    "            self.T = CooSparseMatrix([(key[1], key[0], self[key])\n",
    "                                     for key in list(self.ijx_dict.keys())],\n",
    "                                     (self.shape[1], self.shape[0]),\n",
    "                                     antirec=False)\n",
    "\n",
    "\n",
    "    def __getitem__(self, index):\n",
    "        if type(index) == int:\n",
    "            if index >= self.shape[0]:\n",
    "                raise TypeError\n",
    "            my_mtr = []\n",
    "            my_str = ()\n",
    "            for j in range(self.shape[1]):\n",
    "                if ((index, j) in self.ijx_dict):\n",
    "                    my_str = (index, j, self.ijx_dict[(index, j)])\n",
    "                else:\n",
    "                    my_str = (index, j, 0)\n",
    "                my_mtr.append(my_str)\n",
    "            return CooSparseMatrix(ijx_list=my_mtr, shape=(1, self.shape[1]))\n",
    "\n",
    "        elif type(index) == tuple:\n",
    "            if (index[0] >= self.shape[0]) or (index[1] >= self.shape[1]):\n",
    "                raise TypeError\n",
    "            if (index[0], index[1]) in self.ijx_dict:\n",
    "                return self.ijx_dict[index[0], index[1]]\n",
    "            else:\n",
    "                return 0\n",
    "\n",
    "        else:\n",
    "            raise TypeError\n",
    "\n",
    "    def __setitem__(self, key, value):\n",
    "        if value != 0:\n",
    "            self.ijx_dict[key] = value\n",
    "            self.T.ijx_dict[(key[1], key[0])] = value\n",
    "        elif key in self.ijx_dict:\n",
    "            del self.ijx_dict[key]\n",
    "\n",
    "    def __add__(self, other):\n",
    "        if self.shape != other.shape:\n",
    "            raise TypeError\n",
    "        else:\n",
    "            return CooSparseMatrix([key + (self[key] + other[key],) for key\n",
    "                                    in set(list(self.ijx_dict.keys()) +\n",
    "                                           list(other.ijx_dict.keys()))],\n",
    "                                   self.shape)\n",
    "\n",
    "    def __sub__(self, other):\n",
    "        if self.shape != other.shape:\n",
    "            raise TypeError\n",
    "        else:\n",
    "            return CooSparseMatrix([key + (self[key] - other[key],) for key\n",
    "                                    in set(list(self.ijx_dict.keys()) +\n",
    "                                           list(other.ijx_dict.keys()))],\n",
    "                                   self.shape)\n",
    "\n",
    "    def __mul__(self, other):\n",
    "        if type(other) != int:\n",
    "            raise TypeError\n",
    "        else:\n",
    "            return CooSparseMatrix([key + (self[key]*other,) for key\n",
    "                                    in list(self.ijx_dict.keys())], self.shape)\n",
    "\n",
    "    def __setattr__(self, name, value):\n",
    "        if name == 'T':\n",
    "            if 'T' in self.__dict__:\n",
    "                raise AttributeError\n",
    "        if name == 'shape':\n",
    "            if 'shape' in self.__dict__:\n",
    "                if ((type(value) != tuple) or (len(value) != 2) or\n",
    "                        (type(value[0]) != int) or (type(value[1]) != int)):\n",
    "                    raise TypeError\n",
    "                if (value[0] * value[1]) != (self.shape[0] * self.shape[1]):\n",
    "                    raise TypeError\n",
    "                else:\n",
    "                    new_dict = {}\n",
    "                    for key in list(self.ijx_dict.keys()):\n",
    "                        new_dict[divmod(key[0] * self.shape[1] + key[1],\n",
    "                                        value[1])] = self.ijx_dict[key]\n",
    "                    self.ijx_dict = new_dict.copy()\n",
    "                    self.__dict__[name] = value\n",
    "\n",
    "                    for key in list(self.ijx_dict.keys()):\n",
    "                        self.T.ijx_dict[(key[1], key[0])] = self[key]\n",
    "                        \n",
    "            else:\n",
    "                self.__dict__[name] = value\n",
    "        else:\n",
    "            self.__dict__[name] = value\n"
   ]
  },
  {
   "cell_type": "markdown",
   "metadata": {},
   "source": [
    "Также реализована функция to_array, преобразующий разреженную матрицу в numpy ndarray."
   ]
  },
  {
   "cell_type": "code",
   "execution_count": 2,
   "metadata": {},
   "outputs": [],
   "source": [
    "import numpy as np\n",
    "\n",
    "def to_array(mtr):\n",
    "    ar = np.zeros(mtr.shape)\n",
    "    for k, v in mtr.ijx_dict.items():\n",
    "        ar[k] = v\n",
    "    return ar"
   ]
  },
  {
   "cell_type": "code",
   "execution_count": null,
   "metadata": {},
   "outputs": [],
   "source": []
  },
  {
   "cell_type": "markdown",
   "metadata": {},
   "source": [
    "### Примеры работы с классом CooSparseMatrix"
   ]
  },
  {
   "cell_type": "code",
   "execution_count": 3,
   "metadata": {},
   "outputs": [],
   "source": [
    "matrix = CooSparseMatrix(ijx_list=[(0, 0, 1), (1, 0, 2)], shape=(2, 2))"
   ]
  },
  {
   "cell_type": "code",
   "execution_count": 4,
   "metadata": {},
   "outputs": [
    {
     "data": {
      "text/plain": [
       "1"
      ]
     },
     "execution_count": 4,
     "metadata": {},
     "output_type": "execute_result"
    }
   ],
   "source": [
    "# получение значения \n",
    "\n",
    "matrix1 = CooSparseMatrix(ijx_list=[(0, 0, 1), (1, 0, 2)], shape=(2, 2))\n",
    "matrix1[0, 0]\n",
    "\n",
    "# 1"
   ]
  },
  {
   "cell_type": "code",
   "execution_count": 5,
   "metadata": {},
   "outputs": [
    {
     "data": {
      "text/plain": [
       "2"
      ]
     },
     "execution_count": 5,
     "metadata": {},
     "output_type": "execute_result"
    }
   ],
   "source": [
    "# установка значения\n",
    "\n",
    "matrix1[1, 1] = 2\n",
    "matrix1[1, 1]\n",
    "\n",
    "# 2"
   ]
  },
  {
   "cell_type": "code",
   "execution_count": 6,
   "metadata": {},
   "outputs": [
    {
     "data": {
      "text/plain": [
       "array([[1., 0.],\n",
       "       [2., 0.]])"
      ]
     },
     "execution_count": 6,
     "metadata": {},
     "output_type": "execute_result"
    }
   ],
   "source": [
    "# преобразование к numpy.ndarray\n",
    "\n",
    "matrix = CooSparseMatrix(ijx_list=[(0, 0, 1), (1, 0, 2)], shape=(2, 2))\n",
    "to_array(matrix)\n",
    "\n",
    "# array([[1., 0.], [2., 0.]])"
   ]
  },
  {
   "cell_type": "code",
   "execution_count": 7,
   "metadata": {},
   "outputs": [
    {
     "data": {
      "text/plain": [
       "array([[1., 2.],\n",
       "       [3., 0.]])"
      ]
     },
     "execution_count": 7,
     "metadata": {},
     "output_type": "execute_result"
    }
   ],
   "source": [
    "# сложение\n",
    "\n",
    "matrix1 = CooSparseMatrix(ijx_list=[(0, 0, 1), (1, 0, 2)], shape=(2, 2))\n",
    "matrix2 = CooSparseMatrix(ijx_list=[(0, 1, 2), (1, 0, 1)], shape=(2, 2))\n",
    "matrix3 = matrix1 + matrix2\n",
    "\n",
    "to_array(matrix3)\n",
    "\n",
    "# array([[1., 2.], [3., 0.]])"
   ]
  },
  {
   "cell_type": "code",
   "execution_count": 8,
   "metadata": {},
   "outputs": [
    {
     "ename": "TypeError",
     "evalue": "",
     "output_type": "error",
     "traceback": [
      "\u001b[1;31m---------------------------------------------------------------------------\u001b[0m",
      "\u001b[1;31mTypeError\u001b[0m                                 Traceback (most recent call last)",
      "\u001b[1;32m~\\AppData\\Local\\Temp/ipykernel_10996/2942610555.py\u001b[0m in \u001b[0;36m<module>\u001b[1;34m\u001b[0m\n\u001b[0;32m      3\u001b[0m \u001b[0mmatrix1\u001b[0m \u001b[1;33m=\u001b[0m \u001b[0mCooSparseMatrix\u001b[0m\u001b[1;33m(\u001b[0m\u001b[0mijx_list\u001b[0m\u001b[1;33m=\u001b[0m\u001b[1;33m[\u001b[0m\u001b[1;33m(\u001b[0m\u001b[1;36m0\u001b[0m\u001b[1;33m,\u001b[0m \u001b[1;36m0\u001b[0m\u001b[1;33m,\u001b[0m \u001b[1;36m1\u001b[0m\u001b[1;33m)\u001b[0m\u001b[1;33m,\u001b[0m \u001b[1;33m(\u001b[0m\u001b[1;36m1\u001b[0m\u001b[1;33m,\u001b[0m \u001b[1;36m0\u001b[0m\u001b[1;33m,\u001b[0m \u001b[1;36m2\u001b[0m\u001b[1;33m)\u001b[0m\u001b[1;33m]\u001b[0m\u001b[1;33m,\u001b[0m \u001b[0mshape\u001b[0m\u001b[1;33m=\u001b[0m\u001b[1;33m(\u001b[0m\u001b[1;36m2\u001b[0m\u001b[1;33m,\u001b[0m \u001b[1;36m2\u001b[0m\u001b[1;33m)\u001b[0m\u001b[1;33m)\u001b[0m\u001b[1;33m\u001b[0m\u001b[1;33m\u001b[0m\u001b[0m\n\u001b[0;32m      4\u001b[0m \u001b[0mmatrix2\u001b[0m \u001b[1;33m=\u001b[0m \u001b[0mCooSparseMatrix\u001b[0m\u001b[1;33m(\u001b[0m\u001b[0mijx_list\u001b[0m\u001b[1;33m=\u001b[0m\u001b[1;33m[\u001b[0m\u001b[1;33m(\u001b[0m\u001b[1;36m0\u001b[0m\u001b[1;33m,\u001b[0m \u001b[1;36m1\u001b[0m\u001b[1;33m,\u001b[0m \u001b[1;36m2\u001b[0m\u001b[1;33m)\u001b[0m\u001b[1;33m,\u001b[0m \u001b[1;33m(\u001b[0m\u001b[1;36m1\u001b[0m\u001b[1;33m,\u001b[0m \u001b[1;36m0\u001b[0m\u001b[1;33m,\u001b[0m \u001b[1;36m1\u001b[0m\u001b[1;33m)\u001b[0m\u001b[1;33m]\u001b[0m\u001b[1;33m,\u001b[0m \u001b[0mshape\u001b[0m\u001b[1;33m=\u001b[0m\u001b[1;33m(\u001b[0m\u001b[1;36m2\u001b[0m\u001b[1;33m,\u001b[0m \u001b[1;36m3\u001b[0m\u001b[1;33m)\u001b[0m\u001b[1;33m)\u001b[0m\u001b[1;33m\u001b[0m\u001b[1;33m\u001b[0m\u001b[0m\n\u001b[1;32m----> 5\u001b[1;33m \u001b[0mmatrix3\u001b[0m \u001b[1;33m=\u001b[0m \u001b[0mmatrix1\u001b[0m \u001b[1;33m+\u001b[0m \u001b[0mmatrix2\u001b[0m\u001b[1;33m\u001b[0m\u001b[1;33m\u001b[0m\u001b[0m\n\u001b[0m\u001b[0;32m      6\u001b[0m \u001b[1;33m\u001b[0m\u001b[0m\n\u001b[0;32m      7\u001b[0m \u001b[0mto_array\u001b[0m\u001b[1;33m(\u001b[0m\u001b[0mmatrix3\u001b[0m\u001b[1;33m)\u001b[0m\u001b[1;33m\u001b[0m\u001b[1;33m\u001b[0m\u001b[0m\n",
      "\u001b[1;32m~\\AppData\\Local\\Temp/ipykernel_10996/1592279340.py\u001b[0m in \u001b[0;36m__add__\u001b[1;34m(self, other)\u001b[0m\n\u001b[0;32m     55\u001b[0m     \u001b[1;32mdef\u001b[0m \u001b[0m__add__\u001b[0m\u001b[1;33m(\u001b[0m\u001b[0mself\u001b[0m\u001b[1;33m,\u001b[0m \u001b[0mother\u001b[0m\u001b[1;33m)\u001b[0m\u001b[1;33m:\u001b[0m\u001b[1;33m\u001b[0m\u001b[1;33m\u001b[0m\u001b[0m\n\u001b[0;32m     56\u001b[0m         \u001b[1;32mif\u001b[0m \u001b[0mself\u001b[0m\u001b[1;33m.\u001b[0m\u001b[0mshape\u001b[0m \u001b[1;33m!=\u001b[0m \u001b[0mother\u001b[0m\u001b[1;33m.\u001b[0m\u001b[0mshape\u001b[0m\u001b[1;33m:\u001b[0m\u001b[1;33m\u001b[0m\u001b[1;33m\u001b[0m\u001b[0m\n\u001b[1;32m---> 57\u001b[1;33m             \u001b[1;32mraise\u001b[0m \u001b[0mTypeError\u001b[0m\u001b[1;33m\u001b[0m\u001b[1;33m\u001b[0m\u001b[0m\n\u001b[0m\u001b[0;32m     58\u001b[0m         \u001b[1;32melse\u001b[0m\u001b[1;33m:\u001b[0m\u001b[1;33m\u001b[0m\u001b[1;33m\u001b[0m\u001b[0m\n\u001b[0;32m     59\u001b[0m             return CooSparseMatrix([key + (self[key] + other[key],) for key\n",
      "\u001b[1;31mTypeError\u001b[0m: "
     ]
    }
   ],
   "source": [
    "# сложение матриц разного размера\n",
    "\n",
    "matrix1 = CooSparseMatrix(ijx_list=[(0, 0, 1), (1, 0, 2)], shape=(2, 2))\n",
    "matrix2 = CooSparseMatrix(ijx_list=[(0, 1, 2), (1, 0, 1)], shape=(2, 3))\n",
    "matrix3 = matrix1 + matrix2\n",
    "\n",
    "to_array(matrix3)\n",
    "\n",
    "# TypeError"
   ]
  },
  {
   "cell_type": "code",
   "execution_count": 9,
   "metadata": {},
   "outputs": [
    {
     "data": {
      "text/plain": [
       "array([[ 5.,  0.],\n",
       "       [10.,  0.]])"
      ]
     },
     "execution_count": 9,
     "metadata": {},
     "output_type": "execute_result"
    }
   ],
   "source": [
    "# умножение\n",
    "\n",
    "to_array(matrix1 * 5)\n",
    "\n",
    "# array([[ 5., 0.], [10., 0.]])"
   ]
  },
  {
   "cell_type": "code",
   "execution_count": 10,
   "metadata": {},
   "outputs": [
    {
     "data": {
      "text/plain": [
       "(3, 5)"
      ]
     },
     "execution_count": 10,
     "metadata": {},
     "output_type": "execute_result"
    }
   ],
   "source": [
    "# получение размера\n",
    "\n",
    "matrix = CooSparseMatrix(ijx_list=[(0, 0, 1), (1, 1, 2), (2, 3, 5), (1, 3, 0)], shape=(3, 5))\n",
    "matrix.shape\n",
    "\n",
    "# (3, 5)"
   ]
  },
  {
   "cell_type": "code",
   "execution_count": 11,
   "metadata": {},
   "outputs": [
    {
     "data": {
      "text/plain": [
       "array([[1., 0., 0.],\n",
       "       [0., 0., 0.],\n",
       "       [2., 0., 0.],\n",
       "       [0., 0., 0.],\n",
       "       [0., 5., 0.]])"
      ]
     },
     "execution_count": 11,
     "metadata": {},
     "output_type": "execute_result"
    }
   ],
   "source": [
    "# изменение размера\n",
    "\n",
    "matrix.shape = (5, 3)\n",
    "to_array(matrix)\n",
    "\n",
    "# array([[1., 0., 0.], [0., 0., 0.],\n",
    "# [2., 0., 0.], [0., 0., 0.],\n",
    "# [0., 5., 0.]\n",
    "# )"
   ]
  },
  {
   "cell_type": "code",
   "execution_count": 12,
   "metadata": {},
   "outputs": [
    {
     "ename": "TypeError",
     "evalue": "",
     "output_type": "error",
     "traceback": [
      "\u001b[1;31m---------------------------------------------------------------------------\u001b[0m",
      "\u001b[1;31mTypeError\u001b[0m                                 Traceback (most recent call last)",
      "\u001b[1;32m~\\AppData\\Local\\Temp/ipykernel_10996/3392724014.py\u001b[0m in \u001b[0;36m<module>\u001b[1;34m\u001b[0m\n\u001b[0;32m      1\u001b[0m \u001b[1;31m# изменение размера, попытка присвоить атрибуту размер, не соответствующий существующему\u001b[0m\u001b[1;33m\u001b[0m\u001b[1;33m\u001b[0m\u001b[1;33m\u001b[0m\u001b[0m\n\u001b[0;32m      2\u001b[0m \u001b[1;33m\u001b[0m\u001b[0m\n\u001b[1;32m----> 3\u001b[1;33m \u001b[0mmatrix\u001b[0m\u001b[1;33m.\u001b[0m\u001b[0mshape\u001b[0m \u001b[1;33m=\u001b[0m \u001b[1;33m(\u001b[0m\u001b[1;36m5\u001b[0m\u001b[1;33m,\u001b[0m \u001b[1;36m4\u001b[0m\u001b[1;33m)\u001b[0m\u001b[1;33m\u001b[0m\u001b[1;33m\u001b[0m\u001b[0m\n\u001b[0m\u001b[0;32m      4\u001b[0m \u001b[0mto_array\u001b[0m\u001b[1;33m(\u001b[0m\u001b[0mmatrix\u001b[0m\u001b[1;33m)\u001b[0m\u001b[1;33m\u001b[0m\u001b[1;33m\u001b[0m\u001b[0m\n\u001b[0;32m      5\u001b[0m \u001b[1;33m\u001b[0m\u001b[0m\n",
      "\u001b[1;32m~\\AppData\\Local\\Temp/ipykernel_10996/1592279340.py\u001b[0m in \u001b[0;36m__setattr__\u001b[1;34m(self, name, value)\u001b[0m\n\u001b[0;32m     88\u001b[0m                     \u001b[1;32mraise\u001b[0m \u001b[0mTypeError\u001b[0m\u001b[1;33m\u001b[0m\u001b[1;33m\u001b[0m\u001b[0m\n\u001b[0;32m     89\u001b[0m                 \u001b[1;32mif\u001b[0m \u001b[1;33m(\u001b[0m\u001b[0mvalue\u001b[0m\u001b[1;33m[\u001b[0m\u001b[1;36m0\u001b[0m\u001b[1;33m]\u001b[0m \u001b[1;33m*\u001b[0m \u001b[0mvalue\u001b[0m\u001b[1;33m[\u001b[0m\u001b[1;36m1\u001b[0m\u001b[1;33m]\u001b[0m\u001b[1;33m)\u001b[0m \u001b[1;33m!=\u001b[0m \u001b[1;33m(\u001b[0m\u001b[0mself\u001b[0m\u001b[1;33m.\u001b[0m\u001b[0mshape\u001b[0m\u001b[1;33m[\u001b[0m\u001b[1;36m0\u001b[0m\u001b[1;33m]\u001b[0m \u001b[1;33m*\u001b[0m \u001b[0mself\u001b[0m\u001b[1;33m.\u001b[0m\u001b[0mshape\u001b[0m\u001b[1;33m[\u001b[0m\u001b[1;36m1\u001b[0m\u001b[1;33m]\u001b[0m\u001b[1;33m)\u001b[0m\u001b[1;33m:\u001b[0m\u001b[1;33m\u001b[0m\u001b[1;33m\u001b[0m\u001b[0m\n\u001b[1;32m---> 90\u001b[1;33m                     \u001b[1;32mraise\u001b[0m \u001b[0mTypeError\u001b[0m\u001b[1;33m\u001b[0m\u001b[1;33m\u001b[0m\u001b[0m\n\u001b[0m\u001b[0;32m     91\u001b[0m                 \u001b[1;32melse\u001b[0m\u001b[1;33m:\u001b[0m\u001b[1;33m\u001b[0m\u001b[1;33m\u001b[0m\u001b[0m\n\u001b[0;32m     92\u001b[0m                     \u001b[0mnew_dict\u001b[0m \u001b[1;33m=\u001b[0m \u001b[1;33m{\u001b[0m\u001b[1;33m}\u001b[0m\u001b[1;33m\u001b[0m\u001b[1;33m\u001b[0m\u001b[0m\n",
      "\u001b[1;31mTypeError\u001b[0m: "
     ]
    }
   ],
   "source": [
    "# изменение размера, попытка присвоить атрибуту размер, не соответствующий существующему\n",
    "\n",
    "matrix.shape = (5, 4)\n",
    "to_array(matrix)\n",
    "\n",
    "# TypeError"
   ]
  },
  {
   "cell_type": "code",
   "execution_count": 13,
   "metadata": {
    "scrolled": true
   },
   "outputs": [
    {
     "data": {
      "text/plain": [
       "array([[1., 0., 0.],\n",
       "       [0., 2., 0.],\n",
       "       [0., 0., 0.],\n",
       "       [0., 0., 5.],\n",
       "       [0., 0., 0.]])"
      ]
     },
     "execution_count": 13,
     "metadata": {},
     "output_type": "execute_result"
    }
   ],
   "source": [
    "# получение транспонированной матрицы\n",
    "\n",
    "matrix = CooSparseMatrix(ijx_list=[(0, 0, 1), (1, 1, 2), (2, 3, 5), (1, 3, 0)], shape=(3, 5))\n",
    "to_array(matrix.T)\n",
    "\n",
    "# array([[1., 0., 0.], [0., 2., 0.],\n",
    "# [0., 0., 0.], [0., 0., 5.],\n",
    "# [0., 0., 0.]\n",
    "# )"
   ]
  },
  {
   "cell_type": "code",
   "execution_count": 14,
   "metadata": {},
   "outputs": [
    {
     "ename": "AttributeError",
     "evalue": "",
     "output_type": "error",
     "traceback": [
      "\u001b[1;31m---------------------------------------------------------------------------\u001b[0m",
      "\u001b[1;31mAttributeError\u001b[0m                            Traceback (most recent call last)",
      "\u001b[1;32m~\\AppData\\Local\\Temp/ipykernel_10996/2606668999.py\u001b[0m in \u001b[0;36m<module>\u001b[1;34m\u001b[0m\n\u001b[0;32m      1\u001b[0m \u001b[1;31m# попытка присвоить что-либо атрибуту T\u001b[0m\u001b[1;33m\u001b[0m\u001b[1;33m\u001b[0m\u001b[1;33m\u001b[0m\u001b[0m\n\u001b[0;32m      2\u001b[0m \u001b[1;33m\u001b[0m\u001b[0m\n\u001b[1;32m----> 3\u001b[1;33m \u001b[0mmatrix\u001b[0m\u001b[1;33m.\u001b[0m\u001b[0mT\u001b[0m \u001b[1;33m=\u001b[0m \u001b[0mmatrix\u001b[0m \u001b[1;33m*\u001b[0m \u001b[1;36m2\u001b[0m\u001b[1;33m\u001b[0m\u001b[1;33m\u001b[0m\u001b[0m\n\u001b[0m\u001b[0;32m      4\u001b[0m \u001b[1;33m\u001b[0m\u001b[0m\n\u001b[0;32m      5\u001b[0m \u001b[1;31m# AttributeError\u001b[0m\u001b[1;33m\u001b[0m\u001b[1;33m\u001b[0m\u001b[1;33m\u001b[0m\u001b[0m\n",
      "\u001b[1;32m~\\AppData\\Local\\Temp/ipykernel_10996/1592279340.py\u001b[0m in \u001b[0;36m__setattr__\u001b[1;34m(self, name, value)\u001b[0m\n\u001b[0;32m     81\u001b[0m         \u001b[1;32mif\u001b[0m \u001b[0mname\u001b[0m \u001b[1;33m==\u001b[0m \u001b[1;34m'T'\u001b[0m\u001b[1;33m:\u001b[0m\u001b[1;33m\u001b[0m\u001b[1;33m\u001b[0m\u001b[0m\n\u001b[0;32m     82\u001b[0m             \u001b[1;32mif\u001b[0m \u001b[1;34m'T'\u001b[0m \u001b[1;32min\u001b[0m \u001b[0mself\u001b[0m\u001b[1;33m.\u001b[0m\u001b[0m__dict__\u001b[0m\u001b[1;33m:\u001b[0m\u001b[1;33m\u001b[0m\u001b[1;33m\u001b[0m\u001b[0m\n\u001b[1;32m---> 83\u001b[1;33m                 \u001b[1;32mraise\u001b[0m \u001b[0mAttributeError\u001b[0m\u001b[1;33m\u001b[0m\u001b[1;33m\u001b[0m\u001b[0m\n\u001b[0m\u001b[0;32m     84\u001b[0m         \u001b[1;32mif\u001b[0m \u001b[0mname\u001b[0m \u001b[1;33m==\u001b[0m \u001b[1;34m'shape'\u001b[0m\u001b[1;33m:\u001b[0m\u001b[1;33m\u001b[0m\u001b[1;33m\u001b[0m\u001b[0m\n\u001b[0;32m     85\u001b[0m             \u001b[1;32mif\u001b[0m \u001b[1;34m'shape'\u001b[0m \u001b[1;32min\u001b[0m \u001b[0mself\u001b[0m\u001b[1;33m.\u001b[0m\u001b[0m__dict__\u001b[0m\u001b[1;33m:\u001b[0m\u001b[1;33m\u001b[0m\u001b[1;33m\u001b[0m\u001b[0m\n",
      "\u001b[1;31mAttributeError\u001b[0m: "
     ]
    }
   ],
   "source": [
    "# попытка присвоить что-либо атрибуту T\n",
    "\n",
    "matrix.T = matrix * 2\n",
    "\n",
    "# AttributeError  "
   ]
  },
  {
   "cell_type": "markdown",
   "metadata": {},
   "source": [
    "### Assert проверки правильности работы"
   ]
  },
  {
   "cell_type": "code",
   "execution_count": 15,
   "metadata": {},
   "outputs": [],
   "source": [
    "matrix1 = CooSparseMatrix([], shape=(100, 100))\n",
    "\n",
    "for i in range(100):\n",
    "    for j in range(100):\n",
    "        if i % 13 == 0:\n",
    "            matrix1[i, j] = i - 2 * (j ** 2)\n",
    "        if j % 11 == 0:\n",
    "            matrix1[i, j] = j + 3 * (i ** 3)\n",
    "\n",
    "matrix2 = matrix1.T"
   ]
  },
  {
   "cell_type": "code",
   "execution_count": 16,
   "metadata": {},
   "outputs": [],
   "source": [
    "# соответствие размеров прямой и транспонированной матрицы\n",
    "\n",
    "assert(matrix2.shape == matrix1.shape[::-1])"
   ]
  },
  {
   "cell_type": "code",
   "execution_count": 17,
   "metadata": {},
   "outputs": [],
   "source": [
    "# соответствие значений прямой и транспонированной матрицы\n",
    "\n",
    "for i in range(matrix2.shape[0]):\n",
    "    for j in range(matrix2.shape[1]):\n",
    "        assert(matrix2[i, j] == matrix1[j, i])"
   ]
  },
  {
   "cell_type": "code",
   "execution_count": 18,
   "metadata": {},
   "outputs": [],
   "source": [
    "# правильность умножения\n",
    "\n",
    "matrix3 = matrix1 * 2\n",
    "\n",
    "for i in range(matrix1.shape[0]):\n",
    "    for j in range(matrix1.shape[1]):\n",
    "        assert(matrix1[i, j] * 2 == matrix3[i, j])"
   ]
  },
  {
   "cell_type": "code",
   "execution_count": null,
   "metadata": {},
   "outputs": [],
   "source": []
  }
 ],
 "metadata": {
  "kernelspec": {
   "display_name": "Python 3 (ipykernel)",
   "language": "python",
   "name": "python3"
  },
  "language_info": {
   "codemirror_mode": {
    "name": "ipython",
    "version": 3
   },
   "file_extension": ".py",
   "mimetype": "text/x-python",
   "name": "python",
   "nbconvert_exporter": "python",
   "pygments_lexer": "ipython3",
   "version": "3.7.9"
  }
 },
 "nbformat": 4,
 "nbformat_minor": 2
}
