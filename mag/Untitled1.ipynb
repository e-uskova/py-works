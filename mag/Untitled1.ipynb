{
 "cells": [
  {
   "cell_type": "code",
   "execution_count": 22,
   "id": "d948dc7f",
   "metadata": {},
   "outputs": [],
   "source": [
    "import cv2\n",
    "import numpy as np"
   ]
  },
  {
   "cell_type": "code",
   "execution_count": null,
   "id": "a4771414",
   "metadata": {},
   "outputs": [],
   "source": []
  },
  {
   "cell_type": "code",
   "execution_count": 47,
   "id": "15baeeb6",
   "metadata": {},
   "outputs": [],
   "source": [
    "def color_filter(src, dist):\n",
    "    histogr_eq(src, frame_c3[1])\n",
    "    \n",
    "    cv2.smooth(frame_c3[1],frame_c3[1],CV_GAUSSIAN,0,0,5,0);  \n",
    "\n",
    "    cv2.showImage( WIN_CMAP, frame_c3[1]); # отображаем карту цветов\n",
    "\n",
    "    cv2.cvtColor( frame_c3[1],frame_c3[1], CV_BGR2HSV ); # конвертируем карту цветов в HSV\n",
    "\n",
    "    cv2.split(  frame_c3[1], frame_c1[0], frame_c1[1], frame_c1[2], NULL ); # разрезаем карту цветов на каналы \n",
    "  \n",
    "    # фильтруем фон по порогам\n",
    "    cv2.threshold( frame_c1[0], mask[0], t_min[0]-1.0, 1.0, cv2.THRESH_BINARY ); \n",
    "    cv2.threshold( frame_c1[0], mask[1], t_max[0], 1.0, cv2.THRESH_BINARY_INV ); \n",
    "    np.matmul(mask[0], mask[1], frame_c1[0])\n",
    "\n",
    "    cv2.threshold( frame_c1[1], mask[0], t_min[1]-1.0, 1.0, cv2.THRESH_BINARY ); \n",
    "    cv2.threshold( frame_c1[1], mask[1], t_max[1], 1.0, cv2.THRESH_BINARY_INV ); \n",
    "    np.matmul(mask[0],mask[1],frame_c1[1],1);\n",
    "\n",
    "    cv2.threshold( frame_c1[2], mask[0], t_min[2]-1.0, 1.0, cv2.THRESH_BINARY ); \n",
    "    cv2.threshold( frame_c1[2], mask[1], t_max[2], 1.0, cv2.THRESH_BINARY_INV ); \n",
    "    np.matmul(mask[0],mask[1],frame_c1[2],1);\n",
    "\n",
    "    np.matmul(frame_c1[0],frame_c1[1],mask[2],1);\n",
    "    np.matmul(frame_c1[2],mask[2], mask[2],1);\n",
    "\n",
    "    cv2.bitwise_not(mask[2],mask[2]); #???\n",
    "    #cv2.subS(mask[2],cvScalarAll(254),mask[2],NULL);\n",
    "    mask[2] = mask[2] - 254;\n",
    "\n",
    "    # формируем картинку результата\n",
    "    cv2.cvtColor(  frame_c3[1],  frame_c3[1], COLOR_HSV2BGR ); \n",
    "    #cv2.cvCopy( src, dst, NULL ) ; \n",
    "    dst = src.copy()\n",
    "    cv2.cvSet( dst, RGB(0,0,0), mask[2] ) ;\n"
   ]
  },
  {
   "cell_type": "code",
   "execution_count": 48,
   "id": "0e7ca2da",
   "metadata": {},
   "outputs": [],
   "source": [
    "def histogr_eq(src, dst):\n",
    "    cv2.split(src, frame_c1[0], frame_c1[1], frame_c1[2], None)\n",
    "    cv2.equalizeHist(frame_c1[0],frame_c1[0])\n",
    "    cv2.equalizeHist(frame_c1[1],frame_c1[1])\n",
    "    cv2.equalizeHist(frame_c1[2],frame_c1[2])\n",
    "    cv2.merge(frame_c1[0], frame_c1[1], frame_c1[2], None, dst)\n"
   ]
  },
  {
   "cell_type": "code",
   "execution_count": null,
   "id": "d9737b49",
   "metadata": {},
   "outputs": [],
   "source": [
    "def run(char* argv[]): \n",
    "    for(;;):\n",
    "    # захватываем кадр\n",
    "        frame_c3[0]=cvQueryFrame( capture );\n",
    "        if(!frame_c3[0]): \n",
    "            fprintf(stderr,\"[E] cvQueryFrame error\\n \"); \n",
    "            break;\n",
    "        cvShowImage( WIN_SRC, frame_c3[0] ); # отображаем исходное изображение \n",
    "\n",
    "        color_filter(frame_c3[0],frame_c3[2]); # отфильтровываем лишние точки по цвету \n",
    "\n",
    "        cvShowImage( WIN_RES, frame_c3[2]); # отображаем результат\n",
    "  \n",
    "        if(iswriter):\n",
    "            cvWriteFrame(writer, frame_c3[2]); } # пишем видео\n",
    "        if( cvWaitKey(10) == ESC_KEY ):\n",
    "            break;\n",
    "   return 0;"
   ]
  },
  {
   "cell_type": "code",
   "execution_count": 5,
   "id": "b423c615",
   "metadata": {},
   "outputs": [
    {
     "ename": "NameError",
     "evalue": "name 'frame_c1' is not defined",
     "output_type": "error",
     "traceback": [
      "\u001b[1;31m---------------------------------------------------------------------------\u001b[0m",
      "\u001b[1;31mNameError\u001b[0m                                 Traceback (most recent call last)",
      "\u001b[1;32m~\\AppData\\Local\\Temp/ipykernel_11272/1440229379.py\u001b[0m in \u001b[0;36m<module>\u001b[1;34m\u001b[0m\n\u001b[1;32m----> 1\u001b[1;33m \u001b[0mhistogr_eq\u001b[0m\u001b[1;33m(\u001b[0m\u001b[1;32mNone\u001b[0m\u001b[1;33m,\u001b[0m \u001b[1;32mNone\u001b[0m\u001b[1;33m)\u001b[0m\u001b[1;33m\u001b[0m\u001b[1;33m\u001b[0m\u001b[0m\n\u001b[0m",
      "\u001b[1;32m~\\AppData\\Local\\Temp/ipykernel_11272/1323631853.py\u001b[0m in \u001b[0;36mhistogr_eq\u001b[1;34m(src, dst)\u001b[0m\n\u001b[0;32m      1\u001b[0m \u001b[1;32mdef\u001b[0m \u001b[0mhistogr_eq\u001b[0m\u001b[1;33m(\u001b[0m\u001b[0msrc\u001b[0m\u001b[1;33m,\u001b[0m \u001b[0mdst\u001b[0m\u001b[1;33m)\u001b[0m\u001b[1;33m:\u001b[0m\u001b[1;33m\u001b[0m\u001b[1;33m\u001b[0m\u001b[0m\n\u001b[1;32m----> 2\u001b[1;33m     \u001b[0mcv2\u001b[0m\u001b[1;33m.\u001b[0m\u001b[0msplit\u001b[0m\u001b[1;33m(\u001b[0m\u001b[0msrc\u001b[0m\u001b[1;33m,\u001b[0m \u001b[0mframe_c1\u001b[0m\u001b[1;33m[\u001b[0m\u001b[1;36m0\u001b[0m\u001b[1;33m]\u001b[0m\u001b[1;33m,\u001b[0m \u001b[0mframe_c1\u001b[0m\u001b[1;33m[\u001b[0m\u001b[1;36m1\u001b[0m\u001b[1;33m]\u001b[0m\u001b[1;33m,\u001b[0m \u001b[0mframe_c1\u001b[0m\u001b[1;33m[\u001b[0m\u001b[1;36m2\u001b[0m\u001b[1;33m]\u001b[0m\u001b[1;33m,\u001b[0m \u001b[1;32mNone\u001b[0m\u001b[1;33m)\u001b[0m\u001b[1;33m\u001b[0m\u001b[1;33m\u001b[0m\u001b[0m\n\u001b[0m",
      "\u001b[1;31mNameError\u001b[0m: name 'frame_c1' is not defined"
     ]
    }
   ],
   "source": [
    "histogr_eq(None, None)"
   ]
  },
  {
   "cell_type": "code",
   "execution_count": 46,
   "id": "bbe5f99e",
   "metadata": {},
   "outputs": [
    {
     "ename": "NameError",
     "evalue": "name 'frame_c3' is not defined",
     "output_type": "error",
     "traceback": [
      "\u001b[1;31m---------------------------------------------------------------------------\u001b[0m",
      "\u001b[1;31mNameError\u001b[0m                                 Traceback (most recent call last)",
      "\u001b[1;32m~\\AppData\\Local\\Temp/ipykernel_11272/83474633.py\u001b[0m in \u001b[0;36m<module>\u001b[1;34m\u001b[0m\n\u001b[1;32m----> 1\u001b[1;33m \u001b[0mcolor_filter\u001b[0m\u001b[1;33m(\u001b[0m\u001b[1;32mNone\u001b[0m\u001b[1;33m,\u001b[0m \u001b[1;32mNone\u001b[0m\u001b[1;33m)\u001b[0m\u001b[1;33m\u001b[0m\u001b[1;33m\u001b[0m\u001b[0m\n\u001b[0m",
      "\u001b[1;32m~\\AppData\\Local\\Temp/ipykernel_11272/3495465095.py\u001b[0m in \u001b[0;36mcolor_filter\u001b[1;34m(src, dist)\u001b[0m\n\u001b[0;32m      1\u001b[0m \u001b[1;32mdef\u001b[0m \u001b[0mcolor_filter\u001b[0m\u001b[1;33m(\u001b[0m\u001b[0msrc\u001b[0m\u001b[1;33m,\u001b[0m \u001b[0mdist\u001b[0m\u001b[1;33m)\u001b[0m\u001b[1;33m:\u001b[0m\u001b[1;33m\u001b[0m\u001b[1;33m\u001b[0m\u001b[0m\n\u001b[1;32m----> 2\u001b[1;33m     \u001b[0mhistogr_eq\u001b[0m\u001b[1;33m(\u001b[0m\u001b[0msrc\u001b[0m\u001b[1;33m,\u001b[0m \u001b[0mframe_c3\u001b[0m\u001b[1;33m[\u001b[0m\u001b[1;36m1\u001b[0m\u001b[1;33m]\u001b[0m\u001b[1;33m)\u001b[0m\u001b[1;33m\u001b[0m\u001b[1;33m\u001b[0m\u001b[0m\n\u001b[0m\u001b[0;32m      3\u001b[0m \u001b[1;33m\u001b[0m\u001b[0m\n\u001b[0;32m      4\u001b[0m     \u001b[0mcv2\u001b[0m\u001b[1;33m.\u001b[0m\u001b[0msmooth\u001b[0m\u001b[1;33m(\u001b[0m\u001b[0mframe_c3\u001b[0m\u001b[1;33m[\u001b[0m\u001b[1;36m1\u001b[0m\u001b[1;33m]\u001b[0m\u001b[1;33m,\u001b[0m\u001b[0mframe_c3\u001b[0m\u001b[1;33m[\u001b[0m\u001b[1;36m1\u001b[0m\u001b[1;33m]\u001b[0m\u001b[1;33m,\u001b[0m\u001b[0mCV_GAUSSIAN\u001b[0m\u001b[1;33m,\u001b[0m\u001b[1;36m0\u001b[0m\u001b[1;33m,\u001b[0m\u001b[1;36m0\u001b[0m\u001b[1;33m,\u001b[0m\u001b[1;36m5\u001b[0m\u001b[1;33m,\u001b[0m\u001b[1;36m0\u001b[0m\u001b[1;33m)\u001b[0m\u001b[1;33m;\u001b[0m\u001b[1;33m\u001b[0m\u001b[1;33m\u001b[0m\u001b[0m\n\u001b[0;32m      5\u001b[0m \u001b[1;33m\u001b[0m\u001b[0m\n",
      "\u001b[1;31mNameError\u001b[0m: name 'frame_c3' is not defined"
     ]
    }
   ],
   "source": [
    "color_filter(None, None)"
   ]
  },
  {
   "cell_type": "code",
   "execution_count": 44,
   "id": "f35e498c",
   "metadata": {},
   "outputs": [
    {
     "ename": "AttributeError",
     "evalue": "module 'cv2.cv2' has no attribute 'cvSubS'",
     "output_type": "error",
     "traceback": [
      "\u001b[1;31m---------------------------------------------------------------------------\u001b[0m",
      "\u001b[1;31mAttributeError\u001b[0m                            Traceback (most recent call last)",
      "\u001b[1;32m~\\AppData\\Local\\Temp/ipykernel_11272/847498394.py\u001b[0m in \u001b[0;36m<module>\u001b[1;34m\u001b[0m\n\u001b[1;32m----> 1\u001b[1;33m \u001b[0mcv2\u001b[0m\u001b[1;33m.\u001b[0m\u001b[0mcvSubS\u001b[0m\u001b[1;33m\u001b[0m\u001b[1;33m\u001b[0m\u001b[0m\n\u001b[0m",
      "\u001b[1;31mAttributeError\u001b[0m: module 'cv2.cv2' has no attribute 'cvSubS'"
     ]
    }
   ],
   "source": [
    "cv2.cvSubS"
   ]
  },
  {
   "cell_type": "code",
   "execution_count": 37,
   "id": "ecc486a9",
   "metadata": {},
   "outputs": [
    {
     "data": {
      "text/plain": [
       "3"
      ]
     },
     "execution_count": 37,
     "metadata": {},
     "output_type": "execute_result"
    }
   ],
   "source": [
    "v = 3\n",
    "v"
   ]
  },
  {
   "cell_type": "code",
   "execution_count": null,
   "id": "0a277c60",
   "metadata": {},
   "outputs": [],
   "source": []
  },
  {
   "cell_type": "code",
   "execution_count": null,
   "id": "6875c28c",
   "metadata": {},
   "outputs": [],
   "source": []
  }
 ],
 "metadata": {
  "kernelspec": {
   "display_name": "Python 3 (ipykernel)",
   "language": "python",
   "name": "python3"
  },
  "language_info": {
   "codemirror_mode": {
    "name": "ipython",
    "version": 3
   },
   "file_extension": ".py",
   "mimetype": "text/x-python",
   "name": "python",
   "nbconvert_exporter": "python",
   "pygments_lexer": "ipython3",
   "version": "3.7.9"
  }
 },
 "nbformat": 4,
 "nbformat_minor": 5
}
