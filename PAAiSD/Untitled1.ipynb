{
 "cells": [
  {
   "cell_type": "code",
   "execution_count": null,
   "id": "cfea20c8",
   "metadata": {},
   "outputs": [],
   "source": [
    "import os\n",
    "from multiprocessing import Process\n",
    "from multiprocessing.pool import ThreadPool as Pool\n",
    "\n",
    "def doubler(number):\n",
    "    \"\"\"\n",
    "    Функция умножитель на два\n",
    "    \"\"\"\n",
    "    result = number * 2\n",
    "    proc = os.getpid()\n",
    "    print('{0} doubled to {1} by process id: {2}'.format(\n",
    "        number, result, proc))\n",
    "    \n",
    "numbers = [5, 10, 15, 20, 25]\n",
    "procs = []\n",
    "\n",
    "for index, number in enumerate(numbers):\n",
    "    proc = Process(target=doubler, args=(number,))\n",
    "    procs.append(proc)\n",
    "    proc.start()\n",
    "\n",
    "for proc in procs:\n",
    "    proc.join()"
   ]
  }
 ],
 "metadata": {
  "kernelspec": {
   "display_name": "Python 3 (ipykernel)",
   "language": "python",
   "name": "python3"
  },
  "language_info": {
   "codemirror_mode": {
    "name": "ipython",
    "version": 3
   },
   "file_extension": ".py",
   "mimetype": "text/x-python",
   "name": "python",
   "nbconvert_exporter": "python",
   "pygments_lexer": "ipython3",
   "version": "3.7.9"
  }
 },
 "nbformat": 4,
 "nbformat_minor": 5
}
