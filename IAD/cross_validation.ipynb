{
 "cells": [
  {
   "cell_type": "code",
   "execution_count": 5,
   "metadata": {},
   "outputs": [],
   "source": [
    "import numpy as np\n",
    "import nearest_neighbors\n",
    "\n",
    "\n",
    "def kfold(n, n_folds=3):\n",
    "    all_idx = range(n)\n",
    "    folds = np.array_split(all_idx, n_folds)\n",
    "    res = []\n",
    "    for k in range(n_folds):\n",
    "        if k == 0:\n",
    "            edu = np.hstack(folds[k+1:])\n",
    "        elif k == n_folds - 1:\n",
    "            edu = np.hstack(folds[:k])\n",
    "        else:\n",
    "            edu = np.hstack((np.hstack(folds[:k]), np.hstack(folds[k+1:])))\n",
    "        val = folds[k]\n",
    "        res.append((edu, val))\n",
    "#         print(type(edu), type(val), type(res))\n",
    "    return res\n",
    "   \n",
    "def knn_cross_val_score(X, y, k_list, score, cv, **kwargs):\n",
    "    if cv is None:\n",
    "        cv = kfold(X.shape[0], n_folds=3)\n",
    "    dic = {}\n",
    "    for k in k_list:\n",
    "        acc = []\n",
    "#         if ('strategy' in kwargs) and ('metric' in kwargs) and ('weights' in kwargs) and ('test_block_size' in kwargs):\n",
    "        cls = nearest_neighbors.KNNClassifier(k=k, strategy=kwargs['strategy'], \n",
    "                                                  metric=kwargs['metric'], weights=kwargs['weights'])\n",
    "#         else:\n",
    "#             raise TypeError\n",
    "        for fold in cv:\n",
    "            X_train = np.array([X[i] for i in fold[0]])\n",
    "            y_train = np.array([y[i] for i in fold[0]])\n",
    "            X_test = np.array([X[i] for i in fold[1]])\n",
    "            y_test = np.array([y[i] for i in fold[1]])\n",
    "            \n",
    "            cls.fit(X_train, y_train)\n",
    "            y_predict = cls.predict(X_test)\n",
    "            \n",
    "            if score == 'accuracy':\n",
    "                accuracy = np.sum(y_predict == y_test) / X_test.shape[0]\n",
    "                acc.append(accuracy)\n",
    "                \n",
    "        dic[k] = np.array(acc)\n",
    "    return dic\n"
   ]
  },
  {
   "cell_type": "code",
   "execution_count": 7,
   "metadata": {},
   "outputs": [
    {
     "name": "stdout",
     "output_type": "stream",
     "text": [
      "6.08 ms ± 197 µs per loop (mean ± std. dev. of 7 runs, 100 loops each)\n"
     ]
    }
   ],
   "source": [
    "%timeit knn_cross_val_score(X = np.array([[1, 7, 3, 8], [9, 5, 0, 1], [2, 5, 1, 0], [3, 5, 2, 9], [2, 1, 1, 2], [1, 7, 3, 8], [9, 9, 0, 7]]), cv=None, y = np.array([1, 2, 3, 1, 2, 3, 1]), k_list=[1, 2, 3, 4], score='accuracy', strategy='my_own', weights=False, test_block_size=1000, metric='euclidean')"
   ]
  },
  {
   "cell_type": "code",
   "execution_count": 3,
   "metadata": {},
   "outputs": [
    {
     "name": "stdout",
     "output_type": "stream",
     "text": [
      "<class 'numpy.ndarray'> <class 'numpy.ndarray'>\n",
      "<class 'numpy.ndarray'> <class 'numpy.ndarray'>\n",
      "<class 'numpy.ndarray'> <class 'numpy.ndarray'>\n"
     ]
    },
    {
     "data": {
      "text/plain": [
       "[(array([3, 4, 5, 6]), array([0, 1, 2])),\n",
       " (array([0, 1, 2, 5, 6]), array([3, 4])),\n",
       " (array([0, 1, 2, 3, 4]), array([5, 6]))]"
      ]
     },
     "execution_count": 3,
     "metadata": {},
     "output_type": "execute_result"
    }
   ],
   "source": [
    "cv = kfold(7)\n",
    "cv"
   ]
  },
  {
   "cell_type": "code",
   "execution_count": null,
   "metadata": {},
   "outputs": [],
   "source": []
  }
 ],
 "metadata": {
  "celltoolbar": "Raw Cell Format",
  "kernelspec": {
   "display_name": "Python 3 (ipykernel)",
   "language": "python",
   "name": "python3"
  },
  "language_info": {
   "codemirror_mode": {
    "name": "ipython",
    "version": 3
   },
   "file_extension": ".py",
   "mimetype": "text/x-python",
   "name": "python",
   "nbconvert_exporter": "python",
   "pygments_lexer": "ipython3",
   "version": "3.7.9"
  }
 },
 "nbformat": 4,
 "nbformat_minor": 2
}
