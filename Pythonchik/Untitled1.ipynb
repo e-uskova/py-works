{
 "cells": [
  {
   "cell_type": "code",
   "execution_count": 7,
   "metadata": {},
   "outputs": [],
   "source": [
    "def nonify(func):\n",
    "    def wrapper(*args, **kwargs):\n",
    "        if func(*args, **kwargs):\n",
    "            return func(*args, **kwargs)\n",
    "        else:\n",
    "            return \n",
    "    return wrapper"
   ]
  },
  {
   "cell_type": "code",
   "execution_count": 20,
   "metadata": {},
   "outputs": [
    {
     "name": "stdout",
     "output_type": "stream",
     "text": [
      "5 None\n"
     ]
    }
   ],
   "source": [
    "@nonify\n",
    "def aNb(a, n, b):\n",
    "    return a*n+b\n",
    "\n",
    "print(aNb(1,2,3), aNb(\"QWE\",0,\"\"))"
   ]
  },
  {
   "cell_type": "code",
   "execution_count": 74,
   "metadata": {},
   "outputs": [],
   "source": [
    "import functools\n",
    "\n",
    "\n",
    "def fix(number):\n",
    "    def wrap(func):\n",
    "        @functools.wraps(func)\n",
    "        def wrapper(*args, **kwargs):\n",
    "            new_args, new_kwargs = [], {}\n",
    "            for arg in args:\n",
    "                new_args.append(round(arg, number) if isinstance(arg, float) else arg)\n",
    "            for key, value in kwargs.items():\n",
    "                new_kwargs[key] = round(value, number) if isinstance(value, float) else value\n",
    "            return round(func(*new_args, **new_kwargs), number)\n",
    "        return wrapper\n",
    "    return wrap\n"
   ]
  },
  {
   "cell_type": "code",
   "execution_count": 70,
   "metadata": {},
   "outputs": [
    {
     "name": "stdout",
     "output_type": "stream",
     "text": [
      "-13.1916\n"
     ]
    }
   ],
   "source": [
    "@fix(4)\n",
    "def aver(*args, sign=1):\n",
    "    return sum(args)*sign\n",
    "\n",
    "print(aver(2.45675901, 3.22656321, 3.432654345, 4.075463224, sign=-1))"
   ]
  },
  {
   "cell_type": "code",
   "execution_count": 8,
   "metadata": {},
   "outputs": [
    {
     "data": {
      "text/plain": [
       "201032"
      ]
     },
     "execution_count": 8,
     "metadata": {},
     "output_type": "execute_result"
    }
   ],
   "source": [
    "def biased(init):\n",
    "    bias = yield init\n",
    "    while bias:\n",
    "        init += bias*2+1\n",
    "        bias = yield init\n",
    "g = biased(10)\n",
    "next(g) # или, что то же самое, g.send(None)\n",
    "\n",
    "g.send(5)\n",
    "\n",
    "g.send(5)\n",
    "\n",
    "g.send(-1)\n",
    "\n",
    "g.send(100500)\n",
    "\n",
    "# g.send(0)"
   ]
  },
  {
   "cell_type": "code",
   "execution_count": 24,
   "metadata": {},
   "outputs": [],
   "source": [
    "def turtle(coord, direction):\n",
    "    di = direction\n",
    "    x, y = coord\n",
    "    cmd = yield coord\n",
    "    while cmd:\n",
    "        if cmd == 'l':\n",
    "            di = (di + 1) % 4\n",
    "        elif cmd == 'r':\n",
    "            di = (di + 3) % 4\n",
    "        elif cmd == 'f':\n",
    "            if di == 0:\n",
    "                x += 1\n",
    "            elif di == 1:\n",
    "                y += 1\n",
    "            elif di == 2:\n",
    "                x -= 1\n",
    "            elif di == 3:\n",
    "                y -= 1\n",
    "        cmd = yield x, y\n",
    "\n",
    "# g = turtle((0, 0), 0)\n",
    "# g.send(None)\n",
    "# g.send('f')\n"
   ]
  },
  {
   "cell_type": "code",
   "execution_count": 25,
   "metadata": {},
   "outputs": [
    {
     "name": "stdout",
     "output_type": "stream",
     "text": [
      "1 0\n",
      "1 0\n",
      "1 1\n",
      "1 1\n",
      "2 1\n",
      "3 1\n",
      "3 1\n",
      "3 0\n",
      "3 -1\n",
      "3 -1\n"
     ]
    }
   ],
   "source": [
    "robo = turtle((0,0),0)\n",
    "start = next(robo)\n",
    "for c in \"flfrffrffr\":\n",
    "    print(*robo.send(c))"
   ]
  },
  {
   "cell_type": "markdown",
   "metadata": {},
   "source": [
    "Написать, держитесь крепче, генератор-декоратор statcounter(), который конструирует объекты (назовём один из них stat) со следующим поведением. Первый вызов next(stat) (он же stat.send(None)) возвращает словарь, в котором stat будет хранить информацию вида функция: количество вызовов, где функция — это исходный (не обёрнутый) объект-функция (да, так тоже можно!). Все последующие вызовы stat.send(function) оборачивают вызов произвольной функции function увеличением на 1 соответствующего элемента словаря. Глобальными именами пользоваться нельзя. В примере видны уникальные id объектов, в тестах их не будет (я воспользуюсь function.__name__ или просто не буду их учитывать)."
   ]
  },
  {
   "cell_type": "code",
   "execution_count": 148,
   "metadata": {},
   "outputs": [],
   "source": [
    "def statcounter(func):\n",
    "    dic = {}\n",
    "    yield dic\n",
    "    while func:\n",
    "        print('while', func)\n",
    "        def decorator(func):\n",
    "            print('decorator')\n",
    "            def wrapper():\n",
    "                print('wrapper')\n",
    "                if func in list(dic.keys()):\n",
    "                    dic[func] += 1\n",
    "                else:\n",
    "                    dic[func] = 1\n",
    "            return wrapper\n",
    "        return decorator\n",
    "        print('dic', dic)\n",
    "        func = yield dic"
   ]
  },
  {
   "cell_type": "code",
   "execution_count": 149,
   "metadata": {},
   "outputs": [
    {
     "ename": "TypeError",
     "evalue": "statcounter() missing 1 required positional argument: 'func'",
     "output_type": "error",
     "traceback": [
      "\u001b[1;31m---------------------------------------------------------------------------\u001b[0m",
      "\u001b[1;31mTypeError\u001b[0m                                 Traceback (most recent call last)",
      "\u001b[1;32m<ipython-input-149-a89549bdd533>\u001b[0m in \u001b[0;36m<module>\u001b[1;34m\u001b[0m\n\u001b[1;32m----> 1\u001b[1;33m \u001b[0mstat\u001b[0m \u001b[1;33m=\u001b[0m \u001b[0mstatcounter\u001b[0m\u001b[1;33m(\u001b[0m\u001b[1;33m)\u001b[0m\u001b[1;33m\u001b[0m\u001b[1;33m\u001b[0m\u001b[0m\n\u001b[0m",
      "\u001b[1;31mTypeError\u001b[0m: statcounter() missing 1 required positional argument: 'func'"
     ]
    }
   ],
   "source": [
    "stat = statcounter()"
   ]
  },
  {
   "cell_type": "code",
   "execution_count": 150,
   "metadata": {},
   "outputs": [
    {
     "ename": "StopIteration",
     "evalue": "",
     "output_type": "error",
     "traceback": [
      "\u001b[1;31m---------------------------------------------------------------------------\u001b[0m",
      "\u001b[1;31mStopIteration\u001b[0m                             Traceback (most recent call last)",
      "\u001b[1;32m<ipython-input-150-f11bebf77e08>\u001b[0m in \u001b[0;36m<module>\u001b[1;34m\u001b[0m\n\u001b[1;32m----> 1\u001b[1;33m \u001b[0mstat\u001b[0m\u001b[1;33m.\u001b[0m\u001b[0msend\u001b[0m\u001b[1;33m(\u001b[0m\u001b[1;32mNone\u001b[0m\u001b[1;33m)\u001b[0m\u001b[1;33m\u001b[0m\u001b[1;33m\u001b[0m\u001b[0m\n\u001b[0m",
      "\u001b[1;31mStopIteration\u001b[0m: "
     ]
    }
   ],
   "source": [
    "stat.send(None)"
   ]
  },
  {
   "cell_type": "code",
   "execution_count": 151,
   "metadata": {},
   "outputs": [],
   "source": [
    "@statcounter\n",
    "def f():\n",
    "    print('help')\n",
    "    \n",
    "a = f\n",
    "\n",
    "def ff():\n",
    "    print('HELP')"
   ]
  },
  {
   "cell_type": "code",
   "execution_count": 152,
   "metadata": {},
   "outputs": [
    {
     "data": {
      "text/plain": [
       "{}"
      ]
     },
     "execution_count": 152,
     "metadata": {},
     "output_type": "execute_result"
    }
   ],
   "source": [
    "a.send(None)\n"
   ]
  },
  {
   "cell_type": "code",
   "execution_count": 154,
   "metadata": {},
   "outputs": [
    {
     "name": "stdout",
     "output_type": "stream",
     "text": [
      "while <function ff at 0x000001F54A7537B8>\n",
      "dic {}\n"
     ]
    },
    {
     "data": {
      "text/plain": [
       "{}"
      ]
     },
     "execution_count": 154,
     "metadata": {},
     "output_type": "execute_result"
    }
   ],
   "source": [
    "a.send(ff)"
   ]
  },
  {
   "cell_type": "code",
   "execution_count": null,
   "metadata": {},
   "outputs": [],
   "source": []
  },
  {
   "cell_type": "code",
   "execution_count": null,
   "metadata": {},
   "outputs": [],
   "source": []
  },
  {
   "cell_type": "code",
   "execution_count": null,
   "metadata": {},
   "outputs": [],
   "source": []
  },
  {
   "cell_type": "code",
   "execution_count": 70,
   "metadata": {},
   "outputs": [
    {
     "ename": "NameError",
     "evalue": "name 'function' is not defined",
     "output_type": "error",
     "traceback": [
      "\u001b[1;31m---------------------------------------------------------------------------\u001b[0m",
      "\u001b[1;31mNameError\u001b[0m                                 Traceback (most recent call last)",
      "\u001b[1;32m<ipython-input-70-fffc97b054b5>\u001b[0m in \u001b[0;36m<module>\u001b[1;34m\u001b[0m\n\u001b[1;32m----> 1\u001b[1;33m \u001b[0mstat\u001b[0m\u001b[1;33m.\u001b[0m\u001b[0msend\u001b[0m\u001b[1;33m(\u001b[0m\u001b[0mfunction\u001b[0m\u001b[1;33m)\u001b[0m\u001b[1;33m\u001b[0m\u001b[1;33m\u001b[0m\u001b[0m\n\u001b[0m",
      "\u001b[1;31mNameError\u001b[0m: name 'function' is not defined"
     ]
    }
   ],
   "source": [
    "stat.send(function)"
   ]
  },
  {
   "cell_type": "code",
   "execution_count": null,
   "metadata": {},
   "outputs": [],
   "source": []
  }
 ],
 "metadata": {
  "kernelspec": {
   "display_name": "Python 3",
   "language": "python",
   "name": "python3"
  },
  "language_info": {
   "codemirror_mode": {
    "name": "ipython",
    "version": 3
   },
   "file_extension": ".py",
   "mimetype": "text/x-python",
   "name": "python",
   "nbconvert_exporter": "python",
   "pygments_lexer": "ipython3",
   "version": "3.7.3"
  }
 },
 "nbformat": 4,
 "nbformat_minor": 2
}
