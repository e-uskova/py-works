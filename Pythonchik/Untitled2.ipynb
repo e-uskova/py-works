{
 "cells": [
  {
   "cell_type": "markdown",
   "metadata": {},
   "source": [
    "Ввести построчно четвёрки вида «число число число слово», где первые три числа — это координаты галактики по имени «слово» (некоторые галактики могут называться одинаково, но координаты у всех разные). Последняя строка ввода не содержит пробелов и не учитывается. Вывести в алфавитном порядке имена любых двух наиболее удалённых друг от друга галактик."
   ]
  },
  {
   "cell_type": "code",
   "execution_count": 144,
   "metadata": {},
   "outputs": [
    {
     "name": "stdout",
     "output_type": "stream",
     "text": [
      "35.764 -797.636 -770.320 almost\n",
      "88.213 -61.688 778.457 gene\n",
      "-322.270 -248.555 -812.730 trend\n",
      "721.262 630.355 968.287 dow\n",
      "-895.519 -970.173 97.282 non\n",
      "-561.036 -350.840 -723.149 disco\n",
      "-151.546 -900.962 -658.862 bidder\n",
      "-716.197 478.576 -695.843 hawaii\n",
      "-744.664 -173.034 -11.211 sad\n",
      "-999.968 990.467 650.551 erik\n",
      ".\n"
     ]
    }
   ],
   "source": [
    "x = str(input())\n",
    "d = {}\n",
    "while ' ' in x:\n",
    "    x = x.split()\n",
    "    d[(float(x[0]), float(x[1]), float(x[2]))] = x[3]\n",
    "    x = str(input())"
   ]
  },
  {
   "cell_type": "code",
   "execution_count": 190,
   "metadata": {},
   "outputs": [
    {
     "name": "stdout",
     "output_type": "stream",
     "text": [
      "almost erik\n",
      "0.9539127349853516\n"
     ]
    }
   ],
   "source": [
    "import time\n",
    "s = time.time()\n",
    "max_d = 0\n",
    "for i in range(len(d)):\n",
    "    a = list(d.keys())[i]\n",
    "    for j in range(i, len(d)):\n",
    "        b = list(d.keys())[j]\n",
    "# for a in list(d.keys()):\n",
    "#     for b in list(d.keys()):\n",
    "        dist = (a[0] - b[0]) ** 2 + (a[1] - b[1]) ** 2 + (a[2] - b[2]) ** 2\n",
    "        if dist > max_d:\n",
    "            max_d = dist\n",
    "            max_couple = [d[a], d[b]]\n",
    "max_couple = sorted(max_couple)\n",
    "print(max_couple[0], max_couple[1])\n",
    "e = time.time()\n",
    "print((e-s) * 1000)"
   ]
  },
  {
   "cell_type": "code",
   "execution_count": 150,
   "metadata": {},
   "outputs": [
    {
     "data": {
      "text/plain": [
       "{(35.764, -797.636, -770.32): 'almost',\n",
       " (88.213, -61.688, 778.457): 'gene',\n",
       " (-322.27, -248.555, -812.73): 'trend',\n",
       " (721.262, 630.355, 968.287): 'dow',\n",
       " (-895.519, -970.173, 97.282): 'non',\n",
       " (-561.036, -350.84, -723.149): 'disco',\n",
       " (-151.546, -900.962, -658.862): 'bidder',\n",
       " (-716.197, 478.576, -695.843): 'hawaii',\n",
       " (-744.664, -173.034, -11.211): 'sad',\n",
       " (-999.968, 990.467, 650.551): 'erik'}"
      ]
     },
     "execution_count": 150,
     "metadata": {},
     "output_type": "execute_result"
    }
   ],
   "source": [
    "d"
   ]
  },
  {
   "cell_type": "markdown",
   "metadata": {},
   "source": [
    "almost erik"
   ]
  },
  {
   "cell_type": "markdown",
   "metadata": {},
   "source": [
    "35.764 -797.636 -770.320 almost\n",
    "88.213 -61.688 778.457 gene\n",
    "-322.270 -248.555 -812.730 trend\n",
    "721.262 630.355 968.287 dow\n",
    "-895.519 -970.173 97.282 non\n",
    "-561.036 -350.840 -723.149 disco\n",
    "-151.546 -900.962 -658.862 bidder\n",
    "-716.197 478.576 -695.843 hawaii\n",
    "-744.664 -173.034 -11.211 sad\n",
    "-999.968 990.467 650.551 erik\n",
    "."
   ]
  }
 ],
 "metadata": {
  "kernelspec": {
   "display_name": "Python 3",
   "language": "python",
   "name": "python3"
  },
  "language_info": {
   "codemirror_mode": {
    "name": "ipython",
    "version": 3
   },
   "file_extension": ".py",
   "mimetype": "text/x-python",
   "name": "python",
   "nbconvert_exporter": "python",
   "pygments_lexer": "ipython3",
   "version": "3.7.3"
  }
 },
 "nbformat": 4,
 "nbformat_minor": 2
}
