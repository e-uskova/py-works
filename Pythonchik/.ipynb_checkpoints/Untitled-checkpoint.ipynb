{
 "cells": [
  {
   "cell_type": "code",
   "execution_count": 51,
   "metadata": {},
   "outputs": [
    {
     "name": "stdout",
     "output_type": "stream",
     "text": [
      "1 2 10 10 *\n",
      "-2 -1 10 10 #\n",
      "3 4 -10 10 @\n",
      "5 6 10 -10 %\n",
      "0 0 0 0 0\n",
      "............%%%%%%%%%%\n",
      "............%%%%%%%%%%\n",
      "............%%%%%%%%%%\n",
      ".....#######%%%%%%%%%%\n",
      ".....#######%%%%%%%%%%\n",
      ".....#######%%%%%%%%%%\n",
      ".....#######%%%%%%%%%%\n",
      ".....#######%%%%%%%%%%\n",
      "@@@@@@@@@@##%%%%%%%%%%\n",
      "@@@@@@@@@@##%%%%%%%%%%\n",
      "@@@@@@@@@@#####***....\n",
      "@@@@@@@@@@#####***....\n",
      "@@@@@@@@@@#####***....\n",
      "@@@@@@@@@@********....\n",
      "@@@@@@@@@@********....\n",
      "@@@@@@@@@@********....\n",
      "@@@@@@@@@@............\n",
      "@@@@@@@@@@............\n"
     ]
    }
   ],
   "source": [
    "rec = [0] * 5\n",
    "rec = input().split()\n",
    "masrec = []\n",
    "x, y = map(int, rec[0:2])\n",
    "left = right = x\n",
    "up = down = y\n",
    "\n",
    "while rec != ['0'] * 5:\n",
    "    rec[0:4] = map(int, rec[0:4])\n",
    "    if rec[2] != 0 and rec[3] != 0:\n",
    "        left = min(rec[0], rec[0] + rec[2], left)\n",
    "        right = max(rec[0], rec[0] + rec[2], right)\n",
    "        up = min(rec[1], rec[1] + rec[3], up)\n",
    "        down = max(rec[1], rec[1] + rec[3], down)\n",
    "        masrec.append(rec)\n",
    "    rec = input().split()\n",
    "\n",
    "matrix = []\n",
    "width = right - left\n",
    "for i in range(down - up):\n",
    "    matrix.append('.' * width)\n",
    "for rec in masrec:\n",
    "    if rec[2] < 0:\n",
    "        rec[0] += rec[2]\n",
    "        rec[2] = -rec[2]\n",
    "    if rec[3] < 0:\n",
    "        rec[1] += rec[3]\n",
    "        rec[3] = -rec[3]\n",
    "    rec[0] -= left\n",
    "    rec[1] -= up\n",
    "\n",
    "    for i in range(rec[1], rec[1] + rec[3]):\n",
    "        matrix[i] = matrix[i][0:rec[0]] + rec[4] * rec[2] +\\\n",
    "                    matrix[i][rec[0] + rec[2]:width]\n",
    "for i in matrix:\n",
    "    print(*i, sep='')\n"
   ]
  },
  {
   "cell_type": "code",
   "execution_count": null,
   "metadata": {},
   "outputs": [],
   "source": [
    "1 2 10 10 *\n",
    "-2 -1 10 10 #\n",
    "3 4 -10 10 @\n",
    "5 6 10 -10 %\n",
    "0 0 0 0 0"
   ]
  }
 ],
 "metadata": {
  "kernelspec": {
   "display_name": "Python 3 (ipykernel)",
   "language": "python",
   "name": "python3"
  },
  "language_info": {
   "codemirror_mode": {
    "name": "ipython",
    "version": 3
   },
   "file_extension": ".py",
   "mimetype": "text/x-python",
   "name": "python",
   "nbconvert_exporter": "python",
   "pygments_lexer": "ipython3",
   "version": "3.7.9"
  }
 },
 "nbformat": 4,
 "nbformat_minor": 2
}
