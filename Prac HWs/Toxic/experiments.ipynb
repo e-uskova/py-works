{
 "cells": [
  {
   "cell_type": "code",
   "execution_count": 1,
   "metadata": {},
   "outputs": [],
   "source": [
    "%load_ext autoreload"
   ]
  },
  {
   "cell_type": "code",
   "execution_count": 2,
   "metadata": {},
   "outputs": [],
   "source": [
    "%autoreload 2\n",
    "import numpy as np\n",
    "import pandas as pd\n",
    "import scipy as sc\n",
    "from scipy import sparse\n",
    "from scipy.special import expit\n",
    "import time, random, re\n",
    "import oracles, optimization"
   ]
  },
  {
   "cell_type": "code",
   "execution_count": 3,
   "metadata": {},
   "outputs": [],
   "source": [
    "t_train = pd.read_csv(\"toxic_train.csv\")\n",
    "t_test = pd.read_csv(\"toxic_test.csv\")"
   ]
  },
  {
   "cell_type": "markdown",
   "metadata": {},
   "source": [
    "### Эксперимент 1"
   ]
  },
  {
   "cell_type": "code",
   "execution_count": 4,
   "metadata": {},
   "outputs": [],
   "source": [
    "t_train = t_train.drop(columns=['Unnamed: 0'])\n",
    "t_test = t_test.drop(columns=['Unnamed: 0'])"
   ]
  },
  {
   "cell_type": "code",
   "execution_count": 5,
   "metadata": {},
   "outputs": [],
   "source": [
    "t_train['comment_text'] = t_train['comment_text'].str.lower()\n",
    "t_test['comment_text'] = t_test['comment_text'].str.lower()"
   ]
  },
  {
   "cell_type": "code",
   "execution_count": 6,
   "metadata": {},
   "outputs": [],
   "source": [
    "t_train['comment_text'] = t_train['comment_text'].str.replace(r'[^a-zA-Z0-9]', ' ').str.replace(r'\\s+', ' ')\n",
    "t_test['comment_text'] = t_test['comment_text'].str.replace(r'[^a-zA-Z0-9]', ' ').str.replace(r'\\s+', ' ')"
   ]
  },
  {
   "cell_type": "code",
   "execution_count": 7,
   "metadata": {},
   "outputs": [],
   "source": [
    "# t_train.to_csv('t_train.csv', index=False)\n",
    "# t_test.to_csv('t_test.csv', index=False)"
   ]
  },
  {
   "cell_type": "markdown",
   "metadata": {},
   "source": [
    "### Эксперимент 2"
   ]
  },
  {
   "cell_type": "code",
   "execution_count": 8,
   "metadata": {},
   "outputs": [],
   "source": [
    "from sklearn.feature_extraction.text import CountVectorizer"
   ]
  },
  {
   "cell_type": "code",
   "execution_count": 9,
   "metadata": {},
   "outputs": [],
   "source": [
    "vectorizer = CountVectorizer(min_df=100)"
   ]
  },
  {
   "cell_type": "code",
   "execution_count": 10,
   "metadata": {},
   "outputs": [],
   "source": [
    "train_ft = vectorizer.fit_transform(t_train['comment_text'])"
   ]
  },
  {
   "cell_type": "code",
   "execution_count": 11,
   "metadata": {},
   "outputs": [],
   "source": [
    "train_f = vectorizer.fit(t_train['comment_text'])"
   ]
  },
  {
   "cell_type": "code",
   "execution_count": 12,
   "metadata": {},
   "outputs": [],
   "source": [
    "test_t = vectorizer.transform(t_test['comment_text'])"
   ]
  },
  {
   "cell_type": "code",
   "execution_count": 13,
   "metadata": {},
   "outputs": [
    {
     "data": {
      "text/plain": [
       "(52061, 2337)"
      ]
     },
     "execution_count": 13,
     "metadata": {},
     "output_type": "execute_result"
    }
   ],
   "source": [
    "train_ft.shape"
   ]
  },
  {
   "cell_type": "code",
   "execution_count": null,
   "metadata": {},
   "outputs": [],
   "source": []
  },
  {
   "cell_type": "markdown",
   "metadata": {},
   "source": [
    "### Эксперимент 3"
   ]
  },
  {
   "cell_type": "code",
   "execution_count": 14,
   "metadata": {},
   "outputs": [],
   "source": [
    "import matplotlib.pyplot as plt\n",
    "%matplotlib inline"
   ]
  },
  {
   "cell_type": "code",
   "execution_count": 15,
   "metadata": {},
   "outputs": [],
   "source": [
    "# clf = optimization.GDClassifier(loss_function='binary_logistic', step_alpha=1,\n",
    "#     step_beta=0, tolerance=1e-4, max_iter=5, l2_coef=0.1)\n",
    "\n",
    "X = train_ft\n",
    "y = np.array([1 if ist else -1 for ist in t_train['is_toxic']])\n",
    "# w = np.ones((X.shape[1])) * 0.01\n",
    "# history = clf.fit(X, y, w_0=np.zeros_like(w), trace=True)\n",
    "# print(' '.join([str(x) for x in history['func']]))"
   ]
  },
  {
   "cell_type": "code",
   "execution_count": 16,
   "metadata": {},
   "outputs": [],
   "source": [
    "alpha_list = [1, 0.5, 0.2]\n",
    "beta_list = [2, 4, 6]\n",
    "w_list = [np.zeros(X.shape[1])]"
   ]
  },
  {
   "cell_type": "code",
   "execution_count": 17,
   "metadata": {},
   "outputs": [
    {
     "name": "stdout",
     "output_type": "stream",
     "text": [
      "alpha = 1, beta = 2, fit time = 24.53386378288269\n",
      "alpha = 1, beta = 4, fit time = 14.607996702194214\n",
      "alpha = 1, beta = 6, fit time = 3.9947431087493896\n",
      "alpha = 0.5, beta = 2, fit time = 29.6839702129364\n",
      "alpha = 0.5, beta = 4, fit time = 7.380019426345825\n",
      "alpha = 0.5, beta = 6, fit time = 5.036070346832275\n",
      "alpha = 0.2, beta = 2, fit time = 18.965423107147217\n",
      "alpha = 0.2, beta = 4, fit time = 4.3800578117370605\n",
      "alpha = 0.2, beta = 6, fit time = 3.616501808166504\n",
      "Wall time: 1min 52s\n"
     ]
    }
   ],
   "source": [
    "%%time\n",
    "hist = []\n",
    "for a in alpha_list:\n",
    "    for b in beta_list:\n",
    "        for w in w_list:\n",
    "            clf = optimization.GDClassifier(loss_function='binary_logistic', step_alpha=a,\n",
    "                step_beta=b, tolerance=1e-4, max_iter=30, l2_coef=0.1)\n",
    "            start_time = time.time()\n",
    "            hist.append(clf.fit(X, y, w_0=w, trace=True))\n",
    "            print(f'alpha = {a}, beta = {b}, fit time = {time.time() - start_time}')"
   ]
  },
  {
   "cell_type": "code",
   "execution_count": 18,
   "metadata": {},
   "outputs": [
    {
     "name": "stdout",
     "output_type": "stream",
     "text": [
      "0.8614120556568862\n",
      "1.413588356465274\n",
      "1.503281303058153\n",
      "0.6847894577233915\n",
      "0.870555632247216\n",
      "0.9017613441144531\n",
      "0.6153422851804429\n",
      "0.6431097231091383\n",
      "0.64807231557232\n"
     ]
    },
    {
     "data": {
      "image/png": "[encoded data removed]",
      "text/plain": [
       "<Figure size 360x1440 with 9 Axes>"
      ]
     },
     "metadata": {
      "needs_background": "light"
     },
     "output_type": "display_data"
    }
   ],
   "source": [
    "fig, axs = plt.subplots(len(hist), figsize=(5,20))\n",
    "for i, history in enumerate(hist):\n",
    "    axs[i].plot(history['func'])\n",
    "    print(history['func'][-1])"
   ]
  },
  {
   "cell_type": "markdown",
   "metadata": {},
   "source": [
    "Чем больше beta, тем быстрее сходится. При beta = 0, alpha = 1 очень странное поведение + переполнение в экспоненте на 10 и 20 шагах (из 30).\n",
    "\n",
    "При alpha > 1 всё уходит в inf.\n",
    "\n",
    "При уменьшении alpha сходится быстрее. К разным значениям...\n",
    "\n",
    "При больших beta и малых alpha сходится к ~одному числу.\n",
    "\n",
    "Чем быстрее сходится, тем меньше время обучения <- из-за выхода по tolerance.\n",
    "\n",
    "Значения не зависят от размера выборки(min_df=1 or min_df=100). Меняется время обучения.\n",
    "\n",
    "Всё вышесказанное верно для нулевого начального приближения.\n",
    "\n",
    "Начальное приближение - единички:\n",
    "\n",
    "всё nan (30 итераций), кроме первых двух значений. Они inf. Просто код плохой, по-поему.\n",
    "\n",
    "Нач. приближ - 0.1:\n",
    "\n",
    "При  а = 1 начиная с 3го значения, ф-ия inf\n",
    "\n",
    "В остальных случаях - достаточно адекватные числа. и они даже сходятся! К разным значениям...\n",
    "\n",
    "w0 = 0.01:\n",
    "\n",
    "При а = 1 поведение такое же - уходит в бесконечность. Сразу\n",
    "\n",
    "При а = 0.5 поведение, характерное для нулевого приближения\n",
    "\n",
    "При а = 0.2 поведение как для единичек"
   ]
  },
  {
   "cell_type": "code",
   "execution_count": null,
   "metadata": {},
   "outputs": [],
   "source": []
  }
 ],
 "metadata": {
  "kernelspec": {
   "display_name": "Python 3",
   "language": "python",
   "name": "python3"
  },
  "language_info": {
   "codemirror_mode": {
    "name": "ipython",
    "version": 3
   },
   "file_extension": ".py",
   "mimetype": "text/x-python",
   "name": "python",
   "nbconvert_exporter": "python",
   "pygments_lexer": "ipython3",
   "version": "3.7.3"
  }
 },
 "nbformat": 4,
 "nbformat_minor": 2
}
