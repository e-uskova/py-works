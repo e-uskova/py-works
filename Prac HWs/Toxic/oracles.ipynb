{
 "cells": [
  {
   "cell_type": "code",
   "execution_count": 88,
   "metadata": {},
   "outputs": [],
   "source": [
    "import numpy as np\n",
    "import scipy as sc\n",
    "from scipy import sparse\n",
    "from scipy.special import expit\n",
    "\n",
    "\n",
    "class BaseSmoothOracle:\n",
    "    \"\"\"\n",
    "    Базовый класс для реализации оракулов.\n",
    "    \"\"\"\n",
    "    def func(self, w):\n",
    "        \"\"\"\n",
    "        Вычислить значение функции в точке w.\n",
    "        \"\"\"\n",
    "        raise NotImplementedError('Func oracle is not implemented.')\n",
    "\n",
    "    def grad(self, w):\n",
    "        \"\"\"\n",
    "        Вычислить значение градиента функции в точке w.\n",
    "        \"\"\"\n",
    "        raise NotImplementedError('Grad oracle is not implemented.')\n",
    "\n",
    "\n",
    "class BinaryLogistic(BaseSmoothOracle):\n",
    "    \"\"\"\n",
    "    Оракул для задачи двухклассовой логистической регрессии.\n",
    "\n",
    "    Оракул должен поддерживать l2 регуляризацию.\n",
    "    \"\"\"\n",
    "\n",
    "    def __init__(self, l2_coef):\n",
    "        \"\"\"\n",
    "        Задание параметров оракула.\n",
    "\n",
    "        l2_coef - коэффициент l2 регуляризации\n",
    "        \"\"\"\n",
    "        self.l2_coef = l2_coef\n",
    "        pass\n",
    "\n",
    "    def func(self, X, y, w):\n",
    "        \"\"\"\n",
    "        Вычислить значение функционала в точке w на выборке X с ответами y.\n",
    "\n",
    "        X - scipy.sparse.csr_matrix или двумерный numpy.array\n",
    "\n",
    "        y - одномерный numpy array\n",
    "\n",
    "        w - одномерный numpy array\n",
    "        \"\"\"\n",
    "        if sc.sparse.issparse(X):\n",
    "            sp_mtr = sparse.csr_matrix(-y).multiply(sparse.csr_matrix(w).dot(X.transpose()))\n",
    "            return 1 / y.size *\\\n",
    "                (np.sum(np.log(np.exp(sp_mtr.data) + 1)) + (sp_mtr.shape[1] - sp_mtr.data.shape[0]) * np.log(2))+\\\n",
    "                self.l2_coef / 2 * np.linalg.norm(w) ** 2\n",
    "        else:\n",
    "            return 1 / y.size *\\\n",
    "                np.sum(np.log(1 + np.exp(-y.reshape(1, -1) *\n",
    "                                         np.dot(w, X.T)))) +\\\n",
    "                self.l2_coef / 2 * np.linalg.norm(w) ** 2\n",
    "        return super().func(w)\n",
    "\n",
    "    def grad(self, X, y, w):\n",
    "        \"\"\"\n",
    "        Вычислить градиент функционала в точке w на выборке X с ответами y.\n",
    "\n",
    "        X - scipy.sparse.csr_matrix или двумерный numpy.array\n",
    "\n",
    "        y - одномерный numpy array\n",
    "\n",
    "        w - одномерный numpy array\n",
    "        \"\"\"\n",
    "        if sc.sparse.issparse(X):\n",
    "            margin = sparse.csr_matrix(y).multiply(sparse.csr_matrix(w).dot(X.transpose()))\n",
    "            niz = margin.copy()\n",
    "            niz.data = expit(margin.data)\n",
    "            margin.data = np.exp(-margin.data)\n",
    "            if np.count_nonzero(w):\n",
    "                return - 1 / y.size * \\\n",
    "                    np.array((margin.multiply(sparse.csr_matrix(y)).multiply(X.transpose()).multiply(niz)).sum(axis=1)).ravel() +\\\n",
    "                    self.l2_coef * w\n",
    "            else:\n",
    "                return - 1 / y.size * \\\n",
    "                    (np.array((margin.multiply(sparse.csr_matrix(y)).multiply(X.transpose()).multiply(niz)).sum(axis=1)).ravel() +\n",
    "                    0.5 * np.array(sparse.csr_matrix(y).multiply(X.transpose()).sum(axis=1)).ravel()) +\\\n",
    "                    self.l2_coef * w\n",
    "        else:\n",
    "            return - 1 / y.size * \\\n",
    "                np.sum(np.exp(-y * np.dot(w, X.T)).reshape(-1, 1) *\n",
    "                       y.reshape(-1, 1) * X /\n",
    "                       np.array(1 + np.exp(-y * np.dot(w, X.T))).reshape(-1, 1),\n",
    "                       axis=0) + self.l2_coef * w\n",
    "        return super().grad(w)\n"
   ]
  },
  {
   "cell_type": "code",
   "execution_count": 91,
   "metadata": {
    "scrolled": true
   },
   "outputs": [
    {
     "name": "stdout",
     "output_type": "stream",
     "text": [
      "[-0.16666667 -0.16666667 -0.33333333 -0.5         0.        ]\n",
      "0.42984666179332925\n",
      "[-0.0362897  -0.08431357 -0.16862714 -0.1088691   0.        ]\n",
      "0.392155519111847\n",
      "[-0.0184156  -0.04885293 -0.09770587 -0.05524679  0.        ]\n",
      "0.37978971531719696\n",
      "[-0.01070454 -0.03086667 -0.06173334 -0.03211362  0.        ]\n",
      "0.37491359404310054\n"
     ]
    }
   ],
   "source": [
    "X = np.array([[0, 1, 2, 0, 0], [1, 0, 0, 3, 0], [0, 0, 0, 0, 0]])\n",
    "y = np.array([1, 1, -1])\n",
    "w_0 = np.zeros(5)\n",
    "clf = BinaryLogistic(l2_coef=0.1)\n",
    "w = w_0.copy()\n",
    "w_k = w_0.copy()\n",
    "for k in range(1, max_iter):\n",
    "    print(clf.grad(X, y, w_k))\n",
    "    w_k1 = w_k - alpha / (k ** beta) * clf.grad(X, y, w_k)\n",
    "    print(clf.func(X, y, w_k1))    \n",
    "    w_k = w_k1.copy()\n",
    "# print('\\n', clf.grad(X, y, -np.array([-0.16666667, -0.16666667, -0.33333333, -0.5, 0.])))"
   ]
  },
  {
   "cell_type": "code",
   "execution_count": 92,
   "metadata": {},
   "outputs": [
    {
     "name": "stdout",
     "output_type": "stream",
     "text": [
      "[-0.16666667 -0.16666667 -0.33333333 -0.5         0.        ]\n",
      "0.42984666179332925\n",
      "[-0.0362897  -0.08431357 -0.16862714 -0.1088691   0.        ]\n",
      "0.392155519111847\n",
      "[-0.0184156  -0.04885293 -0.09770587 -0.05524679  0.        ]\n",
      "0.37978971531719696\n",
      "[-0.01070454 -0.03086667 -0.06173334 -0.03211362  0.        ]\n",
      "0.37491359404310054\n"
     ]
    }
   ],
   "source": [
    "X = np.array([[0, 1, 2, 0, 0], [1, 0, 0, 3, 0], [0, 0, 0, 0, 0]])\n",
    "X = sparse.csr_matrix(X)\n",
    "y = np.array([1, 1, -1])\n",
    "w_0 = np.zeros(5)\n",
    "clf = BinaryLogistic(l2_coef=0.1)\n",
    "w = w_0.copy()\n",
    "w_k = w_0.copy()\n",
    "for k in range(1, max_iter):\n",
    "    print(clf.grad(X, y, w_k))\n",
    "    w_k1 = w_k - alpha / (k ** beta) * clf.grad(X, y, w_k)\n",
    "    print(clf.func(X, y, w_k1))    \n",
    "    w_k = w_k1.copy()\n",
    "# print('\\n', clf.grad(X, y, -np.array([-0.16666667, -0.16666667, -0.33333333, -0.5, 0.])))"
   ]
  },
  {
   "cell_type": "code",
   "execution_count": null,
   "metadata": {},
   "outputs": [],
   "source": []
  },
  {
   "cell_type": "code",
   "execution_count": 86,
   "metadata": {
    "scrolled": true
   },
   "outputs": [
    {
     "name": "stdout",
     "output_type": "stream",
     "text": [
      "[ 0.00027869  0.00711611  0.01160488 -0.00086325  0.00926855  0.00675723\n",
      "  0.00278599  0.00450789  0.01230398  0.01148879]\n",
      "0.6926868443805101\n",
      "[-0.00363342  0.00210854  0.00617056 -0.00475758  0.00407212  0.00201085\n",
      " -0.00138171  0.00013195  0.00679131  0.0061085 ]\n",
      "0.6925235796993467\n",
      "[-0.00425329  0.00071929  0.00431978 -0.00527168  0.00245644  0.00068436\n",
      " -0.0022579  -0.00093611  0.00486688  0.00426456]\n",
      "0.6924122120106758\n",
      "[-0.00402582  0.00032368  0.00349503 -0.00492685  0.00184626  0.00029926\n",
      " -0.00226477 -0.00111297  0.00397612  0.00343609]\n",
      "0.6923275050752085\n"
     ]
    }
   ],
   "source": [
    "np.random.seed(10)\n",
    "alpha=1\n",
    "beta=0\n",
    "tolerance=1e-4\n",
    "max_iter=5\n",
    "l2_coef=0.1\n",
    "l, d = 1000, 10\n",
    "X = np.random.random((l, d))\n",
    "y = np.random.randint(0, 2, l) * 2 - 1\n",
    "w = np.random.random(d)\n",
    "w_0 = np.zeros(d)\n",
    "# history = clf.fit(X, y, w_0=np.zeros(d), trace=True)\n",
    "# print(' '.join([str(x) for x in history['func']]))\n",
    "# clf.get_weights()\n",
    "clf = BinaryLogistic(l2_coef=0.1)\n",
    "w = w_0.copy()\n",
    "w_k = w_0.copy()\n",
    "for k in range(1, max_iter):\n",
    "    print(clf.grad(X, y, w_k))\n",
    "    w_k1 = w_k - alpha / (k ** beta) * clf.grad(X, y, w_k)\n",
    "\n",
    "    print(clf.func(X, y, w_k1))\n",
    "    \n",
    "#     if np.absolute(clf.func(X, y, w_k1) -\n",
    "#                    clf.func(X, y, w_k)) < tolerance:\n",
    "#         break\n",
    "    w_k = w_k1.copy()\n"
   ]
  },
  {
   "cell_type": "code",
   "execution_count": 87,
   "metadata": {},
   "outputs": [
    {
     "name": "stdout",
     "output_type": "stream",
     "text": [
      "[ 0.00027869  0.00711611  0.01160488 -0.00086325  0.00926855  0.00675723\n",
      "  0.00278599  0.00450789  0.01230398  0.01148879]\n",
      "0.6926868443805101\n",
      "[-0.00363342  0.00210854  0.00617056 -0.00475758  0.00407212  0.00201085\n",
      " -0.00138171  0.00013195  0.00679131  0.0061085 ]\n",
      "0.6925235796993467\n",
      "[-0.00425329  0.00071929  0.00431978 -0.00527168  0.00245644  0.00068436\n",
      " -0.0022579  -0.00093611  0.00486688  0.00426456]\n",
      "0.6924122120106759\n",
      "[-0.00402582  0.00032368  0.00349503 -0.00492685  0.00184626  0.00029926\n",
      " -0.00226477 -0.00111297  0.00397612  0.00343609]\n",
      "0.6923275050752085\n"
     ]
    }
   ],
   "source": [
    "np.random.seed(10)\n",
    "alpha=1\n",
    "beta=0\n",
    "tolerance=1e-4\n",
    "max_iter=5\n",
    "l2_coef=0.1\n",
    "l, d = 1000, 10\n",
    "X = np.random.random((l, d))\n",
    "X = sparse.csr_matrix(X)\n",
    "y = np.random.randint(0, 2, l) * 2 - 1\n",
    "w = np.random.random(d)\n",
    "w_0 = np.zeros(d)\n",
    "# history = clf.fit(X, y, w_0=np.zeros(d), trace=True)\n",
    "# print(' '.join([str(x) for x in history['func']]))\n",
    "# clf.get_weights()\n",
    "clf = BinaryLogistic(l2_coef=0.1)\n",
    "w = w_0.copy()\n",
    "w_k = w_0.copy()\n",
    "for k in range(1, max_iter):\n",
    "    print(clf.grad(X, y, w_k))\n",
    "    w_k1 = w_k - alpha / (k ** beta) * clf.grad(X, y, w_k)\n",
    "\n",
    "    print(clf.func(X, y, w_k1))\n",
    "    \n",
    "#     if np.absolute(clf.func(X, y, w_k1) -\n",
    "#                    clf.func(X, y, w_k)) < tolerance:\n",
    "#         break\n",
    "    w_k = w_k1.copy()\n"
   ]
  },
  {
   "cell_type": "code",
   "execution_count": null,
   "metadata": {},
   "outputs": [],
   "source": []
  },
  {
   "cell_type": "code",
   "execution_count": 97,
   "metadata": {},
   "outputs": [
    {
     "name": "stdout",
     "output_type": "stream",
     "text": [
      "<class 'numpy.matrix'>\n"
     ]
    }
   ],
   "source": [
    "if sc.sparse.issparse(X):\n",
    "    print(type(np.exp(sparse.csr_matrix(-y).multiply(sparse.csr_matrix(w).dot(X.transpose())).todense())))\n",
    "else:\n",
    "    print((np.exp(-y.reshape(1, -1) * np.dot(w, X.T))))"
   ]
  },
  {
   "cell_type": "code",
   "execution_count": 2,
   "metadata": {},
   "outputs": [],
   "source": [
    "bl = BinaryLogistic(1)"
   ]
  },
  {
   "cell_type": "code",
   "execution_count": 3,
   "metadata": {},
   "outputs": [],
   "source": [
    "X = np.array([[3, 3, 3], [0, 0, 0], [1, 1, 1]])\n",
    "y = np.array([1, -1, -1])\n",
    "w = np.array([5, 3, 2])"
   ]
  },
  {
   "cell_type": "code",
   "execution_count": 4,
   "metadata": {},
   "outputs": [
    {
     "name": "stdout",
     "output_type": "stream",
     "text": [
      "7.85 ms ± 2.97 ms per loop (mean ± std. dev. of 7 runs, 1 loop each)\n"
     ]
    }
   ],
   "source": [
    "%%timeit\n",
    "np.random.seed(4181)\n",
    "l2_coef = np.random.randint(0, 10)\n",
    "l, d = 1000, 10\n",
    "my_oracle = BinaryLogistic(l2_coef=l2_coef)\n",
    "X = sc.sparse.csr_matrix(np.random.random((l, d)))\n",
    "# X = np.random.random((l, d))\n",
    "\n",
    "y = np.random.randint(0, 2, l) * 2 - 1\n",
    "w = np.random.random(d)\n",
    "res = my_oracle.func(X, y, w)\n",
    "# print(res)"
   ]
  },
  {
   "cell_type": "code",
   "execution_count": 5,
   "metadata": {},
   "outputs": [
    {
     "ename": "NameError",
     "evalue": "name 'res' is not defined",
     "output_type": "error",
     "traceback": [
      "\u001b[1;31m---------------------------------------------------------------------------\u001b[0m",
      "\u001b[1;31mNameError\u001b[0m                                 Traceback (most recent call last)",
      "\u001b[1;32m<ipython-input-5-8a076ee39a0a>\u001b[0m in \u001b[0;36m<module>\u001b[1;34m\u001b[0m\n\u001b[1;32m----> 1\u001b[1;33m \u001b[0mlen\u001b[0m\u001b[1;33m(\u001b[0m\u001b[0mres\u001b[0m\u001b[1;33m)\u001b[0m\u001b[1;33m\u001b[0m\u001b[1;33m\u001b[0m\u001b[0m\n\u001b[0m",
      "\u001b[1;31mNameError\u001b[0m: name 'res' is not defined"
     ]
    }
   ],
   "source": [
    "len(res)"
   ]
  },
  {
   "cell_type": "code",
   "execution_count": 6,
   "metadata": {},
   "outputs": [
    {
     "ename": "NameError",
     "evalue": "name 'l2_coef' is not defined",
     "output_type": "error",
     "traceback": [
      "\u001b[1;31m---------------------------------------------------------------------------\u001b[0m",
      "\u001b[1;31mNameError\u001b[0m                                 Traceback (most recent call last)",
      "\u001b[1;32m<ipython-input-6-0168009c6f31>\u001b[0m in \u001b[0;36m<module>\u001b[1;34m\u001b[0m\n\u001b[1;32m----> 1\u001b[1;33m \u001b[0ml2_coef\u001b[0m\u001b[1;33m\u001b[0m\u001b[1;33m\u001b[0m\u001b[0m\n\u001b[0m",
      "\u001b[1;31mNameError\u001b[0m: name 'l2_coef' is not defined"
     ]
    }
   ],
   "source": [
    "l2_coef"
   ]
  },
  {
   "cell_type": "code",
   "execution_count": 7,
   "metadata": {},
   "outputs": [
    {
     "data": {
      "text/plain": [
       "(3,)"
      ]
     },
     "execution_count": 7,
     "metadata": {},
     "output_type": "execute_result"
    }
   ],
   "source": [
    "w.shape"
   ]
  },
  {
   "cell_type": "code",
   "execution_count": 8,
   "metadata": {},
   "outputs": [
    {
     "name": "stdout",
     "output_type": "stream",
     "text": [
      "0.6931471805599452\n"
     ]
    }
   ],
   "source": [
    "my_oracle = BinaryLogistic(l2_coef=1)\n",
    "print(my_oracle.func(np.zeros((3, 3)), np.ones(3), np.zeros(3)))\n"
   ]
  },
  {
   "cell_type": "code",
   "execution_count": null,
   "metadata": {},
   "outputs": [],
   "source": []
  },
  {
   "cell_type": "code",
   "execution_count": null,
   "metadata": {},
   "outputs": [],
   "source": []
  },
  {
   "cell_type": "code",
   "execution_count": 9,
   "metadata": {},
   "outputs": [
    {
     "data": {
      "text/plain": [
       "22.564397526486417"
      ]
     },
     "execution_count": 9,
     "metadata": {},
     "output_type": "execute_result"
    }
   ],
   "source": [
    "my_oracle.func(X, y, w)"
   ]
  },
  {
   "cell_type": "code",
   "execution_count": 10,
   "metadata": {},
   "outputs": [
    {
     "data": {
      "text/plain": [
       "array([5.3333182, 3.3333182, 2.3333182])"
      ]
     },
     "execution_count": 10,
     "metadata": {},
     "output_type": "execute_result"
    }
   ],
   "source": [
    "my_oracle.grad(X, y, w)"
   ]
  },
  {
   "cell_type": "code",
   "execution_count": 145,
   "metadata": {},
   "outputs": [],
   "source": [
    "np.random.seed(4181)\n",
    "l2_coef = np.random.randint(0, 10)\n",
    "l, d = 1000, 10\n",
    "my_oracle = BinaryLogistic(l2_coef=l2_coef)\n",
    "X = sc.sparse.csr_matrix(np.random.random((l, d)))\n",
    "# X = np.random.random((l, d))\n",
    "\n",
    "y = np.random.randint(0, 2, l) * 2 - 1\n",
    "w = np.random.random(d)\n",
    "# res = my_oracle.grad(X, y, w)\n",
    "# print(res)"
   ]
  },
  {
   "cell_type": "code",
   "execution_count": 133,
   "metadata": {},
   "outputs": [
    {
     "data": {
      "text/plain": [
       "array([-194.59767962, -206.42852773, -208.49810813, -197.20682332,\n",
       "       -200.16780443, -208.74661492, -202.94829964, -196.89933998,\n",
       "       -201.4572312 , -214.9538811 ])"
      ]
     },
     "execution_count": 133,
     "metadata": {},
     "output_type": "execute_result"
    }
   ],
   "source": [
    "# -y * np.dot(w, np.array(X.todense().T))\n",
    "ress = (np.exp(-y * np.dot(w, np.array(X.todense().T))).reshape(-1, 1) * y.reshape(-1, 1) * np.array(X.todense()) /\\\n",
    "  np.array(1 + np.exp(-y * np.dot(w, np.array(X.todense().T)))).reshape(-1, 1))\n",
    "ress.sum(axis=0)\n",
    "# expit(-y * np.dot(w, np.array(X.todense().T)))"
   ]
  },
  {
   "cell_type": "code",
   "execution_count": 155,
   "metadata": {},
   "outputs": [
    {
     "data": {
      "text/plain": [
       "-2031.9043100789922"
      ]
     },
     "execution_count": 155,
     "metadata": {},
     "output_type": "execute_result"
    }
   ],
   "source": [
    "margin = sparse.csr_matrix(y).multiply(sparse.csr_matrix(w).dot(X.transpose()))\n",
    "\n",
    "niz = margin.copy()\n",
    "\n",
    "niz.data = expit(margin.data)\n",
    "\n",
    "margin.data = np.exp(-margin.data)\n",
    "\n",
    "verh = margin.multiply(sparse.csr_matrix(y)).multiply(X.transpose()) \n",
    "\n",
    "res = np.array(verh.multiply(niz).todense())\n",
    "\n",
    "ok_res = np.array(margin.multiply(sparse.csr_matrix(y)).multiply(X.transpose()).multiply(niz).todense()).sum(axis=1)\n",
    "\n",
    "# # np.sum()\n",
    "# np.sum(np.log(np.exp(sparse.csr_matrix(-y).multiply(sparse.csr_matrix(w).dot(X.transpose())).data) + 1))\n",
    "# niz.todense()\n",
    "ok_res.sum()"
   ]
  },
  {
   "cell_type": "code",
   "execution_count": 156,
   "metadata": {},
   "outputs": [
    {
     "data": {
      "text/plain": [
       "array([-194.59767962, -206.42852773, -208.49810813, -197.20682332,\n",
       "       -200.16780443, -208.74661492, -202.94829964, -196.89933998,\n",
       "       -201.4572312 , -214.9538811 ])"
      ]
     },
     "execution_count": 156,
     "metadata": {},
     "output_type": "execute_result"
    }
   ],
   "source": [
    "np.array(margin.multiply(sparse.csr_matrix(y)).multiply(X.transpose()).multiply(niz).todense()).sum(axis=1)"
   ]
  },
  {
   "cell_type": "code",
   "execution_count": 181,
   "metadata": {},
   "outputs": [
    {
     "data": {
      "text/plain": [
       "array([-194.59767962, -206.42852773, -208.49810813, -197.20682332,\n",
       "       -200.16780443, -208.74661492, -202.94829964, -196.89933998,\n",
       "       -201.4572312 , -214.9538811 ])"
      ]
     },
     "execution_count": 181,
     "metadata": {},
     "output_type": "execute_result"
    }
   ],
   "source": [
    "I = sparse.csr_matrix(np.ones((X.shape[0],1)))\n",
    "np.array((margin.multiply(sparse.csr_matrix(y)).multiply(X.transpose()).multiply(niz)*I).todense()).ravel()"
   ]
  },
  {
   "cell_type": "code",
   "execution_count": null,
   "metadata": {},
   "outputs": [],
   "source": []
  },
  {
   "cell_type": "code",
   "execution_count": null,
   "metadata": {},
   "outputs": [],
   "source": [
    "if sc.sparse.issparse(X):\n",
    "            margin = sparse.csr_matrix(y).multiply(sparse.csr_matrix(w).dot(X.transpose()))\n",
    "            niz = margin.copy()\n",
    "            niz.data = expit(margin.data)\n",
    "            margin.data = np.exp(-margin.data)\n",
    "            I = sparse.csr_matrix(np.ones((X.shape[0],1)))\n",
    "            return - 1 / y.size * \\\n",
    "                np.array((margin.multiply(sparse.csr_matrix(y)).multiply(X.transpose()).multiply(niz)*I).todense()).ravel() +\\\n",
    "                self.l2_coef * w"
   ]
  },
  {
   "cell_type": "code",
   "execution_count": 13,
   "metadata": {},
   "outputs": [
    {
     "name": "stdout",
     "output_type": "stream",
     "text": [
      "[[ 0  4  0]\n",
      " [12  0  0]]\n",
      "[0.2 0.6]\n"
     ]
    }
   ],
   "source": [
    "# np.sum(np.exp(-y * np.dot(w, np.array(X.todense().T))).reshape(-1, 1) *\n",
    "#                        y.reshape(-1, 1) * np.array(X.todense()) /\n",
    "#                        np.array(1 + np.exp(-y * np.dot(w, np.array(X.todense().T)))).reshape(-1, 1),\n",
    "#                        axis=0)\n",
    "\n",
    "# np.sum(np.exp())\n",
    "\n",
    "from scipy.special import expit, logsumexp\n",
    "expit\n",
    "\n",
    "a = np.array([[1, 2, 3], [4, 5, 6]])\n",
    "b = np.array([[0, 2, 0], [3, 0, 0]])\n",
    "c = np.array([5, 10, 100])\n",
    "print(a*b)\n",
    "ys = sparse.csr_matrix(a)\n",
    "xz = sparse.csr_matrix(b)\n",
    "xc = sparse.csr_matrix(c)\n",
    "# y * w.dot(X.transpose())\n",
    "# print(ys, '\\n', xz)\n",
    "# type(ys.data * xz.data)\n",
    "# xz.dot(ys)\n",
    "print(np.sum(b/c, axis=1))\n",
    "# print(b.dot(c))\n",
    "# print(xz.dot(xc.transpose()))\n",
    "# xz.shape\n"
   ]
  },
  {
   "cell_type": "code",
   "execution_count": 14,
   "metadata": {},
   "outputs": [
    {
     "name": "stdout",
     "output_type": "stream",
     "text": [
      "3.08 µs ± 580 ns per loop (mean ± std. dev. of 7 runs, 100000 loops each)\n"
     ]
    }
   ],
   "source": [
    "%%timeit\n",
    "a.dot(c)"
   ]
  },
  {
   "cell_type": "code",
   "execution_count": null,
   "metadata": {},
   "outputs": [],
   "source": []
  },
  {
   "cell_type": "code",
   "execution_count": 146,
   "metadata": {
    "scrolled": true
   },
   "outputs": [
    {
     "name": "stdout",
     "output_type": "stream",
     "text": [
      "2.65 ms ± 109 µs per loop (mean ± std. dev. of 7 runs, 100 loops each)\n"
     ]
    }
   ],
   "source": [
    "%%timeit\n",
    "my_oracle.func(X, y, w)"
   ]
  },
  {
   "cell_type": "code",
   "execution_count": 148,
   "metadata": {},
   "outputs": [
    {
     "name": "stdout",
     "output_type": "stream",
     "text": [
      "6.49 ms ± 446 µs per loop (mean ± std. dev. of 7 runs, 100 loops each)\n"
     ]
    }
   ],
   "source": [
    "%%timeit\n",
    "my_oracle.grad(X, y, w)"
   ]
  },
  {
   "cell_type": "code",
   "execution_count": 149,
   "metadata": {},
   "outputs": [],
   "source": [
    "np.random.seed(4181)\n",
    "l2_coef = np.random.randint(0, 10)\n",
    "l, d = 1000, 10\n",
    "my_oracle = BinaryLogistic(l2_coef=l2_coef)\n",
    "# X = sc.sparse.csr_matrix(np.random.random((l, d)))\n",
    "X = np.random.random((l, d))\n",
    "\n",
    "y = np.random.randint(0, 2, l) * 2 - 1\n",
    "w = np.random.random(d)"
   ]
  },
  {
   "cell_type": "code",
   "execution_count": 150,
   "metadata": {},
   "outputs": [
    {
     "name": "stdout",
     "output_type": "stream",
     "text": [
      "210 µs ± 26.8 µs per loop (mean ± std. dev. of 7 runs, 1000 loops each)\n"
     ]
    }
   ],
   "source": [
    "%%timeit\n",
    "my_oracle.func(X, y, w)"
   ]
  },
  {
   "cell_type": "code",
   "execution_count": 151,
   "metadata": {},
   "outputs": [
    {
     "name": "stdout",
     "output_type": "stream",
     "text": [
      "541 µs ± 16.6 µs per loop (mean ± std. dev. of 7 runs, 1000 loops each)\n"
     ]
    }
   ],
   "source": [
    "%%timeit\n",
    "my_oracle.grad(X, y, w)"
   ]
  },
  {
   "cell_type": "code",
   "execution_count": null,
   "metadata": {},
   "outputs": [],
   "source": []
  },
  {
   "cell_type": "code",
   "execution_count": null,
   "metadata": {},
   "outputs": [],
   "source": []
  }
 ],
 "metadata": {
  "kernelspec": {
   "display_name": "Python 3",
   "language": "python",
   "name": "python3"
  },
  "language_info": {
   "codemirror_mode": {
    "name": "ipython",
    "version": 3
   },
   "file_extension": ".py",
   "mimetype": "text/x-python",
   "name": "python",
   "nbconvert_exporter": "python",
   "pygments_lexer": "ipython3",
   "version": "3.7.3"
  }
 },
 "nbformat": 4,
 "nbformat_minor": 2
}
