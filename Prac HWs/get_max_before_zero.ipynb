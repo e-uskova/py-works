{
 "cells": [
  {
   "cell_type": "markdown",
   "metadata": {},
   "source": [
    "Написать функцию get_max_before_zero(x), возвращающую максимальный элемент в векторе x среди элементов, перед которыми стоит нулевой. Если подходящих элементов нет, функция должна возвращать None."
   ]
  },
  {
   "cell_type": "code",
   "execution_count": 102,
   "metadata": {},
   "outputs": [
    {
     "name": "stdout",
     "output_type": "stream",
     "text": [
      "4\n"
     ]
    }
   ],
   "source": [
    "import numpy as np\n",
    "\n",
    "\n",
    "def get_max_before_zero(x):\n",
    "    after_zero_index_list = list(np.where(x == 0)[0] + 1)\n",
    "    if x.size in after_zero_index_list:\n",
    "        after_zero_index_list.remove(x.size)\n",
    "    if len(after_zero_index_list) == 0:\n",
    "        return None\n",
    "    return np.max(x[after_zero_index_list])\n",
    "    \n",
    "print(get_max_before_zero(np.array([2, 0, 2, 5, 0, 1, 0, 0, 4, 7])))"
   ]
  },
  {
   "cell_type": "code",
   "execution_count": null,
   "metadata": {},
   "outputs": [],
   "source": []
  }
 ],
 "metadata": {
  "kernelspec": {
   "display_name": "Python 3",
   "language": "python",
   "name": "python3"
  },
  "language_info": {
   "codemirror_mode": {
    "name": "ipython",
    "version": 3
   },
   "file_extension": ".py",
   "mimetype": "text/x-python",
   "name": "python",
   "nbconvert_exporter": "python",
   "pygments_lexer": "ipython3",
   "version": "3.7.3"
  }
 },
 "nbformat": 4,
 "nbformat_minor": 2
}
