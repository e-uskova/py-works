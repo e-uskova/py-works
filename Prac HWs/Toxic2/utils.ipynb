{
 "cells": [
  {
   "cell_type": "code",
   "execution_count": 1,
   "metadata": {},
   "outputs": [],
   "source": [
    "import numpy as np"
   ]
  },
  {
   "cell_type": "code",
   "execution_count": 5,
   "metadata": {},
   "outputs": [],
   "source": [
    "def grad_finite_diff(f, w, eps=1e-8):\n",
    "    \"\"\"\n",
    "    Возвращает численное значение градиента, подсчитанное по следующией формуле:\n",
    "        result_i := (f(w + eps * e_i) - f(w)) / eps,\n",
    "        где e_i - следующий вектор:\n",
    "        e_i = (0, 0, ..., 0, 1, 0, ..., 0)\n",
    "                          >> i <<\n",
    "    \"\"\"\n",
    "    e_i = np.zeros(len(w))\n",
    "    grad = np.zeros(len(w))\n",
    "    for i in range(len(w)):\n",
    "        e_i[i] = 1\n",
    "        result_i = (f(w + eps * e_i) - f(w)) / eps\n",
    "        grad[i] += result_i[i]\n",
    "        e_i[i] = 0\n",
    "    return grad"
   ]
  },
  {
   "cell_type": "code",
   "execution_count": 6,
   "metadata": {},
   "outputs": [],
   "source": [
    "def g(x):\n",
    "    return(np.array([x[0]**2, x[1]**2]))"
   ]
  },
  {
   "cell_type": "code",
   "execution_count": 7,
   "metadata": {},
   "outputs": [
    {
     "data": {
      "text/plain": [
       "array([10.00000012,  3.99999998])"
      ]
     },
     "execution_count": 7,
     "metadata": {},
     "output_type": "execute_result"
    }
   ],
   "source": [
    "grad_finite_diff(g, [5,2])"
   ]
  },
  {
   "cell_type": "code",
   "execution_count": null,
   "metadata": {},
   "outputs": [],
   "source": []
  }
 ],
 "metadata": {
  "kernelspec": {
   "display_name": "Python 3",
   "language": "python",
   "name": "python3"
  },
  "language_info": {
   "codemirror_mode": {
    "name": "ipython",
    "version": 3
   },
   "file_extension": ".py",
   "mimetype": "text/x-python",
   "name": "python",
   "nbconvert_exporter": "python",
   "pygments_lexer": "ipython3",
   "version": "3.7.3"
  }
 },
 "nbformat": 4,
 "nbformat_minor": 2
}
