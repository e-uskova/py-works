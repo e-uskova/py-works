{
 "cells": [
  {
   "cell_type": "markdown",
   "metadata": {},
   "source": [
    "Написать функцию encode_rle(x), реализующую кодирование длин серий (Run-length encoding). По входному вектору x необходимо вернуть кортеж из двух векторов одинаковой длины. Первый содержит числа, а второй — сколько раз их нужно повторить."
   ]
  },
  {
   "cell_type": "markdown",
   "metadata": {},
   "source": [
    "Формат ввода\n",
    "encode_rle(np.array([0, 0, 1, 1, 1, 2, 1]))\n",
    "\n",
    "Формат вывода\n",
    "(np.array([0, 1, 2, 1]), np.array([2, 3, 1, 1]))"
   ]
  },
  {
   "cell_type": "code",
   "execution_count": 87,
   "metadata": {},
   "outputs": [
    {
     "name": "stdout",
     "output_type": "stream",
     "text": [
      "(array([1, 3, 2, 5, 4, 3, 2]), array([3, 1, 2, 1, 1, 1, 2], dtype=int64))\n"
     ]
    }
   ],
   "source": [
    "import numpy as np\n",
    "\n",
    "\n",
    "def encode_rle(x):\n",
    "    if x.size == 0:\n",
    "        return None\n",
    "    a = np.diff(x) != 0\n",
    "    a = np.hstack((a, [False]))\n",
    "    value = np.hstack((x[a], x[-1]))\n",
    "#     print(np.diff(x))\n",
    "#     print((np.where(np.diff(x)!= 0))[0]*-1)\n",
    "#     lambda x: np.hstack((x, [0])) + 1 - np.hstack(([0], x))\n",
    "    nonzero_index = (np.where(np.diff(x) != 0))[0]\n",
    "    nonzero_index_l = np.hstack((nonzero_index, x.size - 1))\n",
    "    nonzero_index_r = np.hstack(([-1], nonzero_index))\n",
    "    number = nonzero_index_l - nonzero_index_r\n",
    "#     print(number)\n",
    "    return value, number\n",
    "\n",
    "print(encode_rle(np.array([1, 1, 1, 3, 2, 2, 5, 4, 3, 2, 2])))"
   ]
  },
  {
   "cell_type": "code",
   "execution_count": null,
   "metadata": {},
   "outputs": [],
   "source": []
  }
 ],
 "metadata": {
  "kernelspec": {
   "display_name": "Python 3",
   "language": "python",
   "name": "python3"
  },
  "language_info": {
   "codemirror_mode": {
    "name": "ipython",
    "version": 3
   },
   "file_extension": ".py",
   "mimetype": "text/x-python",
   "name": "python",
   "nbconvert_exporter": "python",
   "pygments_lexer": "ipython3",
   "version": "3.7.3"
  }
 },
 "nbformat": 4,
 "nbformat_minor": 2
}
