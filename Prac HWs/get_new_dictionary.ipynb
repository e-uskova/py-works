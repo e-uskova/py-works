{
 "cells": [
  {
   "cell_type": "code",
   "execution_count": 140,
   "metadata": {},
   "outputs": [],
   "source": [
    "def get_new_dictionary(input_dict_name, output_dict_name):\n",
    "    with open(input_dict_name, 'r') as input_file:\n",
    "        my_dict = {}\n",
    "        number = int(input_file.readline())\n",
    "        for line in input_file:\n",
    "            my_list = line.split(' - ')\n",
    "            for value in my_list[1].rstrip('\\n').split(', '):\n",
    "                if value in my_dict:\n",
    "                    my_dict[value].append(my_list[0])\n",
    "                else:\n",
    "                    my_dict[value] = [my_list[0]]\n",
    "        input_file.close()\n",
    "    keys = list(my_dict.keys())\n",
    "    keys.sort()\n",
    "    with open(output_dict_name, 'w') as output_file:\n",
    "        output_file.write(str(len(keys)) + '\\n')\n",
    "        if number != 0:\n",
    "            for key in keys[:-1]:\n",
    "                values = my_dict[key]\n",
    "                values.sort()\n",
    "                output_file.write(key + ' - ' + (', ').join(values) + '\\n')\n",
    "            values = my_dict[keys[-1]]\n",
    "            values.sort()\n",
    "            output_file.write(keys[-1] + ' - ' + (', ').join(values))\n",
    "        output_file.close()\n",
    "        \n",
    "get_new_dictionary(\"input.txt\", \"output.txt\")"
   ]
  },
  {
   "cell_type": "code",
   "execution_count": 4,
   "metadata": {},
   "outputs": [],
   "source": [
    "def get_key(d, value):\n",
    "    for k, v in d.items():\n",
    "        if v == value:\n",
    "            return k\n",
    "\n",
    "# get_key function from https://ru.stackoverflow.com/questions/507330/%D0%9F%D0%BE%D0%BB%D1%83%D1%87%D0%B8%D1%82%D1%8C-%D0%BA%D0%BB%D1%8E%D1%87-%D0%BF%D0%BE-%D0%B7%D0%BD%D0%B0%D1%87%D0%B5%D0%BD%D0%B8%D1%8E\n"
   ]
  },
  {
   "cell_type": "code",
   "execution_count": 103,
   "metadata": {},
   "outputs": [
    {
     "ename": "SyntaxError",
     "evalue": "unexpected EOF while parsing (<ipython-input-103-3ccb50ac9cc1>, line 4)",
     "output_type": "error",
     "traceback": [
      "\u001b[1;36m  File \u001b[1;32m\"<ipython-input-103-3ccb50ac9cc1>\"\u001b[1;36m, line \u001b[1;32m4\u001b[0m\n\u001b[1;33m    print(list(dic2[key].sort())\u001b[0m\n\u001b[1;37m                                ^\u001b[0m\n\u001b[1;31mSyntaxError\u001b[0m\u001b[1;31m:\u001b[0m unexpected EOF while parsing\n"
     ]
    }
   ],
   "source": [
    "keys = list(dic2.keys())\n",
    "keys.sort()\n",
    "for key in keys:\n",
    "    print(list(dic2[key].sort())"
   ]
  },
  {
   "cell_type": "code",
   "execution_count": null,
   "metadata": {},
   "outputs": [],
   "source": []
  }
 ],
 "metadata": {
  "kernelspec": {
   "display_name": "Python 3",
   "language": "python",
   "name": "python3"
  },
  "language_info": {
   "codemirror_mode": {
    "name": "ipython",
    "version": 3
   },
   "file_extension": ".py",
   "mimetype": "text/x-python",
   "name": "python",
   "nbconvert_exporter": "python",
   "pygments_lexer": "ipython3",
   "version": "3.7.3"
  }
 },
 "nbformat": 4,
 "nbformat_minor": 2
}
