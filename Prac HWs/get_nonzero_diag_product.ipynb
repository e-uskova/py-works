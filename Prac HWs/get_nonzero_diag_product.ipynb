{
 "cells": [
  {
   "cell_type": "markdown",
   "metadata": {},
   "source": [
    "Написать функцию get_nonzero_diag_product(X), которая подсчитывает произведение ненулевых элементов на диагонали прямоугольной матрицы. Если все элементы на диагонали нулевые, функция должна вернуть None."
   ]
  },
  {
   "cell_type": "code",
   "execution_count": 42,
   "metadata": {},
   "outputs": [
    {
     "name": "stdout",
     "output_type": "stream",
     "text": [
      "-2.0\n"
     ]
    }
   ],
   "source": [
    "import numpy as np\n",
    "def get_nonzero_diag_product(input_smth):\n",
    "    eye = np.eye(input_smth.shape[0], M=input_smth.shape[1])\n",
    "    b = eye * input_smth\n",
    "    b = b[np.nonzero(b)]\n",
    "    if b.size == 0:\n",
    "        return None\n",
    "    else:\n",
    "        return np.prod(b)\n",
    "\n",
    "print(get_nonzero_diag_product(np.array([[1, 8, 4], [3, 0, 5], [0, 5, -2], [4, 5, 3]])))"
   ]
  },
  {
   "cell_type": "code",
   "execution_count": null,
   "metadata": {},
   "outputs": [],
   "source": [
    "np.array([[1, 0], [0, 0]])"
   ]
  }
 ],
 "metadata": {
  "kernelspec": {
   "display_name": "Python 3",
   "language": "python",
   "name": "python3"
  },
  "language_info": {
   "codemirror_mode": {
    "name": "ipython",
    "version": 3
   },
   "file_extension": ".py",
   "mimetype": "text/x-python",
   "name": "python",
   "nbconvert_exporter": "python",
   "pygments_lexer": "ipython3",
   "version": "3.7.3"
  }
 },
 "nbformat": 4,
 "nbformat_minor": 2
}
