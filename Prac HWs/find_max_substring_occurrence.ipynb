{
 "cells": [
  {
   "cell_type": "code",
   "execution_count": 7,
   "metadata": {},
   "outputs": [
    {
     "name": "stdout",
     "output_type": "stream",
     "text": [
      "4\n"
     ]
    }
   ],
   "source": [
    "def find_max_substring_occurrence(input_string):\n",
    "    counter = max = 1\n",
    "    divisor = 2\n",
    "    str_len = len(input_string)\n",
    "    for start in range(str_len):\n",
    "#         len = (len(input_str) // 2) + 1\n",
    "#         for final in range(len(input_string),start, -1):\n",
    "#         for divisor in \n",
    "            for substr in [input_string[start: start + (str_len // divisor) + 1:]]:\n",
    "                counter = input_string.count(substr)\n",
    "#                 print(str, b)\n",
    "                if substr * counter == input_string:\n",
    "                    if counter > max:\n",
    "                        max = counter\n",
    "    print(max)\n",
    "                    \n",
    "find_max_substring_occurrence(\"ghjkghjkghjkghjk\")"
   ]
  },
  {
   "cell_type": "code",
   "execution_count": null,
   "metadata": {},
   "outputs": [],
   "source": []
  },
  {
   "cell_type": "code",
   "execution_count": null,
   "metadata": {},
   "outputs": [],
   "source": []
  }
 ],
 "metadata": {
  "kernelspec": {
   "display_name": "Python 3",
   "language": "python",
   "name": "python3"
  },
  "language_info": {
   "codemirror_mode": {
    "name": "ipython",
    "version": 3
   },
   "file_extension": ".py",
   "mimetype": "text/x-python",
   "name": "python",
   "nbconvert_exporter": "python",
   "pygments_lexer": "ipython3",
   "version": "3.7.3"
  }
 },
 "nbformat": 4,
 "nbformat_minor": 2
}
