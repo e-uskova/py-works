{
 "cells": [
  {
   "cell_type": "markdown",
   "metadata": {},
   "source": [
    "К одной из задач B-E напишите три реализации: полностью невекторизованную (без использования numpy), частично векторизованную и полностью векторизованную. Сравните время работы трёх реализаций на данных разного размера, постройте графики зависимости времени работы алгоритмов от размера входных данных. Оформить короткий ipython notebook и прислать."
   ]
  }
 ],
 "metadata": {
  "kernelspec": {
   "display_name": "Python 3",
   "language": "python",
   "name": "python3"
  },
  "language_info": {
   "codemirror_mode": {
    "name": "ipython",
    "version": 3
   },
   "file_extension": ".py",
   "mimetype": "text/x-python",
   "name": "python",
   "nbconvert_exporter": "python",
   "pygments_lexer": "ipython3",
   "version": "3.7.3"
  }
 },
 "nbformat": 4,
 "nbformat_minor": 2
}
