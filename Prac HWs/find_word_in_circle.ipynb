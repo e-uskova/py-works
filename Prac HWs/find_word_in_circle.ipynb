{
 "cells": [
  {
   "cell_type": "code",
   "execution_count": 5,
   "metadata": {},
   "outputs": [
    {
     "name": "stdout",
     "output_type": "stream",
     "text": [
      "(14, -1)\n"
     ]
    }
   ],
   "source": [
    "def find_word_in_circle(circle, word):\n",
    "    position = -1\n",
    "    direction = 1\n",
    "    circle2 = circle * 2\n",
    "    position = circle2.find(word)\n",
    "    if position < 0:\n",
    "        direction = -1\n",
    "        circle2 = circle2[::-1]\n",
    "        position = circle2.find(word)\n",
    "        if position < 0:\n",
    "            return -1\n",
    "        else:\n",
    "            position = len(circle) - position - 1\n",
    "    return position, direction\n",
    "a = find_word_in_circle(\"3817644908625181\", \"815\")\n",
    "print(a)"
   ]
  },
  {
   "cell_type": "code",
   "execution_count": null,
   "metadata": {},
   "outputs": [],
   "source": []
  }
 ],
 "metadata": {
  "kernelspec": {
   "display_name": "Python 3",
   "language": "python",
   "name": "python3"
  },
  "language_info": {
   "codemirror_mode": {
    "name": "ipython",
    "version": 3
   },
   "file_extension": ".py",
   "mimetype": "text/x-python",
   "name": "python",
   "nbconvert_exporter": "python",
   "pygments_lexer": "ipython3",
   "version": "3.7.3"
  }
 },
 "nbformat": 4,
 "nbformat_minor": 2
}
