{
 "cells": [
  {
   "cell_type": "code",
   "execution_count": null,
   "metadata": {},
   "outputs": [],
   "source": [
    "## import numpy as np\n",
    "\n",
    "def euclidean_distance(X, Y):\n",
    "    X_sq_sum = np.sum(X ** 2, axis=1)\n",
    "    Y_sq_sum = np.sum(Y ** 2, axis=1)\n",
    "    \n",
    "    Xx = np.repeat(X, Y.shape[0], axis=0)\n",
    "    Yy = np.array(list(Y) * X.shape[0])\n",
    "    Xs = np.repeat(X_sq_sum, Y.shape[0], axis=0)\n",
    "    Ys = np.array(list(Y_sq_sum) * X.shape[0])\n",
    "    \n",
    "    print(Xx + Yy - 2 * np.array([np.dot(X[i], Y[j])\n",
    "                     for i in range(X.shape[0]) for j in range(Y.shape[0])]*3).reshape(X.shape[0]*3, Y.shape[0]))\n",
    "    \n",
    "    print(np.array([X[i] + Y[j]\n",
    "                     for i in range(X.shape[0]) for j in range(Y.shape[0])]))\n",
    "    \n",
    "    return np.sqrt(np.array([X_sq_sum[i] + Y_sq_sum[j] - 2 * np.dot(X[i], Y[j])\n",
    "                     for i in range(X.shape[0]) for j in range(Y.shape[0])])).reshape(X.shape[0], Y.shape[0])\n",
    "\n",
    "\n",
    "def cosine_distance(X, Y):\n",
    "    X_n = np.linalg.norm(X, axis=1)\n",
    "    Y_n = np.linalg.norm(Y, axis=1)\n",
    "    return np.array([1 - np.dot(X[i], Y[j])/(X_n[i] * Y_n[j])\n",
    "                     for i in range(X.shape[0]) for j in range(Y.shape[0])]).reshape(X.shape[0], Y.shape[0])\n"
   ]
  },
  {
   "cell_type": "code",
   "execution_count": 6,
   "metadata": {},
   "outputs": [
    {
     "name": "stdout",
     "output_type": "stream",
     "text": [
      "[[-48 -10  -8]\n",
      " [-62 -13 -14]\n",
      " [-52 -11 -12]\n",
      " [-58 -12  -9]\n",
      " [-52 -11 -11]\n",
      " [-62 -13 -13]]\n",
      "[[4 6 8]\n",
      " [0 5 4]\n",
      " [0 5 4]\n",
      " [4 6 9]\n",
      " [0 5 5]\n",
      " [0 5 5]]\n",
      "[[3.46410162 3.         3.        ]\n",
      " [3.         3.74165739 3.74165739]]\n",
      "[[3.46410162 3.         3.        ]\n",
      " [3.         3.74165739 3.74165739]]\n"
     ]
    }
   ],
   "source": [
    "# %timeit euclidean_distance(x_new, y_new)\n",
    "# %timeit scipy.spatial.distance.cdist(x_new, y_new, metric='euclidean')\n",
    "\n",
    "print(euclidean_distance(x_new, y_new))\n",
    "print(scipy.spatial.distance.cdist(x_new, y_new, metric='euclidean'))"
   ]
  },
  {
   "cell_type": "code",
   "execution_count": 42,
   "metadata": {},
   "outputs": [
    {
     "name": "stdout",
     "output_type": "stream",
     "text": [
      "[[1 2 3 1 2 4]] [[ 3  4  5 -1  3  1 -1  3  1]]\n",
      "[ 2  5  8  2  5 11 -7 -4 -1 -7 -4  2 -4 -1  2 -4 -1  5]\n",
      "[[12  9  9]\n",
      " [ 9 14 14]]\n"
     ]
    }
   ],
   "source": [
    "def f(x, y):\n",
    "    print(x.reshape(1, -1), y.reshape(1, -1))\n",
    "    print(((x.reshape(1, -1) - y.reshape(-1, 1)).reshape(x.shape[1], -1).sum(axis=0)))\n",
    "    \n",
    "    print(np.array([((x[i] - y[j])**2).sum() for i in range(x.shape[0]) for j in range(y.shape[0])]).reshape(x.shape[0], y.shape[0]))\n",
    "\n",
    "f(x_new, y_new)"
   ]
  },
  {
   "cell_type": "code",
   "execution_count": 13,
   "metadata": {},
   "outputs": [
    {
     "name": "stdout",
     "output_type": "stream",
     "text": [
      "210 µs ± 28 µs per loop (mean ± std. dev. of 7 runs, 10000 loops each)\n",
      "49.1 µs ± 5.76 µs per loop (mean ± std. dev. of 7 runs, 10000 loops each)\n",
      "[[0.01729237 0.35534163 0.35534163]\n",
      " [0.04331923 0.40784347 0.40784347]]\n",
      "[[0.01729237 0.35534163 0.35534163]\n",
      " [0.04331923 0.40784347 0.40784347]]\n"
     ]
    }
   ],
   "source": [
    "%timeit cosine_distance(x_new, y_new)\n",
    "%timeit scipy.spatial.distance.cdist(x_new, y_new, metric='cosine')\n",
    "print(cosine_distance(x_new, y_new))\n",
    "print(scipy.spatial.distance.cdist(x_new, y_new, metric='cosine'))"
   ]
  },
  {
   "cell_type": "code",
   "execution_count": 5,
   "metadata": {},
   "outputs": [],
   "source": [
    "import scipy.spatial.distance"
   ]
  },
  {
   "cell_type": "code",
   "execution_count": 3,
   "metadata": {},
   "outputs": [],
   "source": [
    "X = np.array([[1, 2, 3], [1, 2, 4]])\n",
    "Y = np.array([[3, 4, 5], [-1, 3, 1], [-1, 3, 1]])\n",
    "x_new = X\n",
    "y_new = Y\n",
    "# if X.shape[0] < Y.shape[0]:\n",
    "#     x_new = np.zeros_like(Y)\n",
    "#     x_new[:X.shape[0]] += X[:X.shape[0]]\n",
    "# elif X.shape[0] > Y.shape[0]:\n",
    "#     y_new = np.zeros_like(X)\n",
    "#     y_new[:Y.shape[0]] += Y[:Y.shape[0]]\n"
   ]
  },
  {
   "cell_type": "code",
   "execution_count": 43,
   "metadata": {},
   "outputs": [
    {
     "name": "stdout",
     "output_type": "stream",
     "text": [
      "[[1 2 3]\n",
      " [1 2 4]]\n"
     ]
    }
   ],
   "source": [
    "print(X)"
   ]
  },
  {
   "cell_type": "code",
   "execution_count": 44,
   "metadata": {},
   "outputs": [
    {
     "name": "stdout",
     "output_type": "stream",
     "text": [
      "[2 4 7]\n"
     ]
    }
   ],
   "source": [
    "print(X.sum(axis=0))"
   ]
  },
  {
   "cell_type": "code",
   "execution_count": null,
   "metadata": {},
   "outputs": [],
   "source": []
  }
 ],
 "metadata": {
  "kernelspec": {
   "display_name": "Python 3",
   "language": "python",
   "name": "python3"
  },
  "language_info": {
   "codemirror_mode": {
    "name": "ipython",
    "version": 3
   },
   "file_extension": ".py",
   "mimetype": "text/x-python",
   "name": "python",
   "nbconvert_exporter": "python",
   "pygments_lexer": "ipython3",
   "version": "3.7.3"
  }
 },
 "nbformat": 4,
 "nbformat_minor": 2
}
