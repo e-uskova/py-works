{
 "cells": [
  {
   "cell_type": "code",
   "execution_count": 23,
   "metadata": {},
   "outputs": [],
   "source": [
    "import numpy as np\n",
    "import distances\n",
    "import sklearn.neighbors\n",
    "import random\n",
    "\n",
    "class KNNClassifier:\n",
    "    \n",
    "    def __init__(self, k, strategy, metric, weights=False, test_block_size=100):        \n",
    "        \n",
    "        if metric in ['euclidean', 'cosine']:\n",
    "            self.metric = metric\n",
    "        else:\n",
    "            raise TypeError\n",
    "        \n",
    "        self.k = k\n",
    "        self.weights = weights\n",
    "        self.test_block_size = test_block_size\n",
    "        \n",
    "        if strategy in ['my_own', 'brute', 'kd_tree', 'ball_tree']:\n",
    "            self.strategy = strategy\n",
    "            if strategy != 'my_own':\n",
    "                self.other = sklearn.neighbors.NearestNeighbors(algorithm=self.strategy, metric=self.metric)\n",
    "        else:\n",
    "            raise TypeError\n",
    "            \n",
    "        \n",
    "###################### обучение ######################\n",
    "\n",
    "    def fit(self, X, y): # X_train, y_train\n",
    "        \n",
    "        self.X_train = X\n",
    "        self.y_train = y\n",
    "            \n",
    "        if self.strategy != 'my_own':\n",
    "            self.other.fit(X, y)\n",
    "    \n",
    "\n",
    "###################### поиск k соседей ######################\n",
    "\n",
    "    def find_kneighbors(self, X, return_distance):\n",
    "\n",
    "        if self.metric == 'euclidean':\n",
    "            dist_func = distances.euclidean_distance\n",
    "        elif self.metric == 'cosine':\n",
    "            dist_func = distances.cosine_distance\n",
    "\n",
    "        max_size_of_X = 100\n",
    "\n",
    "        if X.shape[0] > max_size_of_X:\n",
    "\n",
    "            ret_dist, ret_ind = [], []\n",
    "\n",
    "            for X_for_predict in np.array_split(X, X.shape[0] //\n",
    "                                                (max_size_of_X - 1) + 1):\n",
    "                dist = []\n",
    "                if return_distance:\n",
    "                    dist, ind = self.find_kneighbors(\n",
    "                            X_for_predict, return_distance=return_distance)\n",
    "                else:\n",
    "                    ind = self.find_kneighbors(\n",
    "                            X_for_predict, return_distance=return_distance)\n",
    "\n",
    "                ret_dist += list(dist)\n",
    "                ret_ind += list(ind)\n",
    "\n",
    "            if return_distance:\n",
    "                return (np.array(ret_dist), np.array(ret_ind))\n",
    "            else:\n",
    "                return (np.array(ret_ind))\n",
    "\n",
    "        else:\n",
    "\n",
    "            if self.strategy == 'my_own':\n",
    "                ret_dist = np.zeros((X.shape[0], self.k))\n",
    "                ret_ind = np.zeros((X.shape[0], self.k))\n",
    "\n",
    "                dist = dist_func(X, self.X_train)\n",
    "\n",
    "                for i in range(X.shape[0]):\n",
    "                    one_dist = dist[i]\n",
    "                    ind = list(range(self.X_train.shape[0]))\n",
    "                    res = list(zip(ind, one_dist))\n",
    "                    res = sorted(res, key=lambda d: d[1])\n",
    "                    res = res[:self.k]\n",
    "                    ind, one_dist = zip(*res)\n",
    "\n",
    "                    ind = np.array(ind)\n",
    "\n",
    "                    one_dist = np.array(one_dist)\n",
    "\n",
    "                    ret_dist[i] = np.array(one_dist)\n",
    "                    ret_ind[i] = np.array(ind)\n",
    "\n",
    "                if return_distance:\n",
    "                    return (np.array(ret_dist), np.array(ret_ind).astype('int'))\n",
    "                else:\n",
    "                    return (np.array(ret_ind).astype('int'))\n",
    "\n",
    "            else:\n",
    "                return self.other.kneighbors(\n",
    "                        X, n_neighbors=self.k, return_distance=return_distance)\n",
    "\n",
    "###################### прогноз ######################\n",
    "\n",
    "    def predict(self, X): # X_test\n",
    "\n",
    "        if self.weights:\n",
    "            dist, ind = self.find_kneighbors(X, return_distance=True)\n",
    "            \n",
    "            el_weights = 1 / (dist + 10 ** -5)\n",
    "\n",
    "            res = []\n",
    "            for i in range(ind.shape[0]):\n",
    "                indeces = ind[i]\n",
    "                w = el_weights[i]\n",
    "                ind_list = []\n",
    "                for index in indeces:\n",
    "                    index = int(index)\n",
    "                    ind_list.append(self.y_train[index])\n",
    "                counts = np.bincount(ind_list, weights=w)\n",
    "                y = np.argmax(counts)\n",
    "                res.append(y)\n",
    "            \n",
    "        else:\n",
    "            ind = self.find_kneighbors(X, return_distance=False)\n",
    "\n",
    "            res = []\n",
    "            for indeces in ind:\n",
    "                ind_list = []\n",
    "                for index in indeces:\n",
    "                    index = int(index)\n",
    "                    ind_list.append(self.y_train[index])\n",
    "                counts = np.bincount(ind_list)\n",
    "                y = np.argmax(counts)\n",
    "                res.append(y)\n",
    "                \n",
    "        return np.array(res)\n",
    "        "
   ]
  },
  {
   "cell_type": "code",
   "execution_count": 24,
   "metadata": {},
   "outputs": [
    {
     "data": {
      "text/plain": [
       "array([1, 2, 3], dtype=int64)"
      ]
     },
     "execution_count": 24,
     "metadata": {},
     "output_type": "execute_result"
    }
   ],
   "source": [
    "# X_tr = np.array([[0, 0, 0, 1], [5, 5, 3, 5], [5, 5, 5, 5], [0, 0, 0, 2]])\n",
    "# y_tr = np.array([0, 5, 5, 0])\n",
    "# X_tst = np.array([[0, 0, 0, 3], [5, 5, 2, 5], [0, 3, 0, 0]])\n",
    "# y_tst = np.array([0, 5, 0])\n",
    "\n",
    "\n",
    "cls = KNNClassifier(k=3, strategy='my_own', metric='euclidean', weights=False)\n",
    "cls.fit(X_tr, y_tr)\n",
    "cls.predict(X_tst) #== y_test"
   ]
  },
  {
   "cell_type": "code",
   "execution_count": 27,
   "metadata": {},
   "outputs": [
    {
     "data": {
      "text/plain": [
       "array([[ 0,  5,  9],\n",
       "       [ 2,  7, 11],\n",
       "       [ 1,  6, 10]], dtype=int64)"
      ]
     },
     "execution_count": 27,
     "metadata": {},
     "output_type": "execute_result"
    }
   ],
   "source": [
    "cls.find_kneighbors(X_tst, return_distance=False)"
   ]
  },
  {
   "cell_type": "code",
   "execution_count": 26,
   "metadata": {},
   "outputs": [
    {
     "data": {
      "text/plain": [
       "array([1, 2, 3], dtype=int64)"
      ]
     },
     "execution_count": 26,
     "metadata": {},
     "output_type": "execute_result"
    }
   ],
   "source": [
    "cls = KNNClassifier(k=3, strategy='brute', metric='euclidean', weights=False)\n",
    "cls.fit(X_tr, y_tr)\n",
    "cls.predict(X_tst)"
   ]
  },
  {
   "cell_type": "code",
   "execution_count": 78,
   "metadata": {},
   "outputs": [
    {
     "name": "stdout",
     "output_type": "stream",
     "text": [
      "4 [0, 1, 3]\n"
     ]
    },
    {
     "data": {
      "text/plain": [
       "array([4, 4, 4], dtype=int64)"
      ]
     },
     "execution_count": 78,
     "metadata": {},
     "output_type": "execute_result"
    }
   ],
   "source": [
    "cls = KNNClassifier(k=3, strategy='kd_tree', metric='euclidean')\n",
    "cls.fit(X_tr, y_tr)\n",
    "cls.predict(X_tst)"
   ]
  },
  {
   "cell_type": "code",
   "execution_count": 100,
   "metadata": {},
   "outputs": [],
   "source": [
    "# cls.fit(X_tr, y_train)"
   ]
  },
  {
   "cell_type": "code",
   "execution_count": 6,
   "metadata": {},
   "outputs": [],
   "source": [
    "# %%time\n",
    "X_tr = np.array([[1, 7, 3, 8], [9, 5, 0, 1], [2, 5, 1, 0], [3, 5, 2, 9], [2, 1, 1, 2], [1, 7, 3, 8],\n",
    "                 [9, 5, 0, 1], [2, 5, 1, 0], [3, 5, 2, 9], [1, 7, 3, 8], [9, 5, 0, 1], [2, 5, 1, 0], [3, 5, 2, 9],\n",
    "                 [1, 7, 3, 8], [9, 5, 0, 1], [2, 5, 1, 0], [3, 5, 2, 9], [2, 1, 1, 2], [1, 7, 3, 8],\n",
    "                 [9, 5, 0, 1], [2, 5, 1, 0], [3, 5, 2, 9], [1, 7, 3, 8], [9, 5, 0, 1], [2, 5, 1, 0], [3, 5, 2, 9]])\n",
    "# X_tr = np.array([[1, 2, 3, 4], [2, 3, 4, 5], [3, 4, 5, 6], [0, 0, 0, 1]])\n",
    "y_tr = np.array([1, 4, 4, 2, 3, 3, 5, 2, 4, 1, 3, 2, 4,\n",
    "                    1, 4, 4, 2, 3, 3, 5, 2, 4, 1, 3, 2, 4])\n",
    "X_tst = np.array([[1, 4, 3, 5], [2, 5, 2, 2], [6, 3, 4, 1]])\n",
    "# y_tr = np.array([1, 4, 4, 2])\n",
    "# cls.predict(X_tr)\n"
   ]
  },
  {
   "cell_type": "code",
   "execution_count": 4,
   "metadata": {},
   "outputs": [],
   "source": [
    "test_block_size = 3\n",
    "test_block = random.sample(range(X_tr.shape[1]), test_block_size)\n",
    "#     print(list(range(X_tr[1] - 1)), test_block)"
   ]
  },
  {
   "cell_type": "code",
   "execution_count": null,
   "metadata": {},
   "outputs": [],
   "source": []
  }
 ],
 "metadata": {
  "kernelspec": {
   "display_name": "Python 3 (ipykernel)",
   "language": "python",
   "name": "python3"
  },
  "language_info": {
   "codemirror_mode": {
    "name": "ipython",
    "version": 3
   },
   "file_extension": ".py",
   "mimetype": "text/x-python",
   "name": "python",
   "nbconvert_exporter": "python",
   "pygments_lexer": "ipython3",
   "version": "3.7.9"
  }
 },
 "nbformat": 4,
 "nbformat_minor": 2
}
