{
 "cells": [
  {
   "cell_type": "markdown",
   "metadata": {},
   "source": [
    "Написать функцию replace_nan_to_means(X), принимающую матрицу X. Функция должна вернуть копию матрицы X, в которой все значения nan в каждом столбце заменены на среднее арифметическое остальных элементов столбца. В случае столбца из одних nan необходимо заменить все элементы столбца на нули. Исходная матрица X должна остаться неизменной!"
   ]
  },
  {
   "cell_type": "markdown",
   "metadata": {},
   "source": [
    "Формат ввода\n",
    "replace_nan_to_means(np.array([ [0, 1, 2], [np.nan, 1, np.nan], [5, 6, 7] ])\n",
    "\n",
    "Формат вывода\n",
    "np.array([ [0, 1, 2], [2.5, 1, 4.5], [5, 6, 7] ])"
   ]
  },
  {
   "cell_type": "code",
   "execution_count": 1,
   "metadata": {},
   "outputs": [
    {
     "name": "stdout",
     "output_type": "stream",
     "text": [
      "[[0.  1.  0. ]\n",
      " [2.5 1.  0. ]\n",
      " [5.  6.  0. ]]\n"
     ]
    }
   ],
   "source": [
    "import numpy as np\n",
    "\n",
    "\n",
    "def replace_nan_to_means(x):\n",
    "    mask = np.isnan(x)\n",
    "    x_without_nan = x.copy()\n",
    "    mask2 = np.all(mask, axis=0)\n",
    "    np.transpose(x_without_nan)[mask2] = 0\n",
    "    x_without_nan[mask] = np.nanmean(x_without_nan, axis = 0)[np.where(mask)[1]]\n",
    "    return x_without_nan\n",
    "\n",
    "\n",
    "print(replace_nan_to_means(np.array([ [0, 1, np.nan], [np.nan, 1, np.nan], [5, 6, np.nan] ])))\n"
   ]
  },
  {
   "cell_type": "code",
   "execution_count": 2,
   "metadata": {},
   "outputs": [
    {
     "data": {
      "text/plain": [
       "array([[ 0.,  1.,  2.],\n",
       "       [nan,  1., nan],\n",
       "       [nan,  6.,  7.]])"
      ]
     },
     "execution_count": 2,
     "metadata": {},
     "output_type": "execute_result"
    }
   ],
   "source": [
    "np.array([ [0, 1, 2], [np.nan, 1, np.nan], [np.nan, 6, 7] ])"
   ]
  },
  {
   "cell_type": "code",
   "execution_count": 23,
   "metadata": {},
   "outputs": [
    {
     "name": "stdout",
     "output_type": "stream",
     "text": [
      "(array([nan, nan, nan]), array([0.        , 2.66666667, 4.5       ]))\n"
     ]
    }
   ],
   "source": [
    "print(replace_nan_to_means(np.array([ [0, 1, 2], [np.nan, 1, np.nan], [np.nan, 6, 7] ])))"
   ]
  },
  {
   "cell_type": "code",
   "execution_count": 25,
   "metadata": {},
   "outputs": [
    {
     "name": "stdout",
     "output_type": "stream",
     "text": [
      "(array([1, 1, 2], dtype=int64), array([0, 2, 0], dtype=int64))\n"
     ]
    }
   ],
   "source": [
    "print(replace_nan_to_means(np.array([ [0, 1, 2], [np.nan, 1, np.nan], [np.nan, 6, 7] ])))"
   ]
  },
  {
   "cell_type": "code",
   "execution_count": null,
   "metadata": {},
   "outputs": [],
   "source": []
  }
 ],
 "metadata": {
  "kernelspec": {
   "display_name": "Python 3",
   "language": "python",
   "name": "python3"
  },
  "language_info": {
   "codemirror_mode": {
    "name": "ipython",
    "version": 3
   },
   "file_extension": ".py",
   "mimetype": "text/x-python",
   "name": "python",
   "nbconvert_exporter": "python",
   "pygments_lexer": "ipython3",
   "version": "3.7.3"
  }
 },
 "nbformat": 4,
 "nbformat_minor": 2
}
