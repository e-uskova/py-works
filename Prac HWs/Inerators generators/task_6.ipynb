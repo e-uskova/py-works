{
 "cells": [
  {
   "cell_type": "markdown",
   "metadata": {},
   "source": [
    "Напишите декоратор substitutive, который позволяет вызывать функцию от неполного множества аргументов. В этом случае аргументы, которые были переданы в функцию, фиксируются для использования в дальнейшем, а результатом функции будет функция от оставшихся аргументов. Декоратор должен работать корректно при любых вызовах функции с позиционными аргументами."
   ]
  },
  {
   "cell_type": "code",
   "execution_count": 295,
   "metadata": {},
   "outputs": [],
   "source": [
    "import functools\n",
    "\n",
    "\n",
    "ar = []\n",
    "def substitutive(func):\n",
    "    @functools.wraps(func)\n",
    "    def wrapper(*args):\n",
    "        global ar\n",
    "        ar = ar + list(args)\n",
    "        n = func.__code__.co_argcount\n",
    "        if len(ar) == n:\n",
    "            func(*ar)\n",
    "            for a in args:\n",
    "                ar.remove(a)\n",
    "        elif len(ar) > n:\n",
    "            raise TypeError\n",
    "        else:\n",
    "            return substitutive(func)\n",
    "    return wrapper\n",
    "\n"
   ]
  },
  {
   "cell_type": "code",
   "execution_count": 286,
   "metadata": {
    "scrolled": true
   },
   "outputs": [
    {
     "name": "stdout",
     "output_type": "stream",
     "text": [
      "1 2 3\n"
     ]
    }
   ],
   "source": [
    "@substitutive\n",
    "def f(x, y, z):\n",
    "    print(x, y, z)\n",
    "\n",
    "# try:\n",
    "f(1, 2, 3)\n",
    "# except Exception as e:\n",
    "#     print(type(e).__name__)"
   ]
  },
  {
   "cell_type": "code",
   "execution_count": 296,
   "metadata": {},
   "outputs": [
    {
     "name": "stdout",
     "output_type": "stream",
     "text": [
      "1 2 3\n",
      "1 2 4\n",
      "1 2 5\n"
     ]
    }
   ],
   "source": [
    "@substitutive\n",
    "def f(x, y, z):\n",
    "    \"Some doc\"\n",
    "    print(x, y, z)\n",
    "\n",
    "try:\n",
    "    g = f(1, 2)\n",
    "    g(3)\n",
    "    g(4)\n",
    "    g(5)\n",
    "except Exception as e:\n",
    "    print(type(e).__name__)"
   ]
  },
  {
   "cell_type": "code",
   "execution_count": 272,
   "metadata": {},
   "outputs": [
    {
     "data": {
      "text/plain": [
       "1"
      ]
     },
     "execution_count": 272,
     "metadata": {},
     "output_type": "execute_result"
    }
   ],
   "source": [
    "def f(a, b, c):\n",
    "    pass\n",
    "\n",
    "substitutive.__code__.co_argcount"
   ]
  },
  {
   "cell_type": "code",
   "execution_count": 294,
   "metadata": {},
   "outputs": [
    {
     "name": "stdout",
     "output_type": "stream",
     "text": [
      "TypeError\n"
     ]
    }
   ],
   "source": [
    "@substitutive\n",
    "def f(x, y, z):\n",
    "    \"Some doc\"\n",
    "    print(x, y, z)\n",
    "\n",
    "try:\n",
    "    f(1, 2, 3, 4)\n",
    "except Exception as e:\n",
    "    print(type(e).__name__)"
   ]
  },
  {
   "cell_type": "code",
   "execution_count": 292,
   "metadata": {},
   "outputs": [
    {
     "data": {
      "text/plain": [
       "[1, 2, 3, 4, 1, 2, 3, 4]"
      ]
     },
     "execution_count": 292,
     "metadata": {},
     "output_type": "execute_result"
    }
   ],
   "source": [
    "ar"
   ]
  },
  {
   "cell_type": "code",
   "execution_count": null,
   "metadata": {},
   "outputs": [],
   "source": []
  },
  {
   "cell_type": "code",
   "execution_count": null,
   "metadata": {},
   "outputs": [],
   "source": []
  }
 ],
 "metadata": {
  "kernelspec": {
   "display_name": "Python 3",
   "language": "python",
   "name": "python3"
  },
  "language_info": {
   "codemirror_mode": {
    "name": "ipython",
    "version": 3
   },
   "file_extension": ".py",
   "mimetype": "text/x-python",
   "name": "python",
   "nbconvert_exporter": "python",
   "pygments_lexer": "ipython3",
   "version": "3.7.3"
  }
 },
 "nbformat": 4,
 "nbformat_minor": 2
}
