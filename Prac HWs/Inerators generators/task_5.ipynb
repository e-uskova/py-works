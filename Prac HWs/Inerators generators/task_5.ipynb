{
 "cells": [
  {
   "cell_type": "markdown",
   "metadata": {},
   "source": [
    "Напишите декоратор @check_arguments, который будет проверять правильность типов входных позиционных аргументов функции. Декоратор принимает на вход типы аргументов и декорирует функцию таким образом, что она генеририрует исключение TypeError, если хотя бы один из аргументов имеет неверный тип. Типов может быть меньше чем аргументов, в этом случае проверяются типы только первых аргументов, для которых типы прописаны. Типов может быть больше чем аргументов, в этом случае необходимо вывести ошибку. Декоратор должен корректно обрабатывать функции с переменным числом аргументов. Декоратор не обязан корректно работать с функциями с именованными аргументами."
   ]
  },
  {
   "cell_type": "code",
   "execution_count": 61,
   "metadata": {},
   "outputs": [],
   "source": [
    "# type_list_right = [int, tuple, float, str]\n",
    "# a = [3, (0, 1), 2., 8, 3]\n",
    "import functools\n",
    "\n",
    "def check_arguments(*type_list):\n",
    "    def check(func):\n",
    "        @functools.wraps(func)\n",
    "        def wrapper(*args):\n",
    "            if len(args) < len(type_list):\n",
    "                raise TypeError\n",
    "            for i in range(len(type_list)):\n",
    "                if not isinstance(args[i], type_list[i]):\n",
    "                    raise TypeError\n",
    "            func(*args)\n",
    "        return wrapper\n",
    "    return check\n",
    "    \n",
    "# @check_arguments(*type_list_right)\n",
    "# def test(*ar):\n",
    "#     pass\n",
    "\n",
    "# test(*a)"
   ]
  },
  {
   "cell_type": "code",
   "execution_count": 62,
   "metadata": {},
   "outputs": [
    {
     "name": "stdout",
     "output_type": "stream",
     "text": [
      "1 abcd\n"
     ]
    }
   ],
   "source": [
    "@check_arguments(int, str)\n",
    "def f(a, b):\n",
    "    print(a, b)\n",
    "\n",
    "try:\n",
    "    f(1, 'abcd')\n",
    "except Exception as e:\n",
    "    print(type(e).__name__)"
   ]
  },
  {
   "cell_type": "code",
   "execution_count": 63,
   "metadata": {},
   "outputs": [
    {
     "name": "stdout",
     "output_type": "stream",
     "text": [
      "some_name\n",
      "Some doc.\n"
     ]
    }
   ],
   "source": [
    "@check_arguments(int)\n",
    "def some_name(a):\n",
    "    \"Some doc.\"\n",
    "    print(a)\n",
    "\n",
    "print(some_name.__name__)\n",
    "print(some_name.__doc__)\n"
   ]
  },
  {
   "cell_type": "code",
   "execution_count": null,
   "metadata": {},
   "outputs": [],
   "source": []
  }
 ],
 "metadata": {
  "kernelspec": {
   "display_name": "Python 3",
   "language": "python",
   "name": "python3"
  },
  "language_info": {
   "codemirror_mode": {
    "name": "ipython",
    "version": 3
   },
   "file_extension": ".py",
   "mimetype": "text/x-python",
   "name": "python",
   "nbconvert_exporter": "python",
   "pygments_lexer": "ipython3",
   "version": "3.7.3"
  }
 },
 "nbformat": 4,
 "nbformat_minor": 2
}
