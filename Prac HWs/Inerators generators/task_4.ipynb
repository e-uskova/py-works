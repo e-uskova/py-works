{
 "cells": [
  {
   "cell_type": "markdown",
   "metadata": {},
   "source": [
    "Напишите класс WordContextGenerator, который принимает на вход список строк и размер окна и возвращает генератор,\n",
    "возвращающий пары слов встречающиеся в одном окне размера k.\n",
    "Класс должен включать в себя:\n",
    "• __init__(self, words, window_size) — конструктор класса.\n",
    "– words — список слов.\n",
    "– window_size — размер окна.\n",
    "Примеры правильно работающего кода:\n",
    "s = ['мама', 'очень', 'хорошо', 'мыла', 'красивую', 'раму']\n",
    "...\n",
    "for elem in WordContextGenerator(s, k=2):\n",
    "... print(elem)\n",
    "мама, очень\n",
    "мама, хорошо\n",
    "очень, мама\n",
    "очень, хорошо\n",
    "очень, мыла\n",
    "хорошо, мама\n",
    "хорошо, очень\n",
    "хорошо, мыла\n",
    "хорошо, красивую\n",
    "мылы, очень\n",
    "мыла, хорошо\n",
    "мыла, красивую\n",
    "мыла, раму\n",
    "красивую, хорошо\n",
    "красивую, мыла\n",
    "красивую, рама\n",
    "рама, мыла\n",
    "рама, красивую\n",
    "Замечание: в принципе, реализовывать именно через __init__ необязательно. Можно реализовывать и\n",
    "как итератор, и как генератор."
   ]
  },
  {
   "cell_type": "code",
   "execution_count": 57,
   "metadata": {},
   "outputs": [],
   "source": [
    "\n",
    "\n",
    "def WordContextGenerator(words, window_size):\n",
    "    for w in range(len(words)):\n",
    "        word = words[w]\n",
    "        for n in [words[i] for i in range(w - window_size\n",
    "                  if w - window_size >= 0 else 0,\n",
    "                  w + window_size + 1 if w + window_size < len(words)\n",
    "                  else len(words)) if words[i] != word]:\n",
    "            yield word, n\n"
   ]
  },
  {
   "cell_type": "code",
   "execution_count": 58,
   "metadata": {},
   "outputs": [
    {
     "name": "stdout",
     "output_type": "stream",
     "text": [
      "negwar bufs\n",
      "negwar ngbt\n",
      "negwar h\n",
      "negwar mawf\n",
      "bufs negwar\n",
      "bufs ngbt\n",
      "bufs h\n",
      "bufs mawf\n",
      "ngbt negwar\n",
      "ngbt bufs\n",
      "ngbt h\n",
      "ngbt mawf\n",
      "h negwar\n",
      "h bufs\n",
      "h ngbt\n",
      "h mawf\n",
      "mawf negwar\n",
      "mawf bufs\n",
      "mawf ngbt\n",
      "mawf h\n"
     ]
    }
   ],
   "source": [
    "for w1, w2 in WordContextGenerator(['negwar', 'bufs', 'ngbt', 'h', 'mawf'], 5):\n",
    "\tprint(w1, w2)"
   ]
  },
  {
   "cell_type": "code",
   "execution_count": null,
   "metadata": {},
   "outputs": [],
   "source": []
  }
 ],
 "metadata": {
  "kernelspec": {
   "display_name": "Python 3",
   "language": "python",
   "name": "python3"
  },
  "language_info": {
   "codemirror_mode": {
    "name": "ipython",
    "version": 3
   },
   "file_extension": ".py",
   "mimetype": "text/x-python",
   "name": "python",
   "nbconvert_exporter": "python",
   "pygments_lexer": "ipython3",
   "version": "3.7.3"
  }
 },
 "nbformat": 4,
 "nbformat_minor": 2
}
