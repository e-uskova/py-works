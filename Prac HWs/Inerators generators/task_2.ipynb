{
 "cells": [
  {
   "cell_type": "code",
   "execution_count": 52,
   "metadata": {},
   "outputs": [],
   "source": [
    "import numpy as np\n",
    "\n",
    "def lin(elem):\n",
    "    li = []\n",
    "    try:\n",
    "        iterator = iter(elem)\n",
    "    except TypeError:\n",
    "        return [elem]\n",
    "    else:\n",
    "        try:\n",
    "            elem.isalpha()\n",
    "            if len(elem) > 1:\n",
    "                raise AttributeError\n",
    "        except AttributeError:\n",
    "            for obj in iterator:\n",
    "                li = li + lin(obj)\n",
    "            return li\n",
    "        else:\n",
    "            return [elem]\n",
    "        \n",
    "\n",
    "class linearize:\n",
    "    \n",
    "    def __init__(self, input_list):\n",
    "        self.ret_val_pos = -1\n",
    "        self.input_list = lin(input_list)        \n",
    "        \n",
    "    def __iter__(self):\n",
    "        return self\n",
    "    \n",
    "    def __next__(self):\n",
    "        self.ret_val_pos += 1\n",
    "        if self.ret_val_pos >= len(self.input_list):\n",
    "            raise StopIteration\n",
    "        else:\n",
    "            return self.input_list[self.ret_val_pos]"
   ]
  },
  {
   "cell_type": "code",
   "execution_count": 53,
   "metadata": {},
   "outputs": [
    {
     "data": {
      "text/plain": [
       "[4, 'm', 'm', 'p', 8, 15, 1, 6, 2, 3, 4, 3]"
      ]
     },
     "execution_count": 53,
     "metadata": {},
     "output_type": "execute_result"
    }
   ],
   "source": [
    "my_list = list()\n",
    "for elem in linearize([4, 'mmp', [8, [15, 1], [[6]], [2, [3]]], range(4, 2, -1)]):\n",
    "    my_list.append(elem)\n",
    "my_list"
   ]
  },
  {
   "cell_type": "code",
   "execution_count": 28,
   "metadata": {},
   "outputs": [
    {
     "data": {
      "text/plain": [
       "[4, 'm', 'm', 'p', 8, 15, 1, 6, 2, 3, 4, 3]"
      ]
     },
     "execution_count": 28,
     "metadata": {},
     "output_type": "execute_result"
    }
   ],
   "source": [
    "input_list = [4, 'mmp', [8, [15, 1], [[6]], [2, [3]]], range(4, 2, -1)]\n",
    "my_list = []\n",
    "for elem in input_list:\n",
    "    my_list = my_list + (lin(elem))\n",
    "my_list"
   ]
  },
  {
   "cell_type": "code",
   "execution_count": 29,
   "metadata": {},
   "outputs": [
    {
     "data": {
      "text/plain": [
       "[4, 'a', 'b', 'c']"
      ]
     },
     "execution_count": 29,
     "metadata": {},
     "output_type": "execute_result"
    }
   ],
   "source": [
    "lin([4, 'abc'])"
   ]
  },
  {
   "cell_type": "code",
   "execution_count": 9,
   "metadata": {},
   "outputs": [
    {
     "data": {
      "text/plain": [
       "3"
      ]
     },
     "execution_count": 9,
     "metadata": {},
     "output_type": "execute_result"
    }
   ],
   "source": [
    "len('abc')"
   ]
  },
  {
   "cell_type": "code",
   "execution_count": 41,
   "metadata": {},
   "outputs": [
    {
     "name": "stdout",
     "output_type": "stream",
     "text": [
      "(2, 3)\n"
     ]
    }
   ],
   "source": [
    "sequence = [1, 2, 3]\n",
    "print(tuple(linearize(sequence)))"
   ]
  },
  {
   "cell_type": "code",
   "execution_count": 47,
   "metadata": {},
   "outputs": [
    {
     "data": {
      "text/plain": [
       "[2, 3]"
      ]
     },
     "execution_count": 47,
     "metadata": {},
     "output_type": "execute_result"
    }
   ],
   "source": [
    "my_list = list()\n",
    "for elem in linearize(sequence):\n",
    "    my_list.append(elem)\n",
    "my_list"
   ]
  },
  {
   "cell_type": "code",
   "execution_count": null,
   "metadata": {},
   "outputs": [],
   "source": []
  }
 ],
 "metadata": {
  "kernelspec": {
   "display_name": "Python 3 (ipykernel)",
   "language": "python",
   "name": "python3"
  },
  "language_info": {
   "codemirror_mode": {
    "name": "ipython",
    "version": 3
   },
   "file_extension": ".py",
   "mimetype": "text/x-python",
   "name": "python",
   "nbconvert_exporter": "python",
   "pygments_lexer": "ipython3",
   "version": "3.7.9"
  }
 },
 "nbformat": 4,
 "nbformat_minor": 2
}
