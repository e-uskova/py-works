{
 "cells": [
  {
   "cell_type": "code",
   "execution_count": 29,
   "metadata": {},
   "outputs": [],
   "source": [
    "def sjoin(s1, s2):\n",
    "    print(s1, '+', s2)\n",
    "    res = []\n",
    "    while s1 and s2:\n",
    "        res.append(s1.pop() if s1[-1]>s2[-1] else s2.pop())\n",
    "    print(s1+s2+list(reversed(res)))\n",
    "    return s1+s2+list(reversed(res))\n",
    "\n",
    "def jsort(seq):\n",
    "    print(seq)\n",
    "    l = len(seq)\n",
    "    if l<2:\n",
    "        return list(seq)\n",
    "    return sjoin(jsort(seq[l//2:]), jsort(seq[:l//2]))"
   ]
  },
  {
   "cell_type": "code",
   "execution_count": 14,
   "metadata": {},
   "outputs": [
    {
     "data": {
      "text/plain": [
       "[0, 0, 1, 1, 2, 3, 5, 6, 7]"
      ]
     },
     "execution_count": 14,
     "metadata": {},
     "output_type": "execute_result"
    }
   ],
   "source": [
    "sjoin(s1, s2)"
   ]
  },
  {
   "cell_type": "code",
   "execution_count": 30,
   "metadata": {},
   "outputs": [
    {
     "name": "stdout",
     "output_type": "stream",
     "text": [
      "[1, 5, 2, 0, 7, 6, 3, 0, 1]\n",
      "[7, 6, 3, 0, 1]\n",
      "[3, 0, 1]\n",
      "[0, 1]\n",
      "[1]\n",
      "[0]\n",
      "[1] + [0]\n",
      "[0, 1]\n",
      "[3]\n",
      "[0, 1] + [3]\n",
      "[0, 1, 3]\n",
      "[7, 6]\n",
      "[6]\n",
      "[7]\n",
      "[6] + [7]\n",
      "[6, 7]\n",
      "[0, 1, 3] + [6, 7]\n",
      "[0, 1, 3, 6, 7]\n",
      "[1, 5, 2, 0]\n",
      "[2, 0]\n",
      "[0]\n",
      "[2]\n",
      "[0] + [2]\n",
      "[0, 2]\n",
      "[1, 5]\n",
      "[5]\n",
      "[1]\n",
      "[5] + [1]\n",
      "[1, 5]\n",
      "[0, 2] + [1, 5]\n",
      "[0, 1, 2, 5]\n",
      "[0, 1, 3, 6, 7] + [0, 1, 2, 5]\n",
      "[0, 0, 1, 1, 2, 3, 5, 6, 7]\n"
     ]
    },
    {
     "data": {
      "text/plain": [
       "[0, 0, 1, 1, 2, 3, 5, 6, 7]"
      ]
     },
     "execution_count": 30,
     "metadata": {},
     "output_type": "execute_result"
    }
   ],
   "source": [
    "jsort([1, 5, 2, 0, 7, 6, 3, 0, 1])"
   ]
  },
  {
   "cell_type": "code",
   "execution_count": 17,
   "metadata": {},
   "outputs": [],
   "source": [
    "s1 = jsort(seq[len(seq)//2:])"
   ]
  },
  {
   "cell_type": "code",
   "execution_count": 18,
   "metadata": {},
   "outputs": [],
   "source": [
    "s2 = jsort(seq[:len(seq)//2])"
   ]
  },
  {
   "cell_type": "code",
   "execution_count": 19,
   "metadata": {},
   "outputs": [
    {
     "data": {
      "text/plain": [
       "[0, 1, 3, 6, 7]"
      ]
     },
     "execution_count": 19,
     "metadata": {},
     "output_type": "execute_result"
    }
   ],
   "source": [
    "s1"
   ]
  },
  {
   "cell_type": "code",
   "execution_count": 20,
   "metadata": {},
   "outputs": [
    {
     "data": {
      "text/plain": [
       "[0, 1, 2, 5]"
      ]
     },
     "execution_count": 20,
     "metadata": {},
     "output_type": "execute_result"
    }
   ],
   "source": [
    "s2"
   ]
  },
  {
   "cell_type": "code",
   "execution_count": null,
   "metadata": {},
   "outputs": [],
   "source": []
  }
 ],
 "metadata": {
  "kernelspec": {
   "display_name": "Python 3",
   "language": "python",
   "name": "python3"
  },
  "language_info": {
   "codemirror_mode": {
    "name": "ipython",
    "version": 3
   },
   "file_extension": ".py",
   "mimetype": "text/x-python",
   "name": "python",
   "nbconvert_exporter": "python",
   "pygments_lexer": "ipython3",
   "version": "3.7.3"
  }
 },
 "nbformat": 4,
 "nbformat_minor": 2
}
