{
 "cells": [
  {
   "cell_type": "markdown",
   "metadata": {},
   "source": [
    "Напишите класс BatchGenerator, который принимает на вход список последовательностей, размер батча\n",
    "и параметр shuffle и возвращает генератор, разбивающий входные последовательности на батчи заданного\n",
    "размера, а также случайным образом перемешивает их если shuffle=True.\n",
    "Класс должен включать в себя:\n",
    "• __init__(self, list_of_sequences, batch_size, shuffle=False) — конструктор класса.\n",
    "– list_of_sequences — список списков или numpy.array одинаковой длины.\n",
    "– batch_size — размер батчей, на которые нужно разбить входные последовательности. Батчи\n",
    "последнего элемента генератора могут быть короче чем batch_size.\n",
    "– shuffle — флаг, позволяющий перемешивать порядок элементов в последовательностях.\n",
    "Примеры правильно работающего кода:\n",
    "bg = BatchGenerator(\n",
    "list_of_sequences=[[1, 2, 3, 5, 1, ’a’], [0, 0, 1, 1, 0, 1]], batch_size=2, shuffle=False\n",
    ")\n",
    "for elem in bg:\n",
    "print(elem)\n",
    "[[1, 2], [0, 0]]\n",
    "[[3, 5], [1, 1]]\n",
    "[[1, ’a’], [0, 1]]\n",
    "Замечание: в принципе, реализовывать именно через __init__ необязательно. Можно реализовывать и\n",
    "как итератор, и как генератор."
   ]
  },
  {
   "cell_type": "code",
   "execution_count": 1,
   "metadata": {},
   "outputs": [],
   "source": [
    "class BatchGenerator:\n",
    "    \n",
    "    def __init__(self, list_of_sequences, batch_size, shuffle=False):\n",
    "        self.batch_size = batch_size\n",
    "        self.shuffle = shuffle\n",
    "        \n",
    "    def __iter__(self):\n",
    "        return self\n",
    "    \n",
    "    def __next__(self):\n",
    "        pass\n",
    "    \n",
    "    "
   ]
  },
  {
   "cell_type": "code",
   "execution_count": 2,
   "metadata": {},
   "outputs": [],
   "source": [
    "import random\n",
    "\n",
    "\n",
    "def BatchGenerator(list_of_sequences, batch_size, shuffle=False):\n",
    "    offset = 0\n",
    "    while offset < len(list_of_sequences[0]):\n",
    "        ret_batch = [list_of_sequences[j][offset: batch_size + offset] for j in range(len(list_of_sequences))]\n",
    "        if shuffle:\n",
    "            random.shuffle(ret_batch)\n",
    "        offset += batch_size\n",
    "        yield ret_batch\n"
   ]
  },
  {
   "cell_type": "code",
   "execution_count": 7,
   "metadata": {},
   "outputs": [],
   "source": [
    "bg = BatchGenerator(list_of_sequences=[[1, 2, 3, 4, 5, 6], ['c', 'd', 'e', 'f', 'a', 'b']], batch_size=2, shuffle=False)"
   ]
  },
  {
   "cell_type": "code",
   "execution_count": 8,
   "metadata": {},
   "outputs": [
    {
     "name": "stdout",
     "output_type": "stream",
     "text": [
      "[[1, 2], ['c', 'd']]\n",
      "[[3, 4], ['e', 'f']]\n",
      "[[5, 6], ['a', 'b']]\n"
     ]
    }
   ],
   "source": [
    "for elem in bg:\n",
    "    print(elem)"
   ]
  },
  {
   "cell_type": "code",
   "execution_count": null,
   "metadata": {},
   "outputs": [],
   "source": []
  }
 ],
 "metadata": {
  "kernelspec": {
   "display_name": "Python 3",
   "language": "python",
   "name": "python3"
  },
  "language_info": {
   "codemirror_mode": {
    "name": "ipython",
    "version": 3
   },
   "file_extension": ".py",
   "mimetype": "text/x-python",
   "name": "python",
   "nbconvert_exporter": "python",
   "pygments_lexer": "ipython3",
   "version": "3.7.3"
  }
 },
 "nbformat": 4,
 "nbformat_minor": 2
}
