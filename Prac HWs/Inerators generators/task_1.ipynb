{
 "cells": [
  {
   "cell_type": "code",
   "execution_count": 1,
   "metadata": {},
   "outputs": [],
   "source": [
    "import numpy as np\n",
    "\n",
    "\n",
    "class RleSequence:\n",
    "\n",
    "    def __init__(self, input_sequence):\n",
    "\n",
    "        if input_sequence.size == 0:\n",
    "            raise TypeError\n",
    "        self.values = \\\n",
    "            np.hstack((input_sequence[np.hstack((np.diff(input_sequence) != 0,\n",
    "                                                 [False]))],\n",
    "                       input_sequence[-1]))\n",
    "        self.repeat = \\\n",
    "            np.hstack(((np.where(np.hstack((np.diff(input_sequence) != 0,\n",
    "                                            [False]))))[0],\n",
    "                       input_sequence.size - 1))\\\n",
    "            - np.hstack(([-1],\n",
    "                         (np.where(np.hstack((np.diff(input_sequence) != 0,\n",
    "                                              [False]))))[0]))\n",
    "\n",
    "    def __getitem__(self, i):\n",
    "        cums = np.cumsum(self.repeat)\n",
    "        if type(i) == slice:\n",
    "            return(np.array([self.values[sum(cums <= j)]\n",
    "                             for j in range(0 if i.start is None\n",
    "                                            else sum(self.repeat) + i.start\n",
    "                                            if i.start < 0\n",
    "                                            else sum(self.repeat)\n",
    "                                            if i.start > sum(self.repeat)\n",
    "                                            else i.start,\n",
    "                                            sum(self.repeat) if i.stop is None\n",
    "                                            else sum(self.repeat) + i.stop\n",
    "                                            if i.stop < 0\n",
    "                                            else sum(self.repeat)\n",
    "                                            if i.stop > sum(self.repeat)\n",
    "                                            else i.stop,\n",
    "                                            1 if i.step is None\n",
    "                                            else i.step)]))\n",
    "        elif type(i) == int:\n",
    "            if i < 0:\n",
    "                i = sum(self.repeat) + i\n",
    "            return self.values[sum(cums <= i)]\n",
    "        else:\n",
    "            raise TypeError\n",
    "\n",
    "    def __contains__(self, target_elem):\n",
    "        return target_elem in self.values\n"
   ]
  },
  {
   "cell_type": "code",
   "execution_count": 2,
   "metadata": {},
   "outputs": [
    {
     "name": "stdout",
     "output_type": "stream",
     "text": [
      "[2 3 1 0]\n",
      "[2 3 1 0 2 0 2 1 0 0 0 1 0 1 2 3 0 1 2]\n",
      "[0 2 0 2 1 0 0 0 1 0 1 2 3 0 1 2 1 3 0 2 3 2 1 1 1]\n",
      "[0 2 0]\n",
      "[0 1 2 1 3]\n",
      "[]\n"
     ]
    }
   ],
   "source": [
    "rle_seq = RleSequence(np.array([2, 2, 3, 1, 0, 2, 0, 2, 1, 0, 0, 0,\n",
    "                                1, 0, 1, 2, 3, 0, 1, 2, 1, 3, 0,\n",
    "                                2, 3, 2, 1, 1, 1, 0]))\n",
    "print(rle_seq[1:5:])\n",
    "print(rle_seq[1:20:])\n",
    "print(rle_seq[4:29:])\n",
    "print(rle_seq[4:7:])\n",
    "print(rle_seq[17:22:])\n",
    "print(rle_seq[2:2:])"
   ]
  },
  {
   "cell_type": "code",
   "execution_count": 3,
   "metadata": {},
   "outputs": [
    {
     "name": "stdout",
     "output_type": "stream",
     "text": [
      "[2 1]\n",
      "[2 0 2 0 0 3 2]\n",
      "[0 2 0 0 3 2 0 2 1]\n",
      "[0 2 0]\n",
      "[0 3]\n",
      "[]\n"
     ]
    }
   ],
   "source": [
    "rle_seq = RleSequence(np.array([2, 2, 3, 1, 0, 2, 0, 2, 1, 0, 0, 0,\n",
    "                                1, 0, 1, 2, 3, 0, 1, 2, 1, 3, 0,\n",
    "                                2, 3, 2, 1, 1, 1, 0]))\n",
    "print(rle_seq[1:5:2])\n",
    "print(rle_seq[1:20:3])\n",
    "print(rle_seq[4:29:3])\n",
    "print(rle_seq[4:7:1])\n",
    "print(rle_seq[17:22:4])\n",
    "print(rle_seq[2:2:1])"
   ]
  },
  {
   "cell_type": "code",
   "execution_count": 4,
   "metadata": {},
   "outputs": [
    {
     "name": "stdout",
     "output_type": "stream",
     "text": [
      "[2 1 2 2 0 0 0 2 0 2 3 2 2 1 0]\n",
      "[2 0 2 0 0 3 2 0 2 1]\n",
      "[0 2 0 0 3 2 0 2 1]\n",
      "[0 2 0 2 1 0 0 0 1 0 1 2 3 0 1 2 1 3 0 2 3 2 1 1 1 0]\n",
      "[0 3 2 0]\n",
      "[3 1 0 2 0 2 1 0 0 0 1 0 1 2 3 0 1 2 1 3 0 2 3 2 1 1 1 0]\n"
     ]
    }
   ],
   "source": [
    "rle_seq = RleSequence(np.array([2, 2, 3, 1, 0, 2, 0, 2, 1, 0, 0, 0,\n",
    "                                1, 0, 1, 2, 3, 0, 1, 2, 1, 3, 0,\n",
    "                                2, 3, 2, 1, 1, 1, 0]))\n",
    "print(rle_seq[1::2])\n",
    "print(rle_seq[1::3])\n",
    "print(rle_seq[4::3])\n",
    "print(rle_seq[4::1])\n",
    "print(rle_seq[17::4])\n",
    "print(rle_seq[2::1])"
   ]
  },
  {
   "cell_type": "code",
   "execution_count": 5,
   "metadata": {},
   "outputs": [
    {
     "name": "stdout",
     "output_type": "stream",
     "text": [
      "[0 1 1 0 1 1 0 0 1]\n",
      "[2 1]\n",
      "[2]\n",
      "[0 2 0 0 2 1 1 1 2 1]\n",
      "[0 2 0 0 2 1 1 1 2 1 0 1 0 2 2 1 1 2]\n",
      "[1 2]\n",
      "[0 2 2 0 0]\n"
     ]
    }
   ],
   "source": [
    "tmp = np.array([0, 1, 2, 1, 2, 2, 0, 2, 0, 0, 2, 0, 2, 1, 0, 0, 2, 2, 0, 2, 0, 0, 2,\n",
    "               1, 1, 1, 1, 1, 1, 0, 2, 2, 1, 0, 0, 1, 1, 2, 0, 2, 2, 0, 2, 0, 1, 2,\n",
    "               1, 2, 2, 2])\n",
    "rle_seq = RleSequence(tmp)\n",
    "\n",
    "print(rle_seq[-30:45:3])\n",
    "# print(rle_seq[-20], rle_seq[-15])\n",
    "# for i in range(-20, 39, 5):\n",
    "#     print(i)\n",
    "print(rle_seq[-20:39:5])\n",
    "print(rle_seq[-20:-19:5])\n",
    "print(rle_seq[-36:-17:2])\n",
    "print(rle_seq[-36:-1:2])\n",
    "print(rle_seq[-4::2])\n",
    "print(rle_seq[:-40:2])"
   ]
  },
  {
   "cell_type": "code",
   "execution_count": 6,
   "metadata": {},
   "outputs": [
    {
     "name": "stdout",
     "output_type": "stream",
     "text": [
      "[2 0 2 1 2 1 1 0 1 0 0 2 2 2 0]\n",
      "[1 0 1 0 0 2 2 2 0 1 2 2 1 0 0 2 2 0 0 0 1 2 0 2]\n",
      "[1 1 0]\n",
      "[2 2 2 1 1 0 2 0 2 1]\n",
      "[2 0 2 1 2 1 1 0 1 0 0 2 2 2 0]\n",
      "[1 0 1 0 0 2 2 2 0 1 2 2 1 0 0 2 2 0 0 0 1 2 0 2]\n",
      "[1 1 0]\n",
      "[2 2 2 1 1 0 2 0 2 1]\n"
     ]
    }
   ],
   "source": [
    "tmp = np.array([2, 0, 2, 1, 2, 1, 1, 0, 1, 0, 0, 2, 2, 2, 0, 1, 2, 2, 1, 0, 0, 2, 2,\n",
    "                0, 0, 0, 1, 2, 0, 2])\n",
    "\n",
    "rle_seq = RleSequence(tmp)\n",
    "\n",
    "print(tmp[-30:15:])\n",
    "print(tmp[-24:35:])\n",
    "print(tmp[-24:-19:2])\n",
    "print(tmp[-30:-11:2])\n",
    "\n",
    "print(rle_seq[-30:15:])\n",
    "print(rle_seq[-24:35:])\n",
    "print(rle_seq[-24:-19:2])\n",
    "print(rle_seq[-30:-11:2])\n",
    "\n"
   ]
  },
  {
   "cell_type": "code",
   "execution_count": 7,
   "metadata": {},
   "outputs": [
    {
     "data": {
      "text/plain": [
       "30"
      ]
     },
     "execution_count": 7,
     "metadata": {},
     "output_type": "execute_result"
    }
   ],
   "source": [
    "tmp.size"
   ]
  },
  {
   "cell_type": "code",
   "execution_count": null,
   "metadata": {},
   "outputs": [
    {
     "name": "stdout",
     "output_type": "stream",
     "text": [
      "Wall time: 0 ns\n"
     ]
    }
   ],
   "source": [
    "%time\n",
    "np.random.seed(153)\n",
    "tmp_array = np.random.randint(0, 3, 10 ** 6)\n",
    "\n",
    "rle_seq = RleSequence(tmp_array)\n",
    "\n",
    "sum_elements = 0\n",
    "for elem in rle_seq:\n",
    "    sum_elements += elem\n",
    "print(sum_elements)"
   ]
  },
  {
   "cell_type": "code",
   "execution_count": null,
   "metadata": {},
   "outputs": [],
   "source": [
    "%%timeit\n",
    "rle_seq[3:9:]"
   ]
  },
  {
   "cell_type": "code",
   "execution_count": null,
   "metadata": {},
   "outputs": [],
   "source": []
  }
 ],
 "metadata": {
  "kernelspec": {
   "display_name": "Python 3 (ipykernel)",
   "language": "python",
   "name": "python3"
  },
  "language_info": {
   "codemirror_mode": {
    "name": "ipython",
    "version": 3
   },
   "file_extension": ".py",
   "mimetype": "text/x-python",
   "name": "python",
   "nbconvert_exporter": "python",
   "pygments_lexer": "ipython3",
   "version": "3.7.9"
  }
 },
 "nbformat": 4,
 "nbformat_minor": 2
}
