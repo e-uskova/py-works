{
 "cells": [
  {
   "cell_type": "markdown",
   "metadata": {},
   "source": [
    "Охотники за сокровищами отправились за очередным кладом в необычное место, которое называется \"Поле чудес\". \"Поле чудес\" имеет размер H на W метров. На каждом квадратном метре \"Поля чудес\" закопан сундук с определённым количеством камней. Скоро \"Поле чудес\" должен посетить лепрекон. Под влиянием лепрекона камни в сундуках превращаются в золотые монеты. Лепрекон появляется в определённой клетке поля и действует на прямоугольную область размером h на w, верхний левый край этой области - точка, где стоит лепрекон. Охотники за сокровищами не знают, когда точно появятся лепрекон, но хотят получить как можно больше золота. Известно вероятностное распределение на появление лепрекона в каждый момент времени в каждой клетке поля. Необходимо для каждой клетки \"Поля чудес\" посчитать математическое ожидание награды, которое будет получено от этой клетки. Необходимо написать функцию calc_expectations(h, w, X, Q), где: \n",
    "h, w - размеры области влияния лепрекона X - размера H на W, матрица целых чисел, \n",
    "X[i, j] - количество камней в i, j клетке Q - размера H на W, двумерная матрица вещественных чисел, \n",
    "вероятностное распределение. Q[i, j] - вероятность появления лепрекона в точке i, j."
   ]
  },
  {
   "cell_type": "markdown",
   "metadata": {},
   "source": [
    "Формат ввода\n",
    "calc_expectations(2, 2, np.array([ [1, 1, 1, 1], [2, 2, 2, 2], [3, 3, 3, 3], [4, 4, 4, 4] ], np.array([ [0.2, 0, 0.3, 0.1], [0.1, 0, 0.2, 0], [0.05, 0, 0, 0], [0, 0, 0, 0.05] ]))\n",
    "\n",
    "Формат вывода\n",
    "np.array([[0.2 , 0.2 , 0.3 , 0.4 ], [0.6 , 0.6 , 1. , 1.2 ], [0.45, 0.45, 0.6 , 0.6 ], [0.2 , 0.2 , 0. , 0.2 ]])"
   ]
  },
  {
   "cell_type": "code",
   "execution_count": 67,
   "metadata": {},
   "outputs": [
    {
     "name": "stdout",
     "output_type": "stream",
     "text": [
      "[[0.2  0.2  0.3  0.4 ]\n",
      " [0.6  0.6  1.   1.2 ]\n",
      " [0.45 0.45 0.6  0.6 ]\n",
      " [0.2  0.2  0.   0.2 ]]\n"
     ]
    }
   ],
   "source": [
    "import numpy as np\n",
    "\n",
    "\n",
    "def calc_expectations(h, w, X, Q):\n",
    "    a = np.copy(Q)\n",
    "    a = np.vstack((np.zeros((h-1, a.shape[1])), a))\n",
    "    a = np.hstack((np.zeros((a.shape[0], w-1)), a))\n",
    "    sub_shape = (h,w)\n",
    "    view_shape = tuple(np.subtract(a.shape, sub_shape) + 1) + sub_shape\n",
    "    strides = a.strides + a.strides\n",
    "    sub_matrices = np.lib.stride_tricks.as_strided(a,view_shape,strides)\n",
    "    veroyaynosti = np.sum(np.sum(sub_matrices, axis = 3), axis=2)    \n",
    "    return veroyaynosti*X\n",
    "\n",
    "\n",
    "print(calc_expectations(2, 2, \\\n",
    "                        np.array([ [1, 1, 1, 1], [2, 2, 2, 2], [3, 3, 3, 3], [4, 4, 4, 4] ]), \\\n",
    "                        np.array([ [0.2, 0, 0.3, 0.1], [0.1, 0, 0.2, 0], [0.05, 0, 0, 0], [0, 0, 0, 0.05] ])))"
   ]
  },
  {
   "cell_type": "code",
   "execution_count": 14,
   "metadata": {},
   "outputs": [
    {
     "name": "stdout",
     "output_type": "stream",
     "text": [
      "[[0.2  0.   0.3  0.1 ]\n",
      " [0.1  0.   0.2  0.  ]\n",
      " [0.05 0.   0.   0.  ]\n",
      " [0.   0.   0.   0.05]]\n"
     ]
    }
   ],
   "source": [
    "#Входная\n",
    "print(np.array([ [0.2, 0, 0.3, 0.1], [0.1, 0, 0.2, 0], [0.05, 0, 0, 0], [0, 0, 0, 0.05] ]))"
   ]
  },
  {
   "cell_type": "code",
   "execution_count": 15,
   "metadata": {},
   "outputs": [
    {
     "name": "stdout",
     "output_type": "stream",
     "text": [
      "[[0.2  0.2  0.3  0.4 ]\n",
      " [0.3  0.3  0.5  0.6 ]\n",
      " [0.15 0.15 0.2  0.2 ]\n",
      " [0.05 0.05 0.   0.05]]\n"
     ]
    }
   ],
   "source": [
    "# То, что должно получиться\n",
    "print(np.array([ [0.2, 0.2, 0.3, 0.4], [0.3, 0.3, 0.5, 0.6], [0.15, 0.15, 0.2, 0.2], [0.05, 0.05, 0, 0.05] ]))"
   ]
  },
  {
   "cell_type": "code",
   "execution_count": null,
   "metadata": {},
   "outputs": [],
   "source": []
  }
 ],
 "metadata": {
  "kernelspec": {
   "display_name": "Python 3",
   "language": "python",
   "name": "python3"
  },
  "language_info": {
   "codemirror_mode": {
    "name": "ipython",
    "version": 3
   },
   "file_extension": ".py",
   "mimetype": "text/x-python",
   "name": "python",
   "nbconvert_exporter": "python",
   "pygments_lexer": "ipython3",
   "version": "3.7.3"
  }
 },
 "nbformat": 4,
 "nbformat_minor": 2
}
