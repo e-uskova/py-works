{
 "cells": [
  {
   "cell_type": "code",
   "execution_count": 1,
   "id": "36a3da0e",
   "metadata": {},
   "outputs": [],
   "source": [
    "import math\n",
    "import numpy as np\n",
    "import matplotlib.pyplot as plt\n"
   ]
  },
  {
   "cell_type": "code",
   "execution_count": 3,
   "id": "248cd07e",
   "metadata": {},
   "outputs": [],
   "source": [
    "def runge_kutta(y, x, dx, f):\n",
    "    \"\"\" y is the initial value for y\n",
    "        x is the initial value for x\n",
    "        dx is the time step in x\n",
    "        f is derivative of function y(t)\n",
    "    \"\"\"\n",
    "    k1 = dx * f(y, t)\n",
    "    k2 = dx * f(y + 0.5 * k1, x + 0.5 * dx)\n",
    "    k3 = dx * f(y + 0.5 * k2, x + 0.5 * dx)\n",
    "    k4 = dx * f(y + k3, x + dx)\n",
    "    return y + (k1 + 2 * k2 + 2 * k3 + k4) / 6"
   ]
  },
  {
   "cell_type": "code",
   "execution_count": null,
   "id": "1395003c",
   "metadata": {},
   "outputs": [],
   "source": [
    "if __name__=='__main__':\n",
    "    t = 0.\n",
    "    y = 1.\n",
    "    dt = .1\n",
    "    ys, ts = [], []\n",
    "    def func(y, t):\n",
    "        return t * math.sqrt(y)\n",
    "    while t <= 10:\n",
    "        y = runge_kutta(y, t, dt, func)\n",
    "        t += dt\n",
    "        ys.append(y)\n",
    "        ts.append(t)\n",
    "\n",
    "    exact = [(t ** 2 + 4) ** 2 / 16. for t in ts]\n",
    "    plt.plot(ts, ys, label='runge_kutta')\n",
    "    plt.plot(ts, exact, label='exact')\n",
    "    plt.legend()\n",
    "    plt.show()\n",
    "    error = np.array(exact) - np.array(ys)\n",
    "    print(\"max error {:.5f}\".format(max(error)))"
   ]
  },
  {
   "cell_type": "code",
   "execution_count": null,
   "id": "b5d9aa47",
   "metadata": {},
   "outputs": [],
   "source": []
  },
  {
   "cell_type": "code",
   "execution_count": 29,
   "id": "9aae81ce",
   "metadata": {},
   "outputs": [],
   "source": [
    "def f0(p, t):\n",
    "    return -0.5 * p[0] + 0.8 * p[3] + 2 * p[4]\n",
    "def f1(p, t):\n",
    "    return 0.5 * p[0] - 2 * p[1]\n",
    "def f2(p, t):\n",
    "    return 2 * p[1] - 3 * p[2]\n",
    "def f3(p, t):\n",
    "    return 1.5 * p[2] - 0.8 * p[3]\n",
    "def f4(p, t):\n",
    "    return 1.5 * p[2] - 2 * p[4]"
   ]
  },
  {
   "cell_type": "code",
   "execution_count": 30,
   "id": "9f815652",
   "metadata": {},
   "outputs": [],
   "source": [
    "f = (f0, f1, f2, f3, f4)"
   ]
  },
  {
   "cell_type": "code",
   "execution_count": 113,
   "id": "191cb295",
   "metadata": {},
   "outputs": [],
   "source": [
    "def rk4(y, x, dx, f):\n",
    "    k1, k2, k3, k4 = np.zeros((5)), np.zeros((5)), np.zeros((5)), np.zeros((5))\n",
    "    \n",
    "    k1[0] = dx * f[0](y, t)\n",
    "    k1[1] = dx * f[1](y, t)\n",
    "    k1[2] = dx * f[2](y, t)\n",
    "    k1[3] = dx * f[3](y, t)\n",
    "    k1[4] = dx * f[4](y, t)\n",
    "    \n",
    "    k2[0] = dx * f[0](y + 0.5 * k1, x + 0.5 * dx)\n",
    "    k2[1] = dx * f[1](y + 0.5 * k1, x + 0.5 * dx)\n",
    "    k2[2] = dx * f[2](y + 0.5 * k1, x + 0.5 * dx)\n",
    "    k2[3] = dx * f[3](y + 0.5 * k1, x + 0.5 * dx)\n",
    "    k2[4] = dx * f[4](y + 0.5 * k1, x + 0.5 * dx)\n",
    "    \n",
    "    k3[0] = dx * f[0](y + 0.5 * k2, x + 0.5 * dx)\n",
    "    k3[1] = dx * f[1](y + 0.5 * k2, x + 0.5 * dx)\n",
    "    k3[2] = dx * f[2](y + 0.5 * k2, x + 0.5 * dx)\n",
    "    k3[3] = dx * f[3](y + 0.5 * k2, x + 0.5 * dx)\n",
    "    k3[4] = dx * f[4](y + 0.5 * k2, x + 0.5 * dx)\n",
    "    \n",
    "    k4[0] = dx * f[0](y + k3, x + dx)\n",
    "    k4[1] = dx * f[1](y + k3, x + dx)\n",
    "    k4[2] = dx * f[2](y + k3, x + dx)\n",
    "    k4[3] = dx * f[3](y + k3, x + dx)\n",
    "    k4[4] = dx * f[4](y + k3, x + dx)\n",
    "    \n",
    "    return y + (k1 + 2 * k2 + 2 * k3 + k4) / 6"
   ]
  },
  {
   "cell_type": "code",
   "execution_count": 114,
   "id": "6d922a1a",
   "metadata": {},
   "outputs": [],
   "source": [
    "p0 = np.array([1, 0, 0, 0, 0])\n",
    "t0 = 0\n",
    "dt = 0.3"
   ]
  },
  {
   "cell_type": "code",
   "execution_count": 209,
   "id": "57dfc236",
   "metadata": {},
   "outputs": [],
   "source": [
    "p = p0.copy()\n",
    "t = t0\n",
    "p_hist = [p]\n",
    "t_hist = []\n",
    "for t in np.linspace(0, 5, 15, endpoint=False):\n",
    "    t_hist.append(t)    \n",
    "    p = rk4(p, t, dt, f)\n",
    "    p_hist.append(p) \n",
    "t_hist.append(5)    \n"
   ]
  },
  {
   "cell_type": "code",
   "execution_count": 210,
   "id": "4a61b2fd",
   "metadata": {},
   "outputs": [],
   "source": [
    "p_hist = np.array(p_hist)\n",
    "t_hist = np.array(t_hist)"
   ]
  },
  {
   "cell_type": "code",
   "execution_count": 252,
   "id": "522d218e",
   "metadata": {},
   "outputs": [
    {
     "data": {
      "text/plain": [
       "[<matplotlib.lines.Line2D at 0x179434ac308>,\n",
       " <matplotlib.lines.Line2D at 0x179434a0d48>,\n",
       " <matplotlib.lines.Line2D at 0x179434b46c8>,\n",
       " <matplotlib.lines.Line2D at 0x179434b4788>,\n",
       " <matplotlib.lines.Line2D at 0x179434b40c8>]"
      ]
     },
     "execution_count": 252,
     "metadata": {},
     "output_type": "execute_result"
    },
    {
     "data": {
      "image/png": "[encoded data removed]",
      "text/plain": [
       "<Figure size 576x432 with 1 Axes>"
      ]
     },
     "metadata": {
      "needs_background": "light"
     },
     "output_type": "display_data"
    }
   ],
   "source": [
    "plt.figure(figsize=(8,6))\n",
    "plt.plot(t_hist, p_hist[:])"
   ]
  },
  {
   "cell_type": "code",
   "execution_count": 215,
   "id": "ff39053e",
   "metadata": {},
   "outputs": [
    {
     "name": "stdout",
     "output_type": "stream",
     "text": [
      "[[1.    0.    0.    0.    0.   ]\n",
      " [0.862 0.104 0.028 0.004 0.003]\n",
      " [0.75  0.147 0.064 0.021 0.018]\n",
      " [0.669 0.16  0.088 0.048 0.036]\n",
      " [0.614 0.159 0.099 0.075 0.052]\n",
      " [0.58  0.155 0.102 0.1   0.063]\n",
      " [0.561 0.149 0.101 0.119 0.069]\n",
      " [0.551 0.144 0.099 0.134 0.072]\n",
      " [0.545 0.141 0.097 0.145 0.072]\n",
      " [0.543 0.139 0.094 0.152 0.072]\n",
      " [0.542 0.137 0.093 0.157 0.071]\n",
      " [0.541 0.136 0.092 0.16  0.07 ]\n",
      " [0.541 0.136 0.091 0.163 0.07 ]\n",
      " [0.54  0.136 0.091 0.164 0.069]\n",
      " [0.54  0.135 0.09  0.166 0.068]\n",
      " [0.54  0.135 0.09  0.166 0.068]]\n"
     ]
    }
   ],
   "source": [
    "print(np.round(p_hist, 3))"
   ]
  },
  {
   "cell_type": "code",
   "execution_count": 216,
   "id": "5c34b737",
   "metadata": {
    "scrolled": true
   },
   "outputs": [
    {
     "name": "stdout",
     "output_type": "stream",
     "text": [
      "[[0.   ]\n",
      " [0.333]\n",
      " [0.667]\n",
      " [1.   ]\n",
      " [1.333]\n",
      " [1.667]\n",
      " [2.   ]\n",
      " [2.333]\n",
      " [2.667]\n",
      " [3.   ]\n",
      " [3.333]\n",
      " [3.667]\n",
      " [4.   ]\n",
      " [4.333]\n",
      " [4.667]\n",
      " [5.   ]]\n"
     ]
    }
   ],
   "source": [
    "print(np.round(t_hist, 3).reshape(-1, 1))"
   ]
  },
  {
   "cell_type": "code",
   "execution_count": 217,
   "id": "776e84e1",
   "metadata": {},
   "outputs": [
    {
     "data": {
      "text/plain": [
       "[<matplotlib.lines.Line2D at 0x17944bd6388>]"
      ]
     },
     "execution_count": 217,
     "metadata": {},
     "output_type": "execute_result"
    },
    {
     "data": {
      "image/png": "[encoded data removed]",
      "text/plain": [
       "<Figure size 432x288 with 1 Axes>"
      ]
     },
     "metadata": {
      "needs_background": "light"
     },
     "output_type": "display_data"
    }
   ],
   "source": [
    "plt.plot(p_hist[:, 1], p_hist[:, 0])"
   ]
  },
  {
   "cell_type": "code",
   "execution_count": 218,
   "id": "f1680b8b",
   "metadata": {},
   "outputs": [
    {
     "data": {
      "text/plain": [
       "array([[-0.5,  0. ,  0. ,  0.8,  2. ],\n",
       "       [ 0.5, -2. ,  0. ,  0. ,  0. ],\n",
       "       [ 0. ,  2. , -3. ,  0. ,  0. ],\n",
       "       [ 0. ,  0. ,  1.5, -0.8,  0. ],\n",
       "       [ 0. ,  0. ,  1.5,  0. , -2. ]])"
      ]
     },
     "execution_count": 218,
     "metadata": {},
     "output_type": "execute_result"
    }
   ],
   "source": [
    "A = np.array([[-0.5, 0, 0, 0.8, 2], [0.5, -2, 0, 0, 0], [0, 2, -3, 0, 0], [0, 0, 1.5, -0.8, 0], [0, 0, 1.5, 0, -2]])\n",
    "A"
   ]
  },
  {
   "cell_type": "code",
   "execution_count": 256,
   "id": "0dfbd04a",
   "metadata": {},
   "outputs": [
    {
     "name": "stdout",
     "output_type": "stream",
     "text": [
      "[[-3.523+0.j   ]\n",
      " [ 0.   +0.j   ]\n",
      " [-1.848+1.123j]\n",
      " [-1.848-1.123j]\n",
      " [-1.08 +0.j   ]]\n"
     ]
    }
   ],
   "source": [
    "ch, vec = np.linalg.eig(A)\n",
    "print(np.round(ch, 3).reshape(-1, 1))"
   ]
  },
  {
   "cell_type": "code",
   "execution_count": 231,
   "id": "7e41db1b",
   "metadata": {},
   "outputs": [],
   "source": [
    "B = np.vstack([A[:4], [1, 1, 1, 1, 1]])"
   ]
  },
  {
   "cell_type": "code",
   "execution_count": 232,
   "id": "6c42f38e",
   "metadata": {},
   "outputs": [
    {
     "data": {
      "text/plain": [
       "array([[-0.5,  0. ,  0. ,  0.8,  2. ],\n",
       "       [ 0.5, -2. ,  0. ,  0. ,  0. ],\n",
       "       [ 0. ,  2. , -3. ,  0. ,  0. ],\n",
       "       [ 0. ,  0. ,  1.5, -0.8,  0. ],\n",
       "       [ 1. ,  1. ,  1. ,  1. ,  1. ]])"
      ]
     },
     "execution_count": 232,
     "metadata": {},
     "output_type": "execute_result"
    }
   ],
   "source": [
    "B"
   ]
  },
  {
   "cell_type": "code",
   "execution_count": 249,
   "id": "8b39088a",
   "metadata": {},
   "outputs": [
    {
     "name": "stdout",
     "output_type": "stream",
     "text": [
      "[[53.93]\n",
      " [13.48]\n",
      " [ 8.99]\n",
      " [16.85]\n",
      " [ 6.74]]\n"
     ]
    }
   ],
   "source": [
    "ver = np.linalg.solve(B, [0, 0, 0, 0, 1])\n",
    "print(np.round(ver * 100, 2).reshape(-1, 1))"
   ]
  },
  {
   "cell_type": "code",
   "execution_count": null,
   "id": "2ad5eced",
   "metadata": {},
   "outputs": [],
   "source": []
  },
  {
   "cell_type": "code",
   "execution_count": null,
   "id": "d5761ad8",
   "metadata": {},
   "outputs": [],
   "source": []
  },
  {
   "cell_type": "code",
   "execution_count": 254,
   "id": "129a6f25",
   "metadata": {},
   "outputs": [
    {
     "ename": "ModuleNotFoundError",
     "evalue": "No module named 'openpyxl'",
     "output_type": "error",
     "traceback": [
      "\u001b[1;31m---------------------------------------------------------------------------\u001b[0m",
      "\u001b[1;31mModuleNotFoundError\u001b[0m                       Traceback (most recent call last)",
      "\u001b[1;32m~\\AppData\\Local\\Temp/ipykernel_12260/263368717.py\u001b[0m in \u001b[0;36m<module>\u001b[1;34m\u001b[0m\n\u001b[0;32m      8\u001b[0m \u001b[0mfilepath\u001b[0m \u001b[1;33m=\u001b[0m \u001b[1;34m'my_excel_file.xlsx'\u001b[0m\u001b[1;33m\u001b[0m\u001b[1;33m\u001b[0m\u001b[0m\n\u001b[0;32m      9\u001b[0m \u001b[1;33m\u001b[0m\u001b[0m\n\u001b[1;32m---> 10\u001b[1;33m \u001b[0mdf\u001b[0m\u001b[1;33m.\u001b[0m\u001b[0mto_excel\u001b[0m\u001b[1;33m(\u001b[0m\u001b[0mfilepath\u001b[0m\u001b[1;33m,\u001b[0m \u001b[0mindex\u001b[0m\u001b[1;33m=\u001b[0m\u001b[1;32mFalse\u001b[0m\u001b[1;33m)\u001b[0m\u001b[1;33m\u001b[0m\u001b[1;33m\u001b[0m\u001b[0m\n\u001b[0m",
      "\u001b[1;32mc:\\users\\euskova\\appdata\\local\\programs\\python\\python37\\lib\\site-packages\\pandas\\core\\generic.py\u001b[0m in \u001b[0;36mto_excel\u001b[1;34m(self, excel_writer, sheet_name, na_rep, float_format, columns, header, index, index_label, startrow, startcol, engine, merge_cells, encoding, inf_rep, verbose, freeze_panes, storage_options)\u001b[0m\n\u001b[0;32m   2289\u001b[0m             \u001b[0mfreeze_panes\u001b[0m\u001b[1;33m=\u001b[0m\u001b[0mfreeze_panes\u001b[0m\u001b[1;33m,\u001b[0m\u001b[1;33m\u001b[0m\u001b[1;33m\u001b[0m\u001b[0m\n\u001b[0;32m   2290\u001b[0m             \u001b[0mengine\u001b[0m\u001b[1;33m=\u001b[0m\u001b[0mengine\u001b[0m\u001b[1;33m,\u001b[0m\u001b[1;33m\u001b[0m\u001b[1;33m\u001b[0m\u001b[0m\n\u001b[1;32m-> 2291\u001b[1;33m             \u001b[0mstorage_options\u001b[0m\u001b[1;33m=\u001b[0m\u001b[0mstorage_options\u001b[0m\u001b[1;33m,\u001b[0m\u001b[1;33m\u001b[0m\u001b[1;33m\u001b[0m\u001b[0m\n\u001b[0m\u001b[0;32m   2292\u001b[0m         )\n\u001b[0;32m   2293\u001b[0m \u001b[1;33m\u001b[0m\u001b[0m\n",
      "\u001b[1;32mc:\\users\\euskova\\appdata\\local\\programs\\python\\python37\\lib\\site-packages\\pandas\\io\\formats\\excel.py\u001b[0m in \u001b[0;36mwrite\u001b[1;34m(self, writer, sheet_name, startrow, startcol, freeze_panes, engine, storage_options)\u001b[0m\n\u001b[0;32m    833\u001b[0m             \u001b[1;31m# attributes 'engine', 'save', 'supported_extensions' and 'write_cells'\u001b[0m\u001b[1;33m\u001b[0m\u001b[1;33m\u001b[0m\u001b[1;33m\u001b[0m\u001b[0m\n\u001b[0;32m    834\u001b[0m             writer = ExcelWriter(  # type: ignore[abstract]\n\u001b[1;32m--> 835\u001b[1;33m                 \u001b[0mwriter\u001b[0m\u001b[1;33m,\u001b[0m \u001b[0mengine\u001b[0m\u001b[1;33m=\u001b[0m\u001b[0mengine\u001b[0m\u001b[1;33m,\u001b[0m \u001b[0mstorage_options\u001b[0m\u001b[1;33m=\u001b[0m\u001b[0mstorage_options\u001b[0m\u001b[1;33m\u001b[0m\u001b[1;33m\u001b[0m\u001b[0m\n\u001b[0m\u001b[0;32m    836\u001b[0m             )\n\u001b[0;32m    837\u001b[0m             \u001b[0mneed_save\u001b[0m \u001b[1;33m=\u001b[0m \u001b[1;32mTrue\u001b[0m\u001b[1;33m\u001b[0m\u001b[1;33m\u001b[0m\u001b[0m\n",
      "\u001b[1;32mc:\\users\\euskova\\appdata\\local\\programs\\python\\python37\\lib\\site-packages\\pandas\\io\\excel\\_openpyxl.py\u001b[0m in \u001b[0;36m__init__\u001b[1;34m(self, path, engine, date_format, datetime_format, mode, storage_options, if_sheet_exists, engine_kwargs, **kwargs)\u001b[0m\n\u001b[0;32m     46\u001b[0m     ):\n\u001b[0;32m     47\u001b[0m         \u001b[1;31m# Use the openpyxl module as the Excel writer.\u001b[0m\u001b[1;33m\u001b[0m\u001b[1;33m\u001b[0m\u001b[1;33m\u001b[0m\u001b[0m\n\u001b[1;32m---> 48\u001b[1;33m         \u001b[1;32mfrom\u001b[0m \u001b[0mopenpyxl\u001b[0m\u001b[1;33m.\u001b[0m\u001b[0mworkbook\u001b[0m \u001b[1;32mimport\u001b[0m \u001b[0mWorkbook\u001b[0m\u001b[1;33m\u001b[0m\u001b[1;33m\u001b[0m\u001b[0m\n\u001b[0m\u001b[0;32m     49\u001b[0m \u001b[1;33m\u001b[0m\u001b[0m\n\u001b[0;32m     50\u001b[0m         \u001b[0mengine_kwargs\u001b[0m \u001b[1;33m=\u001b[0m \u001b[0mcombine_kwargs\u001b[0m\u001b[1;33m(\u001b[0m\u001b[0mengine_kwargs\u001b[0m\u001b[1;33m,\u001b[0m \u001b[0mkwargs\u001b[0m\u001b[1;33m)\u001b[0m\u001b[1;33m\u001b[0m\u001b[1;33m\u001b[0m\u001b[0m\n",
      "\u001b[1;31mModuleNotFoundError\u001b[0m: No module named 'openpyxl'"
     ]
    }
   ],
   "source": [
    "import pandas as pd\n",
    "\n",
    "## convert your array into a dataframe\n",
    "df = pd.DataFrame (p_hist)\n",
    "\n",
    "## save to xlsx file\n",
    "\n",
    "filepath = 'my_excel_file.xlsx'\n",
    "\n",
    "df.to_excel(filepath, index=False)"
   ]
  },
  {
   "cell_type": "code",
   "execution_count": null,
   "id": "2743feff",
   "metadata": {},
   "outputs": [],
   "source": []
  }
 ],
 "metadata": {
  "kernelspec": {
   "display_name": "Python 3 (ipykernel)",
   "language": "python",
   "name": "python3"
  },
  "language_info": {
   "codemirror_mode": {
    "name": "ipython",
    "version": 3
   },
   "file_extension": ".py",
   "mimetype": "text/x-python",
   "name": "python",
   "nbconvert_exporter": "python",
   "pygments_lexer": "ipython3",
   "version": "3.7.9"
  }
 },
 "nbformat": 4,
 "nbformat_minor": 5
}
