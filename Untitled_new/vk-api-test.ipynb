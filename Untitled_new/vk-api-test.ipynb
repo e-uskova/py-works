{
 "cells": [
  {
   "cell_type": "code",
   "execution_count": 2,
   "metadata": {},
   "outputs": [],
   "source": [
    "import vk_api"
   ]
  },
  {
   "cell_type": "code",
   "execution_count": 3,
   "metadata": {},
   "outputs": [],
   "source": [
    "def captcha_handler(captcha):\n",
    "    \"\"\" При возникновении капчи вызывается эта функция и ей передается объект\n",
    "        капчи. Через метод get_url можно получить ссылку на изображение.\n",
    "        Через метод try_again можно попытаться отправить запрос с кодом капчи\n",
    "    \"\"\"\n",
    "\n",
    "    key = input(\"Enter captcha code {0}: \".format(captcha.get_url())).strip()\n",
    "\n",
    "    # Пробуем снова отправить запрос с капчей\n",
    "    return captcha.try_again(key)"
   ]
  },
  {
   "cell_type": "code",
   "execution_count": 4,
   "metadata": {},
   "outputs": [],
   "source": [
    "login, password = '', '' #надо ввести!\n",
    "vk_session = vk_api.VkApi(login, password,\n",
    "        captcha_handler=captcha_handler  # функция для обработки капчи\n",
    "    )\n",
    "\n",
    "try:\n",
    "    vk_session.auth()\n",
    "except vk_api.AuthError as error_msg:\n",
    "    print(error_msg)\n",
    "\n",
    "    \n",
    "vk = vk_session.get_api()"
   ]
  },
  {
   "cell_type": "code",
   "execution_count": 5,
   "metadata": {},
   "outputs": [],
   "source": [
    "friends = vk.friends.get()['items']"
   ]
  },
  {
   "cell_type": "code",
   "execution_count": null,
   "metadata": {},
   "outputs": [],
   "source": [
    "for friend in friends:\n",
    "    user = vk_session.method(\"users.get\", {\"user_ids\": friend})\n",
    "    print(user[0]['first_name'] + '\\t' + user[0]['last_name'] + '\\t' + str(user[0]['id']))"
   ]
  },
  {
   "cell_type": "code",
   "execution_count": 7,
   "metadata": {},
   "outputs": [],
   "source": [
    "frfriends = vk.friends.get(user_id=)['items']"
   ]
  },
  {
   "cell_type": "code",
   "execution_count": null,
   "metadata": {},
   "outputs": [],
   "source": [
    "for friend in frfriends:\n",
    "    user = vk_session.method(\"users.get\", {\"user_ids\": friend})\n",
    "    print(user[0]['first_name'] + ' ' + user[0]['last_name'] + ' ' + str(user[0]['id']))"
   ]
  },
  {
   "cell_type": "code",
   "execution_count": 9,
   "metadata": {},
   "outputs": [],
   "source": [
    "frdict = dict()"
   ]
  },
  {
   "cell_type": "code",
   "execution_count": 10,
   "metadata": {},
   "outputs": [
    {
     "name": "stdout",
     "output_type": "stream",
     "text": [
      "Wall time: 22.5 s\n"
     ]
    }
   ],
   "source": [
    "%%time\n",
    "for friend in friends:\n",
    "    frfriends = vk.friends.get(user_id=friend)['items']\n",
    "    frdict[friend] = set(frfriends)"
   ]
  },
  {
   "cell_type": "code",
   "execution_count": 11,
   "metadata": {},
   "outputs": [],
   "source": [
    "my_id = "
   ]
  },
  {
   "cell_type": "code",
   "execution_count": null,
   "metadata": {},
   "outputs": [],
   "source": []
  },
  {
   "cell_type": "code",
   "execution_count": 12,
   "metadata": {},
   "outputs": [],
   "source": [
    "frdict[my_id] = set(friends)"
   ]
  },
  {
   "cell_type": "code",
   "execution_count": null,
   "metadata": {},
   "outputs": [],
   "source": [
    "frdict"
   ]
  },
  {
   "cell_type": "code",
   "execution_count": 14,
   "metadata": {},
   "outputs": [
    {
     "data": {
      "text/plain": [
       "20511"
      ]
     },
     "execution_count": 14,
     "metadata": {},
     "output_type": "execute_result"
    }
   ],
   "source": [
    "count = 0\n",
    "for fr, frfr in frdict.items():\n",
    "    count += len(frfr)\n",
    "count"
   ]
  },
  {
   "cell_type": "code",
   "execution_count": 15,
   "metadata": {},
   "outputs": [
    {
     "data": {
      "text/plain": [
       "55"
      ]
     },
     "execution_count": 15,
     "metadata": {},
     "output_type": "execute_result"
    }
   ],
   "source": [
    "len(frdict)"
   ]
  },
  {
   "cell_type": "code",
   "execution_count": 16,
   "metadata": {},
   "outputs": [],
   "source": [
    "for fr, frfr in frdict.items():\n",
    "    if my_id in frfr:\n",
    "        frfr.remove(my_id)"
   ]
  },
  {
   "cell_type": "code",
   "execution_count": 17,
   "metadata": {},
   "outputs": [],
   "source": [
    "mutual = dict()"
   ]
  },
  {
   "cell_type": "code",
   "execution_count": 18,
   "metadata": {},
   "outputs": [],
   "source": [
    "for fr, frfr in frdict.items():\n",
    "    mutfr = set(friends).intersection(frfr)\n",
    "    if len(mutfr):\n",
    "        mutual[fr] = mutfr"
   ]
  },
  {
   "cell_type": "code",
   "execution_count": null,
   "metadata": {},
   "outputs": [],
   "source": [
    "mutual"
   ]
  },
  {
   "cell_type": "code",
   "execution_count": 20,
   "metadata": {},
   "outputs": [],
   "source": [
    "frmut = dict()"
   ]
  },
  {
   "cell_type": "code",
   "execution_count": 21,
   "metadata": {},
   "outputs": [],
   "source": [
    "for i, fr in enumerate(friends):\n",
    "    for fr2 in friends[i+1:]:\n",
    "#         print(fr)\n",
    "#         print(fr2)\n",
    "        mutfr = frdict[fr].intersection(frdict[fr2])\n",
    "        if len(mutfr):\n",
    "            frmut[(fr, fr2)] = mutfr"
   ]
  },
  {
   "cell_type": "code",
   "execution_count": null,
   "metadata": {},
   "outputs": [],
   "source": [
    "frmut"
   ]
  },
  {
   "cell_type": "code",
   "execution_count": 23,
   "metadata": {},
   "outputs": [],
   "source": [
    "user_dict = dict()"
   ]
  },
  {
   "cell_type": "code",
   "execution_count": 24,
   "metadata": {},
   "outputs": [
    {
     "name": "stdout",
     "output_type": "stream",
     "text": [
      "Wall time: 22.6 s\n"
     ]
    }
   ],
   "source": [
    "%%time\n",
    "for usr in friends:\n",
    "    user = vk_session.method(\"users.get\", {\"user_ids\": usr})\n",
    "    user_dict[usr] = user"
   ]
  },
  {
   "cell_type": "code",
   "execution_count": 25,
   "metadata": {},
   "outputs": [
    {
     "name": "stdout",
     "output_type": "stream",
     "text": [
      "Wall time: 6min 55s\n"
     ]
    }
   ],
   "source": [
    "%%time\n",
    "for k, v in frmut.items():\n",
    "    for usr in v:\n",
    "        if usr not in user_dict.keys():\n",
    "            user = vk_session.method(\"users.get\", {\"user_ids\": usr})\n",
    "            user_dict[usr] = user"
   ]
  },
  {
   "cell_type": "code",
   "execution_count": 26,
   "metadata": {},
   "outputs": [
    {
     "data": {
      "text/plain": [
       "1032"
      ]
     },
     "execution_count": 26,
     "metadata": {},
     "output_type": "execute_result"
    }
   ],
   "source": [
    "len(user_dict)"
   ]
  },
  {
   "cell_type": "code",
   "execution_count": null,
   "metadata": {},
   "outputs": [],
   "source": []
  },
  {
   "cell_type": "code",
   "execution_count": null,
   "metadata": {},
   "outputs": [],
   "source": []
  },
  {
   "cell_type": "code",
   "execution_count": null,
   "metadata": {},
   "outputs": [],
   "source": []
  },
  {
   "cell_type": "code",
   "execution_count": null,
   "metadata": {},
   "outputs": [],
   "source": [
    "%%time\n",
    "for i, friend in enumerate(friends):\n",
    "#     user = vk_session.method(\"users.get\", {\"user_ids\": friend})\n",
    "    print('-----------------------------------------------------')\n",
    "    print('Друг: ' + user_dict[friend][0]['first_name'] + ' ' + user_dict[friend][0]['last_name'])\n",
    "    if friend in mutual.keys():\n",
    "        print('Общие со мной: ' + str(len(mutual[friend])))\n",
    "        for mut_friend in mutual[friend]:\n",
    "#             user2 = vk_session.method(\"users.get\", {\"user_ids\": mut_friend})\n",
    "            print(user_dict[mut_friend][0]['first_name'] + ' ' + user_dict[mut_friend][0]['last_name'])\n",
    "    for friend2 in friends:\n",
    "#         user25 = vk_session.method(\"users.get\", {\"user_ids\": friend2})\n",
    "        if ((friend, friend2) in frmut.keys()) or ((friend2, friend) in frmut.keys()):\n",
    "            print('\\nОбщие с ' + user_dict[friend2][0]['first_name'] + ' ' + user_dict[friend2][0]['last_name'] + ': ' + \n",
    "                  str(len(frmut[(friend, friend2)]) if((friend, friend2) in frmut.keys()) else len(frmut[(friend2, friend)])))\n",
    "            if (friend, friend2) in frmut.keys():\n",
    "                for mut_frfr in frmut[(friend, friend2)]:\n",
    "#                 user3 = vk_session.method(\"users.get\", {\"user_ids\": mut_frfr})\n",
    "                    url = 'https://vk.com/id' + str(user_dict[mut_frfr][0]['id'])\n",
    "                    print(user_dict[mut_frfr][0]['first_name'] + ' ' + user_dict[mut_frfr][0]['last_name'] + ' [ ' + url + ' ]')\n",
    "            if (friend2, friend) in frmut.keys():    \n",
    "                for mut_frfr in frmut[(friend2, friend)]:\n",
    "                    url = 'https://vk.com/id' + str(user_dict[mut_frfr][0]['id'])\n",
    "                    print(user_dict[mut_frfr][0]['first_name'] + ' ' + user_dict[mut_frfr][0]['last_name'] + ' [ ' + url + ' ]')"
   ]
  },
  {
   "cell_type": "code",
   "execution_count": null,
   "metadata": {},
   "outputs": [],
   "source": []
  }
 ],
 "metadata": {
  "kernelspec": {
   "display_name": "Python 3 (ipykernel)",
   "language": "python",
   "name": "python3"
  },
  "language_info": {
   "codemirror_mode": {
    "name": "ipython",
    "version": 3
   },
   "file_extension": ".py",
   "mimetype": "text/x-python",
   "name": "python",
   "nbconvert_exporter": "python",
   "pygments_lexer": "ipython3",
   "version": "3.7.9"
  }
 },
 "nbformat": 4,
 "nbformat_minor": 4
}
