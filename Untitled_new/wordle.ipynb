{
 "cells": [
  {
   "cell_type": "code",
   "execution_count": 1,
   "id": "8c9fba2a",
   "metadata": {},
   "outputs": [],
   "source": [
    "import re"
   ]
  },
  {
   "cell_type": "code",
   "execution_count": 2,
   "id": "5911cffb",
   "metadata": {},
   "outputs": [],
   "source": [
    "alpha = set('ячсмитьбюфывапролджэйцукенгшщзхъ')"
   ]
  },
  {
   "cell_type": "code",
   "execution_count": null,
   "id": "c09f6c92",
   "metadata": {},
   "outputs": [],
   "source": [
    "# input words\n",
    "words = []\n",
    "word = None\n",
    "while (word != ''):\n",
    "    word = input()\n",
    "    if word != '':\n",
    "        words.append(word)"
   ]
  },
  {
   "cell_type": "code",
   "execution_count": 4,
   "id": "aa7bef58",
   "metadata": {},
   "outputs": [],
   "source": [
    "# words = ['набор', 'месть', 'спуск']\n",
    "\n",
    "let1_no = set('ыьъ')\n",
    "let2_no = set()\n",
    "let3_no = set()\n",
    "let4_no = set()\n",
    "let5_no = set('ъ')\n",
    "\n",
    "let_no = set()\n",
    "\n",
    "for word in words:\n",
    "    let1_no |= set(word[0])\n",
    "    let2_no |= set(word[1])\n",
    "    let3_no |= set(word[2])\n",
    "    let4_no |= set(word[3])\n",
    "    let5_no |= set(word[4])\n",
    "    \n",
    "    let_no |= set(word)"
   ]
  },
  {
   "cell_type": "code",
   "execution_count": 5,
   "id": "f94b1174",
   "metadata": {},
   "outputs": [],
   "source": [
    "let1_is = ''\n",
    "let2_is = ''\n",
    "let3_is = ''\n",
    "let4_is = ''\n",
    "let5_is = ''"
   ]
  },
  {
   "cell_type": "code",
   "execution_count": null,
   "id": "b88d55ed",
   "metadata": {},
   "outputs": [],
   "source": [
    "# input known letters\n",
    "mask = input('маска слова: ')\n",
    "if len(mask) == 5:\n",
    "    if mask[0] != '*':\n",
    "        let1_is = mask[0]\n",
    "    if mask[1] != '*':\n",
    "        let2_is = mask[1]\n",
    "    if mask[2] != '*':\n",
    "        let3_is = mask[2]\n",
    "    if mask[3] != '*':\n",
    "        let4_is = mask[3]\n",
    "    if mask[4] != '*':\n",
    "        let5_is = mask[4]\n",
    "else:\n",
    "    print('не 5 букв')"
   ]
  },
  {
   "cell_type": "code",
   "execution_count": null,
   "id": "d0589d35",
   "metadata": {},
   "outputs": [],
   "source": [
    "let1_is"
   ]
  },
  {
   "cell_type": "code",
   "execution_count": null,
   "id": "a448502f",
   "metadata": {},
   "outputs": [],
   "source": [
    "# more letters\n",
    "let_is = set(input('ещё есть: '))"
   ]
  },
  {
   "cell_type": "code",
   "execution_count": 18,
   "id": "ed302daa",
   "metadata": {},
   "outputs": [],
   "source": [
    "# let_is = set('ск')\n",
    "\n",
    "let_no -= let_is\n",
    "\n",
    "alpha_may_is = alpha - let_no"
   ]
  },
  {
   "cell_type": "code",
   "execution_count": 19,
   "id": "e4542047",
   "metadata": {},
   "outputs": [],
   "source": [
    "let1_set = set(let1_is) if let1_is else alpha_may_is - let1_no\n",
    "let2_set = set(let2_is) if let2_is else alpha_may_is - let2_no \n",
    "let3_set = set(let3_is) if let3_is else alpha_may_is - let3_no\n",
    "let4_set = set(let4_is) if let4_is else alpha_may_is - let4_no\n",
    "let5_set = set(let5_is) if let5_is else alpha_may_is - let5_no"
   ]
  },
  {
   "cell_type": "code",
   "execution_count": 20,
   "id": "550dc622",
   "metadata": {},
   "outputs": [],
   "source": [
    "# not_re = r'[^ыъь]..[^ъ][^ъ]'\n",
    "sogl = r'йцкнгшщзхфвпрлджчсмтб'\n",
    "glas = r'уеыаоэяию'\n",
    "\n",
    "one_glas = r'[а-я]*[' + glas + ']+[а-я]*'\n",
    "one_sogl = r'[а-я]*[' + sogl + ']+[а-я]*'\n",
    "no3glas = r'[а-я]*[' + glas + ']{3}[а-я]*'\n",
    "sogl_i_kr = r'[а-я]*[' + glas + ']+й[а-я]*|[а-ик-я]*'\n",
    "nomore_i_kr = r'[а-я]*[й]{2,}[а-я]*|[а-я]*[й]+[а-я]*[й]+[а-я]*'\n",
    "chasha = r'[а-цш-я]*ч(ю|я|ы)[а-цш-я]*|[а-чщ-я]*ш(ю|я|ы)[а-чщ-я]*|[а-шъ-я]*щ(ю|я|ы)[а-шъ-я]*|[а-ез-я]*ж(ю|я|ы)[а-ез-я]*'\n",
    "hard_znak = r'[а-я]*[' + sogl + ']ъ(ю|я|е)[а-я]*|[а-щы-я]*'\n",
    "\n",
    "def reword(word):\n",
    "    return (re.fullmatch(one_glas, word) != None) \\\n",
    "           and (re.fullmatch(one_sogl, word) != None) \\\n",
    "           and (re.fullmatch(no3glas, word) == None) \\\n",
    "           and (re.fullmatch(nomore_i_kr, word) == None) \\\n",
    "           and (re.fullmatch(chasha, word) == None) \\\n",
    "           and (re.fullmatch(hard_znak, word) != None) \\\n",
    "           and (re.fullmatch(sogl_i_kr, word) != None)\n"
   ]
  },
  {
   "cell_type": "code",
   "execution_count": null,
   "id": "236ad126",
   "metadata": {},
   "outputs": [],
   "source": [
    "count = 0\n",
    "for l1 in let1_set:\n",
    "    for l2 in let2_set:\n",
    "        for l3 in let3_set:\n",
    "            for l4 in let4_set:\n",
    "                for l5 in let5_set:\n",
    "                    word = l1 + l2 + l3 + l4 + l5\n",
    "                    if set(word) >= let_is:\n",
    "                        if reword(word):\n",
    "                            count += 1\n",
    "                            print(word)"
   ]
  },
  {
   "cell_type": "code",
   "execution_count": null,
   "id": "3d6c9136",
   "metadata": {},
   "outputs": [],
   "source": [
    "count"
   ]
  },
  {
   "cell_type": "code",
   "execution_count": null,
   "id": "d19eb3c4",
   "metadata": {},
   "outputs": [],
   "source": []
  }
 ],
 "metadata": {
  "kernelspec": {
   "display_name": "Python 3 (ipykernel)",
   "language": "python",
   "name": "python3"
  },
  "language_info": {
   "codemirror_mode": {
    "name": "ipython",
    "version": 3
   },
   "file_extension": ".py",
   "mimetype": "text/x-python",
   "name": "python",
   "nbconvert_exporter": "python",
   "pygments_lexer": "ipython3",
   "version": "3.7.9"
  }
 },
 "nbformat": 4,
 "nbformat_minor": 5
}
