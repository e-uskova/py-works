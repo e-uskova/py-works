{
 "cells": [
  {
   "cell_type": "code",
   "execution_count": null,
   "metadata": {},
   "outputs": [],
   "source": []
  },
  {
   "cell_type": "code",
   "execution_count": 42,
   "metadata": {},
   "outputs": [],
   "source": [
    "class Box:\n",
    "    \n",
    "    def __init__ (self, cat=None):\n",
    "        self.cat = cat\n",
    "        self.nextcat = None\n",
    "\n",
    "class LinkedList:\n",
    "    \n",
    "    def __init__(self):\n",
    "        self.head = None\n",
    "        \n",
    "    def contains (self, cat):\n",
    "        lastbox = self.head\n",
    "        while (lastbox):\n",
    "            if cat == lastbox.cat:\n",
    "                return True\n",
    "            else:\n",
    "                lastbox = lastbox.nextcat\n",
    "        return False\n",
    "    \n",
    "    def addToEnd(self, newcat):\n",
    "        newbox = Box(newcat)\n",
    "        if self.head is None:\n",
    "            self.head = newbox\n",
    "            return\n",
    "        lastbox = self.head\n",
    "        while (lastbox.nextcat):\n",
    "            lastbox = lastbox.nextcat\n",
    "        lastbox.nextcat = newbox\n",
    "            \n",
    "    def get(self, catIndex):\n",
    "        lastbox = self.head\n",
    "        boxIndex = 0\n",
    "        while boxIndex <= catIndex:\n",
    "            if boxIndex == catIndex:\n",
    "                return lastbox.cat\n",
    "            boxIndex = boxIndex + 1\n",
    "            lastbox = lastbox.nextcat\n",
    "        \n",
    "    def removeBox(self,rmcat):\n",
    "        headcat = self.head\n",
    "        if headcat is not None:\n",
    "            if headcat.cat == rmcat:\n",
    "                self.head = headcat.nextcat\n",
    "                headcat = None\n",
    "                return\n",
    "        while headcat is not None:\n",
    "            if headcat.cat == rmcat:\n",
    "                break\n",
    "            lastcat = headcat\n",
    "            headcat = headcat.nextcat\n",
    "        if headcat == None:\n",
    "            return\n",
    "        lastcat.nextcat = headcat.nextcat\n",
    "        headcat = None\n"
   ]
  },
  {
   "cell_type": "code",
   "execution_count": null,
   "metadata": {},
   "outputs": [],
   "source": []
  },
  {
   "cell_type": "code",
   "execution_count": null,
   "metadata": {},
   "outputs": [],
   "source": []
  },
  {
   "cell_type": "code",
   "execution_count": null,
   "metadata": {},
   "outputs": [],
   "source": []
  },
  {
   "cell_type": "code",
   "execution_count": null,
   "metadata": {},
   "outputs": [],
   "source": []
  },
  {
   "cell_type": "code",
   "execution_count": 43,
   "metadata": {},
   "outputs": [],
   "source": [
    "class Item():\n",
    "    \n",
    "    def __init__(self, data=None, next=None):\n",
    "        self.data = data\n",
    "        self.next = next\n"
   ]
  },
  {
   "cell_type": "code",
   "execution_count": 46,
   "metadata": {},
   "outputs": [],
   "source": [
    "class LinkedList():\n",
    "    \n",
    "    def __init__(self, first=None):\n",
    "        self.first = first\n",
    "    \n",
    "    def setItem(self, item):\n",
    "        last = self.first\n",
    "        while last.next:\n",
    "            last = last.next\n",
    "        last.next = item"
   ]
  },
  {
   "cell_type": "code",
   "execution_count": 48,
   "metadata": {},
   "outputs": [],
   "source": [
    "lst = LinkedList(Item('first'))"
   ]
  },
  {
   "cell_type": "code",
   "execution_count": 49,
   "metadata": {},
   "outputs": [],
   "source": [
    "lst.setItem(Item('second'))"
   ]
  },
  {
   "cell_type": "code",
   "execution_count": 50,
   "metadata": {},
   "outputs": [],
   "source": [
    "lst.setItem(Item('third'))"
   ]
  },
  {
   "cell_type": "code",
   "execution_count": 51,
   "metadata": {},
   "outputs": [
    {
     "data": {
      "text/plain": [
       "'first'"
      ]
     },
     "execution_count": 51,
     "metadata": {},
     "output_type": "execute_result"
    }
   ],
   "source": [
    "lst.first.data"
   ]
  },
  {
   "cell_type": "code",
   "execution_count": 53,
   "metadata": {},
   "outputs": [
    {
     "data": {
      "text/plain": [
       "'third'"
      ]
     },
     "execution_count": 53,
     "metadata": {},
     "output_type": "execute_result"
    }
   ],
   "source": [
    "lst.first.next.next.data"
   ]
  },
  {
   "cell_type": "code",
   "execution_count": null,
   "metadata": {},
   "outputs": [],
   "source": []
  },
  {
   "cell_type": "code",
   "execution_count": null,
   "metadata": {},
   "outputs": [],
   "source": []
  },
  {
   "cell_type": "code",
   "execution_count": null,
   "metadata": {},
   "outputs": [],
   "source": []
  },
  {
   "cell_type": "code",
   "execution_count": null,
   "metadata": {},
   "outputs": [],
   "source": []
  },
  {
   "cell_type": "code",
   "execution_count": null,
   "metadata": {},
   "outputs": [],
   "source": []
  },
  {
   "cell_type": "code",
   "execution_count": 58,
   "metadata": {},
   "outputs": [
    {
     "name": "stdout",
     "output_type": "stream",
     "text": [
      "[11, 72, 8, 31, 4, 70, 45, 54, 7, 62, 71, 56, 7, 25, 76, 49, 40, 59, 45, 38]\n",
      "[4, 7, 7, 8, 11, 25, 31, 38, 40, 45, 45, 49, 54, 56, 59, 62, 70, 71, 72, 76]\n"
     ]
    }
   ],
   "source": [
    "import random\n",
    "\n",
    "a = []\n",
    "n = 20\n",
    "\n",
    "for i in range(n):\n",
    "    a.append(random.randint(1, 100))\n",
    "\n",
    "print(a)\n",
    "    \n",
    "for i in range(n - 1):\n",
    "    for j in range(n - i - 1):\n",
    "        if a[j] > a[j + 1]:\n",
    "            a[j + 1], a[j] = a[j], a[j + 1]\n",
    "            \n",
    "print(a)"
   ]
  },
  {
   "cell_type": "code",
   "execution_count": null,
   "metadata": {},
   "outputs": [],
   "source": []
  }
 ],
 "metadata": {
  "kernelspec": {
   "display_name": "Python 3",
   "language": "python",
   "name": "python3"
  },
  "language_info": {
   "codemirror_mode": {
    "name": "ipython",
    "version": 3
   },
   "file_extension": ".py",
   "mimetype": "text/x-python",
   "name": "python",
   "nbconvert_exporter": "python",
   "pygments_lexer": "ipython3",
   "version": "3.8.6"
  }
 },
 "nbformat": 4,
 "nbformat_minor": 4
}
