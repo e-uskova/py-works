{
 "cells": [
  {
   "cell_type": "code",
   "execution_count": 1,
   "metadata": {},
   "outputs": [],
   "source": [
    "import numpy as np"
   ]
  },
  {
   "cell_type": "code",
   "execution_count": 2,
   "metadata": {},
   "outputs": [],
   "source": [
    "def f(x, y):\n",
    "    return 3 * x + 2 * y"
   ]
  },
  {
   "cell_type": "code",
   "execution_count": 3,
   "metadata": {},
   "outputs": [],
   "source": [
    "h = 0.1"
   ]
  },
  {
   "cell_type": "code",
   "execution_count": 25,
   "metadata": {},
   "outputs": [],
   "source": [
    "res = []\n",
    "x_n, y_n = 0, 0\n",
    "for n in range(1, 21):\n",
    "    x_n = round(h * n, 3)\n",
    "    k1 = f(x_n, y_n)\n",
    "    k2 = f(x_n + h / 2, y_n + h / 2 * k1)\n",
    "    k3 = f(x_n + h / 2, y_n + h / 2 * k2)\n",
    "    k4 = f(x_n + h, y_n + h * k3)\n",
    "    \n",
    "    y_n = y_n + h / 6 * (k1 + 2 * k2 + 2 * k3 + k4)\n",
    "    \n",
    "    res.append([x_n, round(k1, 3), round(k2, 3), round(k3, 3), round(k4, 3), round(y_n, 3)])\n",
    "\n",
    "    "
   ]
  },
  {
   "cell_type": "code",
   "execution_count": 26,
   "metadata": {},
   "outputs": [
    {
     "data": {
      "text/plain": [
       "[[0.1, 0.3, 0.48, 0.498, 0.7, 0.049],\n",
       " [0.2, 0.699, 0.918, 0.94, 1.187, 0.143],\n",
       " [0.3, 1.185, 1.454, 1.481, 1.781, 0.29],\n",
       " [0.4, 1.78, 2.108, 2.141, 2.508, 0.503],\n",
       " [0.5, 2.506, 2.907, 2.947, 3.395, 0.796],\n",
       " [0.6, 3.393, 3.882, 3.931, 4.479, 1.188],\n",
       " [0.7, 4.476, 5.074, 5.134, 5.803, 1.7],\n",
       " [0.8, 5.799, 6.529, 6.602, 7.42, 2.358],\n",
       " [0.9, 7.415, 8.307, 8.396, 9.394, 3.195],\n",
       " [1.0, 9.389, 10.478, 10.587, 11.807, 4.25],\n",
       " [1.1, 11.8, 13.13, 13.263, 14.753, 5.572],\n",
       " [1.2, 14.745, 16.369, 16.532, 18.351, 7.221],\n",
       " [1.3, 18.341, 20.325, 20.524, 22.746, 9.267],\n",
       " [1.4, 22.734, 25.157, 25.4, 28.114, 11.8],\n",
       " [1.5, 28.099, 31.059, 31.355, 34.671, 14.926],\n",
       " [1.6, 34.653, 38.268, 38.63, 42.679, 18.778],\n",
       " [1.7, 42.657, 47.073, 47.514, 52.46, 23.517],\n",
       " [1.8, 52.433, 57.827, 58.366, 64.407, 29.337],\n",
       " [1.9, 64.374, 70.962, 71.62, 78.998, 36.479],\n",
       " [2.0, 78.959, 87.005, 87.809, 96.821, 45.236]]"
      ]
     },
     "execution_count": 26,
     "metadata": {},
     "output_type": "execute_result"
    }
   ],
   "source": [
    "res\n"
   ]
  },
  {
   "cell_type": "code",
   "execution_count": 27,
   "metadata": {},
   "outputs": [],
   "source": [
    "import matplotlib.pyplot as plt"
   ]
  },
  {
   "cell_type": "code",
   "execution_count": 30,
   "metadata": {},
   "outputs": [
    {
     "data": {
      "text/plain": [
       "[<matplotlib.lines.Line2D at 0x1a9f914e550>]"
      ]
     },
     "execution_count": 30,
     "metadata": {},
     "output_type": "execute_result"
    },
    {
     "data": {
      "image/png": "[encoded data removed]",
      "text/plain": [
       "<Figure size 432x288 with 1 Axes>"
      ]
     },
     "metadata": {
      "needs_background": "light"
     },
     "output_type": "display_data"
    }
   ],
   "source": [
    "x = [a[0] for a in res]\n",
    "y = [a[-1] for a in res]\n",
    "plt.plot(x, y)"
   ]
  },
  {
   "cell_type": "code",
   "execution_count": null,
   "metadata": {},
   "outputs": [],
   "source": []
  }
 ],
 "metadata": {
  "kernelspec": {
   "display_name": "Python 3",
   "language": "python",
   "name": "python3"
  },
  "language_info": {
   "codemirror_mode": {
    "name": "ipython",
    "version": 3
   },
   "file_extension": ".py",
   "mimetype": "text/x-python",
   "name": "python",
   "nbconvert_exporter": "python",
   "pygments_lexer": "ipython3",
   "version": "3.8.6"
  }
 },
 "nbformat": 4,
 "nbformat_minor": 4
}
