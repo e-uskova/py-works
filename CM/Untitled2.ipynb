{
 "cells": [
  {
   "cell_type": "code",
   "execution_count": 18,
   "metadata": {},
   "outputs": [],
   "source": [
    "import numpy as np\n",
    "from math import *\n",
    "\n",
    "def init_const():\n",
    "    global x_0, y_0, form_x, form_y, d, N\n",
    "    \n",
    "    x_0, y_0 = -2, 2\n",
    "    form_x = 'x * x - y * y'\n",
    "    form_y = '2 * x * y - 0.2'\n",
    "    d = 0.0125\n",
    "    N = int(4 / d)\n",
    "\n",
    "def formula(x, y):\n",
    "    return(eval(form_x), eval(form_y))\n",
    "\n",
    "def get_num(x, y):\n",
    "    y = np.where(x < -2, 3, y)\n",
    "    x = np.where(x < -2, -3, x)\n",
    "    \n",
    "    y = np.where(x > 2, 3, y)\n",
    "    x = np.where(x > 2, -3, x)\n",
    "    \n",
    "    x = np.where(y < -2, -3, x)\n",
    "    y = np.where(y < -2, 3, y)\n",
    "    \n",
    "    x = np.where(y > 2, -3, x)\n",
    "    y = np.where(y > 2, 3, y)\n",
    "    \n",
    "    i = ((y_0 - y) // d * N) + ((x - x_0) // d) + 1\n",
    "    i = np.where(i < 0, 0, i)\n",
    "    return i[np.where(i > 0)]\n",
    "\n",
    "def new_num(old_num):\n",
    "    return 4 * N * ((old_num - 1) // N) + 2 * ((old_num - 1) % N) + 1\n",
    "\n",
    "def make_graph(graph_keys=None, save=False):\n",
    "    global x_0, y_0, d, N, form_x, form_y, graph\n",
    "    if graph_keys == None:\n",
    "        init_const()\n",
    "        graph = dict.fromkeys(range(1, N * N + 1))\n",
    "    else:\n",
    "#         graph_keys = np.array(scc[np.argsort([len(comp) for comp in scc])[-1]])\n",
    "        graph_verts = []\n",
    "        dots = new_num(np.array(graph_keys))\n",
    "        N = N * 2\n",
    "        for dot in dots:\n",
    "            graph_verts += [dot, dot + 1, dot + N, dot + N + 1]\n",
    "        new_graph = dict.fromkeys(graph_verts)\n",
    "        graph = new_graph\n",
    "        d = d / 2\n",
    "        \n",
    "    pattern_x = np.ones((10, 10)) * np.array(range(1, 11)) * 0.1 * d - d / 20\n",
    "    pattern_y = pattern_x.copy().transpose()\n",
    "    \n",
    "    e_cntr = 0\n",
    "    \n",
    "    for n in graph.keys():\n",
    "        y_n = round(y_0 - ((n - 1) // N) * d, 4)\n",
    "        x_n = round(x_0 + ((n - 1) % N) * d, 4)\n",
    "        ss = np.unique(get_num(*formula(x_n + pattern_x, y_n - pattern_y)))\n",
    "        ss = np.array([sss for sss in ss if sss in graph.keys()])\n",
    "        s = set(ss.astype('int32'))\n",
    "        graph[n] = s\n",
    "        e_cntr += len(s)\n",
    "            \n",
    "    if save:\n",
    "        file = 'graph_' + str(N*N) + '.txt'\n",
    "        save_graph(file, graph)\n",
    "    return graph\n",
    "    \n",
    "def save_graph(file, graph):\n",
    "    f = open(file, 'w')\n",
    "    for k, v in graph.items():\n",
    "        f.write(f'{k}: {v}\\n')\n",
    "    f.close()\n"
   ]
  },
  {
   "cell_type": "code",
   "execution_count": 46,
   "metadata": {},
   "outputs": [],
   "source": [
    "def invert_graph(graph):\n",
    "    i_graph = dict.fromkeys(graph.keys(), 0)\n",
    "    for k, v in graph.items():\n",
    "        for vertice in v:\n",
    "            if i_graph[vertice]:\n",
    "                i_graph[vertice].add(int(k))\n",
    "            else:\n",
    "                i_graph[vertice] = {int(k)}\n",
    "    for k, v in i_graph.items():\n",
    "        if v == 0:\n",
    "            i_graph[k] = set()\n",
    "    return i_graph\n",
    "\n",
    "def dfs(graph, v, comp, visited):\n",
    "    visited[v] = True\n",
    "    end = True\n",
    "    for e in graph[v]:\n",
    "        if not visited[e]:\n",
    "            end = False\n",
    "            dfs(graph, e, comp, visited)\n",
    "    comp.append(v)\n",
    "\n",
    "def kosaraju(graph):\n",
    "    i_graph = invert_graph(graph)\n",
    "    n = N * N\n",
    "    \n",
    "    visited = [False] * (n + 1)\n",
    "    coms = []\n",
    "    \n",
    "    for i in range(1, n + 1):\n",
    "        if (i in graph.keys() and (not visited[i])):\n",
    "#         if not visited[i]:\n",
    "            comp = []\n",
    "            dfs(graph, i, comp, visited)\n",
    "            coms.append(comp)\n",
    "\n",
    "    visited = [False] * (n + 1)\n",
    "    c = []\n",
    "\n",
    "    for comp in coms[::-1]:\n",
    "        for v in comp[::-1]:\n",
    "            if not visited[v]:\n",
    "                co = []\n",
    "                dfs(i_graph, v, co, visited)\n",
    "                if len(co) > 0:\n",
    "                    c.append(co)\n",
    "                    \n",
    "    return c"
   ]
  },
  {
   "cell_type": "code",
   "execution_count": 35,
   "metadata": {},
   "outputs": [],
   "source": [
    "from PIL import Image\n",
    "from PIL import ImageDraw\n",
    "from PIL import ImageColor\n",
    "\n",
    "def scale(x, y):\n",
    "    return (x + 2) * width // 4 , height - (y + 2) * height // 4\n",
    "\n",
    "def fill_square(number, d, color):\n",
    "    y, x = divmod(number - 1, N)\n",
    "    x, y = x_0 + x * d, y_0 - y * d\n",
    "    draw.rectangle((*scale(x, y), *scale(x + d, y - d)), fill=color)\n",
    "    \n",
    "def draw_grid():\n",
    "    x, y = 0, 0\n",
    "    if d > 0.01:\n",
    "        while x < width:\n",
    "            x += width / N\n",
    "            draw.line((x, 0, x, height), fill=ImageColor.getrgb(\"blue\"))\n",
    "        while y < height:\n",
    "            y += height / N\n",
    "            draw.line((0, x, width, x), fill=ImageColor.getrgb(\"blue\"))\n",
    "            \n",
    "def draw_axis():\n",
    "    zero_x = width / 2\n",
    "    zero_y = height / 2\n",
    "\n",
    "    draw.line((0, zero_x + 1, height, zero_x + 1))\n",
    "    draw.line((zero_y + 1, 0, zero_y + 1, width))\n",
    "\n",
    "def draw_scc(scc, grid=False, axis=False, save=True):\n",
    "    global height, width, draw\n",
    "    height, width = 800, 800\n",
    "    image = Image.new(\"RGB\", (width, height))\n",
    "    draw = ImageDraw.Draw(image)\n",
    "    draw.rectangle((0, 0, width, height), fill='white')\n",
    "    k = 0\n",
    "    for comp in scc:\n",
    "        if len(comp) > 1:\n",
    "            print('drawing component')\n",
    "            for v in comp:\n",
    "                fill_square(v, d, 'blue')\n",
    "\n",
    "    if axis:\n",
    "        draw_axis()\n",
    "\n",
    "    if grid:\n",
    "        draw_grid()\n",
    "\n",
    "    if save:\n",
    "        im_name = 'test_image_' + str(N * N) + '.png'\n",
    "        image.save(im_name, \"PNG\")\n"
   ]
  },
  {
   "cell_type": "code",
   "execution_count": null,
   "metadata": {
    "scrolled": true
   },
   "outputs": [],
   "source": []
  },
  {
   "cell_type": "code",
   "execution_count": 4,
   "metadata": {},
   "outputs": [
    {
     "name": "stdout",
     "output_type": "stream",
     "text": [
      "Wall time: 6.22 s\n"
     ]
    }
   ],
   "source": [
    "%%time\n",
    "graph = make_graph()\n",
    "scc = kosaraju(graph)\n",
    "draw_scc(scc)\n",
    "# n = 3\n",
    "# for _ in range(n):\n",
    "#     graph_keys = scc[np.argsort([len(comp) for comp in scc])[-1]]\n",
    "#     graph = make_graph(graph_keys)\n",
    "#     scc = kosaraju(graph)\n",
    "#     draw_scc(scc)\n"
   ]
  },
  {
   "cell_type": "code",
   "execution_count": null,
   "metadata": {},
   "outputs": [],
   "source": []
  },
  {
   "cell_type": "code",
   "execution_count": 21,
   "metadata": {},
   "outputs": [],
   "source": [
    "def old_num(new_num):\n",
    "    return (((new_num - 1) // N) // 2) * N // 2 + ((new_num - 1) % N) // 2 + 1"
   ]
  },
  {
   "cell_type": "code",
   "execution_count": 29,
   "metadata": {},
   "outputs": [],
   "source": [
    "def make2_graph(graph_keys=None, save=False):\n",
    "    global x_0, y_0, d, N, form_x, form_y, graph\n",
    "    if graph_keys == None:\n",
    "        init_const()\n",
    "        graph = dict.fromkeys(range(1, N * N + 1))\n",
    "    else:\n",
    "        graph_verts = []\n",
    "        dots = np.unique(old_num(np.array(graph_keys)))\n",
    "        N = int(N / 2)\n",
    "#         for dot in dots:\n",
    "#             graph_verts += [dot, dot + 1, dot + N, dot + N + 1]\n",
    "        new_graph = dict.fromkeys(dots)\n",
    "        graph = new_graph\n",
    "        d = d * 2\n",
    "        \n",
    "    pattern_x = np.ones((10, 10)) * np.array(range(1, 11)) * 0.1 * d - d / 20\n",
    "    pattern_y = pattern_x.copy().transpose()\n",
    "    \n",
    "    e_cntr = 0\n",
    "    \n",
    "    for n in graph.keys():\n",
    "        y_n = round(y_0 - ((n - 1) // N) * d, 4)\n",
    "        x_n = round(x_0 + ((n - 1) % N) * d, 4)\n",
    "        ss = np.unique(get_num(*formula(x_n + pattern_x, y_n - pattern_y)))\n",
    "        ss = np.array([sss for sss in ss if sss in graph.keys()])\n",
    "        s = set(ss.astype('int32'))\n",
    "        graph[n] = s\n",
    "        e_cntr += len(s)\n",
    "            \n",
    "    if save:\n",
    "        file = 'graph_' + str(N*N) + '.txt'\n",
    "        save_graph(file, graph)\n",
    "    return graph"
   ]
  },
  {
   "cell_type": "code",
   "execution_count": 63,
   "metadata": {},
   "outputs": [
    {
     "name": "stdout",
     "output_type": "stream",
     "text": [
      "drawing component\n",
      "drawing component\n"
     ]
    }
   ],
   "source": [
    "graph = make_graph()\n",
    "scc = kosaraju(graph)\n",
    "draw_scc(scc)"
   ]
  },
  {
   "cell_type": "code",
   "execution_count": 64,
   "metadata": {},
   "outputs": [],
   "source": [
    "graph_keys = []\n",
    "for comp in scc:\n",
    "    if len(comp) > 1:\n",
    "        graph_keys += comp"
   ]
  },
  {
   "cell_type": "code",
   "execution_count": 65,
   "metadata": {},
   "outputs": [
    {
     "name": "stdout",
     "output_type": "stream",
     "text": [
      "drawing component\n",
      "drawing component\n",
      "drawing component\n",
      "drawing component\n",
      "drawing component\n",
      "drawing component\n"
     ]
    }
   ],
   "source": [
    "graph2 = make2_graph(graph_keys)\n",
    "scc2 = kosaraju(graph2)\n",
    "# print(scc2)\n",
    "draw2_scc(scc2)"
   ]
  },
  {
   "cell_type": "code",
   "execution_count": 59,
   "metadata": {},
   "outputs": [
    {
     "name": "stdout",
     "output_type": "stream",
     "text": [
      "drawing component\n",
      "drawing component\n",
      "drawing component\n",
      "drawing component\n",
      "drawing component\n",
      "drawing component\n"
     ]
    }
   ],
   "source": [
    "draw2_scc(scc2)"
   ]
  },
  {
   "cell_type": "code",
   "execution_count": 17,
   "metadata": {},
   "outputs": [
    {
     "data": {
      "text/plain": [
       "4"
      ]
     },
     "execution_count": 17,
     "metadata": {},
     "output_type": "execute_result"
    }
   ],
   "source": [
    "N = 6\n",
    "new_num = 13\n",
    "old_num(new_num)"
   ]
  },
  {
   "cell_type": "code",
   "execution_count": 58,
   "metadata": {},
   "outputs": [],
   "source": [
    "def draw2_scc(scc, grid=False, axis=False, save=True):\n",
    "    global height, width, draw\n",
    "    height, width = 800, 800\n",
    "    image = Image.new(\"RGB\", (width, height))\n",
    "    draw = ImageDraw.Draw(image)\n",
    "    draw.rectangle((0, 0, width, height), fill='white')\n",
    "    k = 0\n",
    "    colors = ['blue', 'green', 'orange', 'red', 'purple', 'black']\n",
    "    i = 0\n",
    "    for comp in scc:\n",
    "        print('drawing component')\n",
    "        for v in comp:\n",
    "            fill_square(v, d, colors[i])\n",
    "        i += 1\n",
    "            \n",
    "    \n",
    "    if axis:\n",
    "        draw_axis()\n",
    "\n",
    "    if grid:\n",
    "        draw_grid()\n",
    "\n",
    "    if save:\n",
    "        im_name = 'test_image_' + str(N * N) + '.png'\n",
    "        image.save(im_name, \"PNG\")\n"
   ]
  },
  {
   "cell_type": "code",
   "execution_count": 45,
   "metadata": {},
   "outputs": [
    {
     "data": {
      "text/plain": [
       "2"
      ]
     },
     "execution_count": 45,
     "metadata": {},
     "output_type": "execute_result"
    }
   ],
   "source": [
    "len(scc)"
   ]
  },
  {
   "cell_type": "code",
   "execution_count": 69,
   "metadata": {},
   "outputs": [
    {
     "name": "stdout",
     "output_type": "stream",
     "text": [
      "drawing component\n",
      "drawing component\n"
     ]
    }
   ],
   "source": [
    "graph_keys = []\n",
    "for comp in scc2:\n",
    "    graph_keys += comp\n",
    "        \n",
    "graph2 = make2_graph(graph_keys)\n",
    "scc2 = kosaraju(graph2)\n",
    "draw2_scc(scc2)"
   ]
  },
  {
   "cell_type": "code",
   "execution_count": null,
   "metadata": {},
   "outputs": [],
   "source": []
  }
 ],
 "metadata": {
  "kernelspec": {
   "display_name": "Python 3",
   "language": "python",
   "name": "python3"
  },
  "language_info": {
   "codemirror_mode": {
    "name": "ipython",
    "version": 3
   },
   "file_extension": ".py",
   "mimetype": "text/x-python",
   "name": "python",
   "nbconvert_exporter": "python",
   "pygments_lexer": "ipython3",
   "version": "3.8.6"
  }
 },
 "nbformat": 4,
 "nbformat_minor": 4
}
