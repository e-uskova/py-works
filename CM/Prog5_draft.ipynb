{
 "cells": [
  {
   "cell_type": "code",
   "execution_count": 1,
   "metadata": {},
   "outputs": [],
   "source": [
    "import numpy as np\n",
    "from math import *\n",
    "import time\n",
    "from PIL import Image\n",
    "from PIL import ImageDraw\n",
    "from PIL import ImageColor\n",
    "import IPython.display"
   ]
  },
  {
   "cell_type": "code",
   "execution_count": 2,
   "metadata": {},
   "outputs": [],
   "source": [
    "def make_graph():\n",
    "    global x_0, y_0, d, N\n",
    "    graph = {}\n",
    "    f = open('graph', 'r')\n",
    "    for line in f:\n",
    "        line = line.strip().split(': ')\n",
    "        graph[int(line[0])] = eval(line[1])\n",
    "    x_0, y_0 = -2, 2\n",
    "    d = 0.005\n",
    "    N = int(4 / d)\n",
    "    return graph"
   ]
  },
  {
   "cell_type": "code",
   "execution_count": 3,
   "metadata": {},
   "outputs": [],
   "source": [
    "def invert_graph(graph):\n",
    "    i_graph = dict.fromkeys(graph.keys(), 0)\n",
    "    for k, v in graph.items():\n",
    "        for vertice in v:\n",
    "            if i_graph[vertice]:\n",
    "                i_graph[vertice].add(int(k))\n",
    "            else:\n",
    "                i_graph[vertice] = {int(k)}\n",
    "    for k, v in i_graph.items():\n",
    "        if v == 0:\n",
    "            i_graph[k] = set()\n",
    "    return i_graph"
   ]
  },
  {
   "cell_type": "code",
   "execution_count": 4,
   "metadata": {},
   "outputs": [],
   "source": [
    "def dfs1(v, comp):\n",
    "    visited[v] = True\n",
    "    end = True\n",
    "    for e in graph[v]:\n",
    "        if not visited[e]:\n",
    "            end = False\n",
    "            dfs1(e, comp)\n",
    "    comp.append(v)"
   ]
  },
  {
   "cell_type": "code",
   "execution_count": 5,
   "metadata": {},
   "outputs": [],
   "source": [
    "def dfs2(v, comp):\n",
    "    visited[v] = True\n",
    "    end = True\n",
    "    for e in i_graph[v]:\n",
    "        if not visited[e]:\n",
    "            end = False\n",
    "            dfs2(e, comp)\n",
    "    comp.append(v)"
   ]
  },
  {
   "cell_type": "code",
   "execution_count": 6,
   "metadata": {},
   "outputs": [],
   "source": [
    "def kosaraju(graph):\n",
    "    global visited\n",
    "    global i_graph\n",
    "    i_graph = invert_graph(graph)\n",
    "    n = N * N\n",
    "    \n",
    "#     visited = [False] * (n + 1)\n",
    "    visited = dict.fromkeys(graph.keys(), False)\n",
    "    coms = []\n",
    "    \n",
    "    for i in range(1, n + 1):\n",
    "        if (i in graph.keys() and (not visited[i])):\n",
    "            comp = []\n",
    "            dfs1(i, comp)\n",
    "            coms.append(comp)\n",
    "\n",
    "#     visited = [False] * (n + 1)\n",
    "    visited = dict.fromkeys(graph.keys(), False)\n",
    "    c = []\n",
    "\n",
    "    for comp in coms[::-1]:\n",
    "        for v in comp[::-1]:\n",
    "            if not visited[v]:\n",
    "                co = []\n",
    "                root = True\n",
    "                dfs2(v, co)\n",
    "#                 if len(co) > 1:\n",
    "                c.append(co)                    \n",
    "    return c"
   ]
  },
  {
   "cell_type": "code",
   "execution_count": 7,
   "metadata": {},
   "outputs": [],
   "source": [
    "def scale(x, y):\n",
    "    return (x + 2) * width // 4 , height - (y + 2) * height // 4\n",
    "\n",
    "def fill_square(number, d, color):\n",
    "    y, x = divmod(number - 1, N)\n",
    "    x, y = x_0 + x * d, y_0 - y * d\n",
    "    draw.rectangle((*scale(x, y), *scale(x + d, y - d)), fill=color)\n",
    "    \n",
    "def draw_grid():\n",
    "    x, y = 0, 0\n",
    "    if d > 0.01:\n",
    "        while x < width:\n",
    "            x += width / N\n",
    "            draw.line((x, 0, x, height), fill=ImageColor.getrgb(\"blue\"))\n",
    "        while y < height:\n",
    "            y += height / N\n",
    "            draw.line((0, x, width, x), fill=ImageColor.getrgb(\"blue\"))\n",
    "            \n",
    "def draw_axis():\n",
    "    zero_x = width / 2\n",
    "    zero_y = height / 2\n",
    "\n",
    "    draw.line((0, zero_x + 1, height, zero_x + 1))\n",
    "    draw.line((zero_y + 1, 0, zero_y + 1, width))"
   ]
  },
  {
   "cell_type": "code",
   "execution_count": 8,
   "metadata": {},
   "outputs": [],
   "source": [
    "def draw_scc(scc, attr_reg, grid=False, axis=False, save=True):\n",
    "    global height, width, draw, cntr, cntr_edges\n",
    "    height, width = 800, 800\n",
    "    image = Image.new(\"RGB\", (width, height))\n",
    "    draw = ImageDraw.Draw(image)\n",
    "    draw.rectangle((0, 0, width, height), fill='white')\n",
    "  \n",
    "    for c in attr_reg:\n",
    "        fill_square(c, d, 'pink') \n",
    "    for c in scc:\n",
    "        fill_square(c, d, 'purple')     \n",
    "\n",
    "    if axis:\n",
    "        draw_axis()\n",
    "\n",
    "    if grid:\n",
    "        draw_grid()\n",
    "\n",
    "    if save:\n",
    "        im_name = 'image5_2' + str(N * N) + '.png'\n",
    "        image.save(im_name, \"PNG\")"
   ]
  },
  {
   "cell_type": "code",
   "execution_count": 9,
   "metadata": {},
   "outputs": [],
   "source": [
    "def func():\n",
    "    global graph, scc, was\n",
    "    start = time.time()\n",
    "    graph = make_graph()\n",
    "#     nums = topo(graph)\n",
    "#     scc = kosaraju(graph)\n",
    "#     g_time = time.time() - start\n",
    "    draw_scc(scc)"
   ]
  },
  {
   "cell_type": "code",
   "execution_count": 11,
   "metadata": {},
   "outputs": [
    {
     "name": "stdout",
     "output_type": "stream",
     "text": [
      "Wall time: 27.5 s\n"
     ]
    }
   ],
   "source": [
    "%%time\n",
    "graph = make_graph()"
   ]
  },
  {
   "cell_type": "code",
   "execution_count": 12,
   "metadata": {},
   "outputs": [
    {
     "name": "stdout",
     "output_type": "stream",
     "text": [
      "Wall time: 10.4 s\n"
     ]
    }
   ],
   "source": [
    "%%time\n",
    "scc = kosaraju(graph)"
   ]
  },
  {
   "cell_type": "code",
   "execution_count": 21,
   "metadata": {},
   "outputs": [
    {
     "name": "stdout",
     "output_type": "stream",
     "text": [
      "Wall time: 1.87 s\n"
     ]
    },
    {
     "data": {
      "image/png": "[encoded data removed]",
      "text/plain": [
       "<IPython.core.display.Image object>"
      ]
     },
     "execution_count": 21,
     "metadata": {},
     "output_type": "execute_result"
    }
   ],
   "source": [
    "%%time\n",
    "draw_scc(short_scc, attr_reg)\n",
    "IPython.display.Image(filename='image5_2' + str(N * N) + '.png') "
   ]
  },
  {
   "cell_type": "code",
   "execution_count": 18,
   "metadata": {},
   "outputs": [],
   "source": [
    "short_scc = []\n",
    "for c in scc:\n",
    "    if (len(c) > 1) and (len(c) < 10):\n",
    "        short_scc += c"
   ]
  },
  {
   "cell_type": "code",
   "execution_count": 19,
   "metadata": {},
   "outputs": [
    {
     "data": {
      "text/plain": [
       "3"
      ]
     },
     "execution_count": 19,
     "metadata": {},
     "output_type": "execute_result"
    }
   ],
   "source": [
    "len(short_scc)"
   ]
  },
  {
   "cell_type": "code",
   "execution_count": null,
   "metadata": {},
   "outputs": [],
   "source": [
    "\n"
   ]
  },
  {
   "cell_type": "code",
   "execution_count": 9,
   "metadata": {},
   "outputs": [],
   "source": [
    "def dfs3(v, attr_reg):\n",
    "    visited[v] = True\n",
    "    for e in i_graph[v]:\n",
    "        if not visited[e]:\n",
    "            dfs3(e, attr_reg)\n",
    "    attr_reg.append(v)"
   ]
  },
  {
   "cell_type": "code",
   "execution_count": 10,
   "metadata": {},
   "outputs": [],
   "source": [
    "def get_attr(graph, scc):\n",
    "    global visited\n",
    "    visited = dict.fromkeys(graph.keys(), False)\n",
    "    attr_reg = []\n",
    "    \n",
    "#     for v in scc:\n",
    "#         visited[v] = True\n",
    "\n",
    "    for v in scc:\n",
    "        dfs3(v, attr_reg)\n",
    "#         attr_reg.remove(v)\n",
    "\n",
    "    return attr_reg"
   ]
  },
  {
   "cell_type": "code",
   "execution_count": 14,
   "metadata": {},
   "outputs": [],
   "source": [
    "def dfs4(v, attr):\n",
    "    visited[v] = True\n",
    "    for e in graph[v]:\n",
    "        if not visited[e]:\n",
    "            dfs4(e, attr)\n",
    "    attr.append(v)"
   ]
  },
  {
   "cell_type": "code",
   "execution_count": 15,
   "metadata": {},
   "outputs": [],
   "source": [
    "def get_attr2(graph, scc):\n",
    "    global visited\n",
    "    visited = dict.fromkeys(graph.keys(), False)\n",
    "    attr = []\n",
    "    \n",
    "    for v in scc:\n",
    "        visited[v] = True\n",
    "\n",
    "    for v in scc:\n",
    "        dfs4(v, attr)\n",
    "\n",
    "    return attr"
   ]
  },
  {
   "cell_type": "code",
   "execution_count": 22,
   "metadata": {},
   "outputs": [
    {
     "data": {
      "text/plain": [
       "124030"
      ]
     },
     "execution_count": 22,
     "metadata": {},
     "output_type": "execute_result"
    }
   ],
   "source": [
    "len(attr_reg)"
   ]
  },
  {
   "cell_type": "code",
   "execution_count": 18,
   "metadata": {},
   "outputs": [
    {
     "name": "stdout",
     "output_type": "stream",
     "text": [
      "Wall time: 1.24 s\n"
     ]
    }
   ],
   "source": [
    "%%time\n",
    "attr = get_attr2(graph, short_scc)"
   ]
  },
  {
   "cell_type": "code",
   "execution_count": 20,
   "metadata": {},
   "outputs": [
    {
     "name": "stdout",
     "output_type": "stream",
     "text": [
      "Wall time: 486 ms\n"
     ]
    }
   ],
   "source": [
    "%%time\n",
    "attr_reg = get_attr(graph, short_scc)"
   ]
  },
  {
   "cell_type": "code",
   "execution_count": 119,
   "metadata": {},
   "outputs": [
    {
     "ename": "KeyboardInterrupt",
     "evalue": "",
     "output_type": "error",
     "traceback": [
      "\u001b[1;31m---------------------------------------------------------------------------\u001b[0m",
      "\u001b[1;31mKeyboardInterrupt\u001b[0m                         Traceback (most recent call last)",
      "\u001b[1;32m<ipython-input-119-f2a403f0f484>\u001b[0m in \u001b[0;36m<module>\u001b[1;34m\u001b[0m\n\u001b[1;32m----> 1\u001b[1;33m \u001b[1;32mfor\u001b[0m \u001b[0mv\u001b[0m \u001b[1;32min\u001b[0m \u001b[0mshort_scc\u001b[0m\u001b[1;33m:\u001b[0m\u001b[1;33m\u001b[0m\u001b[1;33m\u001b[0m\u001b[0m\n\u001b[0m\u001b[0;32m      2\u001b[0m     \u001b[1;32mif\u001b[0m \u001b[0mv\u001b[0m \u001b[1;32min\u001b[0m \u001b[0mattr_reg\u001b[0m\u001b[1;33m:\u001b[0m\u001b[1;33m\u001b[0m\u001b[1;33m\u001b[0m\u001b[0m\n\u001b[0;32m      3\u001b[0m         \u001b[0mprint\u001b[0m\u001b[1;33m(\u001b[0m\u001b[1;34m'oh no'\u001b[0m\u001b[1;33m)\u001b[0m\u001b[1;33m\u001b[0m\u001b[1;33m\u001b[0m\u001b[0m\n",
      "\u001b[1;31mKeyboardInterrupt\u001b[0m: "
     ]
    }
   ],
   "source": [
    "for v in short_scc:\n",
    "    if v in attr_reg:\n",
    "        print('oh no')"
   ]
  },
  {
   "cell_type": "code",
   "execution_count": null,
   "metadata": {},
   "outputs": [],
   "source": []
  }
 ],
 "metadata": {
  "kernelspec": {
   "display_name": "Python 3",
   "language": "python",
   "name": "python3"
  },
  "language_info": {
   "codemirror_mode": {
    "name": "ipython",
    "version": 3
   },
   "file_extension": ".py",
   "mimetype": "text/x-python",
   "name": "python",
   "nbconvert_exporter": "python",
   "pygments_lexer": "ipython3",
   "version": "3.8.6"
  }
 },
 "nbformat": 4,
 "nbformat_minor": 4
}
