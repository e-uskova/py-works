{
 "cells": [
  {
   "cell_type": "code",
   "execution_count": 1,
   "metadata": {},
   "outputs": [
    {
     "ename": "SystemExit",
     "evalue": "0",
     "output_type": "error",
     "traceback": [
      "An exception has occurred, use %tb to see the full traceback.\n",
      "\u001b[1;31mSystemExit\u001b[0m\u001b[1;31m:\u001b[0m 0\n"
     ]
    },
    {
     "name": "stderr",
     "output_type": "stream",
     "text": [
      "c:\\users\\ekaterina\\appdata\\local\\programs\\python\\python38\\lib\\site-packages\\IPython\\core\\interactiveshell.py:3425: UserWarning: To exit: use 'exit', 'quit', or Ctrl-D.\n",
      "  warn(\"To exit: use 'exit', 'quit', or Ctrl-D.\", stacklevel=1)\n"
     ]
    }
   ],
   "source": [
    "import numpy as np\n",
    "import sys\n",
    "import time\n",
    "# import PySide2\n",
    "from PySide2.QtCore import *\n",
    "from PySide2.QtGui import *\n",
    "from PySide2.QtWidgets import *\n",
    "from math import *\n",
    "from test2 import Ui_MainWindow\n",
    "\n",
    "# create application\n",
    "app = QApplication(sys.argv)\n",
    "\n",
    "#create form and init ui\n",
    "Form = QMainWindow()\n",
    "ui = Ui_MainWindow()\n",
    "ui.setupUi(Form)\n",
    "Form.show()\n",
    "\n",
    "#hook logic\n",
    "\n",
    "x_0, y_0 = -2, 2\n",
    "\n",
    "def formula(form_x, form_y, x, y):\n",
    "    return(eval(form_x), eval(form_y))\n",
    "\n",
    "def get_num(x, y):\n",
    "    y = np.where(x < -2, 3, y)\n",
    "    x = np.where(x < -2, -3, x)\n",
    "\n",
    "    y = np.where(x > 2, 3, y)\n",
    "    x = np.where(x > 2, -3, x)\n",
    "\n",
    "    x = np.where(y < -2, -3, x)\n",
    "    y = np.where(y < -2, 3, y)\n",
    "\n",
    "    x = np.where(y > 2, -3, x)\n",
    "    y = np.where(y > 2, 3, y)\n",
    "\n",
    "    i = ((y_0 - y) // d * N) + ((x - x_0) // d) + 1\n",
    "    i = np.where(i < 0, 0, i)\n",
    "    return i\n",
    "\n",
    "def func():\n",
    "    global form_x, form_y, a, b, d, N\n",
    "    \n",
    "    form_x = ui.x_formula.text()\n",
    "    form_y = ui.y_formula.text()\n",
    "\n",
    "    d = ui.d_value.value()\n",
    "    a = ui.a_value.value()\n",
    "    b = ui.b_value.value()\n",
    "\n",
    "    N = int(4 / d)\n",
    "\n",
    "    save = ui.checkBox.isChecked()\n",
    "    \n",
    "    graph = {}\n",
    "    pattern_x = np.ones((10, 10)) * np.array(range(1, 11)) * 0.1 * d - d / 20\n",
    "    pattern_y = pattern_x.copy().transpose()\n",
    "    n = 1\n",
    "    y_n = y_0\n",
    "    cntr = 0\n",
    "    c = 1\n",
    "    \n",
    "    start = time.time()\n",
    "    \n",
    "    while(y_n > -y_0):\n",
    "        x_n = x_0\n",
    "        while(x_n < -x_0):\n",
    "            s = set(np.unique(get_num(*formula(form_x, form_y, x_n + pattern_x, y_n - pattern_y))).astype('int32'))\n",
    "            graph[n] = s\n",
    "            cntr += len(s)\n",
    "            c += 1\n",
    "            x_n += d\n",
    "            n += 1\n",
    "        y_n -= d\n",
    "        \n",
    "    t = round(time.time() - start, 3)\n",
    "\n",
    "    if save:       \n",
    "        f = open('test2.txt', 'w')\n",
    "        for k, v in graph.items():\n",
    "            f.write(f'{k}: {v}\\n')\n",
    "        f.close()\n",
    "        \n",
    "    text = ''\n",
    "    for n, s in graph.items():\n",
    "        text += f'{n}: {s}' + '\\n'\n",
    "    \n",
    "    ui.output_text.setText(text)    \n",
    "    \n",
    "    ui.output_vertices.setText(\"{} вершин\".format(c))\n",
    "    ui.output_edges.setText(\"{} рёбер\".format(cntr))\n",
    "    ui.output_time.setText(\"{} c\".format(t))\n",
    "\n",
    "ui.pushButton.clicked.connect(func)\n",
    "\n",
    "#run main loop\n",
    "sys.exit(app.exec_())\n"
   ]
  },
  {
   "cell_type": "code",
   "execution_count": 1,
   "metadata": {},
   "outputs": [
    {
     "ename": "NameError",
     "evalue": "name 'app' is not defined",
     "output_type": "error",
     "traceback": [
      "\u001b[1;31m---------------------------------------------------------------------------\u001b[0m",
      "\u001b[1;31mNameError\u001b[0m                                 Traceback (most recent call last)",
      "\u001b[1;32m<ipython-input-1-6d1f9a92aa23>\u001b[0m in \u001b[0;36m<module>\u001b[1;34m\u001b[0m\n\u001b[1;32m----> 1\u001b[1;33m \u001b[1;32mdel\u001b[0m \u001b[0mapp\u001b[0m\u001b[1;33m\u001b[0m\u001b[1;33m\u001b[0m\u001b[0m\n\u001b[0m",
      "\u001b[1;31mNameError\u001b[0m: name 'app' is not defined"
     ]
    }
   ],
   "source": [
    "del app"
   ]
  },
  {
   "cell_type": "code",
   "execution_count": 3,
   "metadata": {},
   "outputs": [
    {
     "data": {
      "text/plain": [
       "0.5"
      ]
     },
     "execution_count": 3,
     "metadata": {},
     "output_type": "execute_result"
    }
   ],
   "source": [
    "d"
   ]
  },
  {
   "cell_type": "code",
   "execution_count": 2,
   "metadata": {},
   "outputs": [],
   "source": [
    "dic = {1: {1, 2, 3}, 2: {4, 5, 6}}"
   ]
  },
  {
   "cell_type": "code",
   "execution_count": 13,
   "metadata": {},
   "outputs": [
    {
     "name": "stdout",
     "output_type": "stream",
     "text": [
      "1: {1, 2, 3}\n",
      "2: {4, 5, 6}\n",
      "\n"
     ]
    }
   ],
   "source": [
    "text = ''\n",
    "for n, s in dic.items():\n",
    "    text += f'{n}: {s}' + '\\n'\n",
    "print(text)"
   ]
  },
  {
   "cell_type": "code",
   "execution_count": 2,
   "metadata": {},
   "outputs": [
    {
     "data": {
      "text/plain": [
       "0.022"
      ]
     },
     "execution_count": 2,
     "metadata": {},
     "output_type": "execute_result"
    }
   ],
   "source": [
    "round(0.02222, 3)"
   ]
  },
  {
   "cell_type": "code",
   "execution_count": null,
   "metadata": {},
   "outputs": [],
   "source": []
  }
 ],
 "metadata": {
  "kernelspec": {
   "display_name": "Python 3",
   "language": "python",
   "name": "python3"
  },
  "language_info": {
   "codemirror_mode": {
    "name": "ipython",
    "version": 3
   },
   "file_extension": ".py",
   "mimetype": "text/x-python",
   "name": "python",
   "nbconvert_exporter": "python",
   "pygments_lexer": "ipython3",
   "version": "3.8.6"
  }
 },
 "nbformat": 4,
 "nbformat_minor": 4
}
