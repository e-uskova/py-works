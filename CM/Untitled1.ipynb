{
 "cells": [
  {
   "cell_type": "code",
   "execution_count": 1,
   "metadata": {},
   "outputs": [],
   "source": [
    "import numpy as np"
   ]
  },
  {
   "cell_type": "code",
   "execution_count": 161,
   "metadata": {},
   "outputs": [],
   "source": [
    "graph = {}\n",
    "f = open('graph64.txt', 'r')\n",
    "for line in f:\n",
    "    line = line.strip().split(': ')\n",
    "    graph[int(line[0])] = eval(line[1])\n",
    "# graph"
   ]
  },
  {
   "cell_type": "code",
   "execution_count": 57,
   "metadata": {},
   "outputs": [],
   "source": []
  },
  {
   "cell_type": "code",
   "execution_count": 58,
   "metadata": {},
   "outputs": [],
   "source": [
    "def invert(graph):\n",
    "    i_graph = {}\n",
    "    for k, v in graph.items():\n",
    "        for vertice in v:\n",
    "            if vertice in i_graph.keys():\n",
    "                i_graph[vertice].add(int(k))\n",
    "            else:\n",
    "                i_graph[vertice] = {int(k)}\n",
    "    return i_graph\n",
    "i_graph = invert(graph)"
   ]
  },
  {
   "cell_type": "code",
   "execution_count": 59,
   "metadata": {},
   "outputs": [
    {
     "data": {
      "text/plain": [
       "{2: {6}, 3: {1, 2}, 4: {2}, 1: {3}, 6: {4}, 5: {1}}"
      ]
     },
     "execution_count": 59,
     "metadata": {},
     "output_type": "execute_result"
    }
   ],
   "source": [
    "i_graph"
   ]
  },
  {
   "cell_type": "code",
   "execution_count": 68,
   "metadata": {},
   "outputs": [
    {
     "data": {
      "text/plain": [
       "2"
      ]
     },
     "execution_count": 68,
     "metadata": {},
     "output_type": "execute_result"
    }
   ],
   "source": [
    "def dfs(graph, start, c):\n",
    "    c.append(start)\n",
    "    Visited[start] = True\n",
    "    for v in graph[start]:\n",
    "        if not Visited[v]:\n",
    "            dfs(graph, v, c)\n",
    "    return c\n",
    "\n",
    "n = len(i_graph)\n",
    "Visited = [False] * (n + 1)\n",
    "\n",
    "comp = []\n",
    "\n",
    "for i in range(1, n + 1): \n",
    "    co = []\n",
    "    if not Visited[i]:\n",
    "        comp.append(dfs(i_graph, i, co))\n",
    "len(comp)"
   ]
  },
  {
   "cell_type": "code",
   "execution_count": 61,
   "metadata": {},
   "outputs": [
    {
     "data": {
      "text/plain": [
       "[[1, 3, 2, 6, 4], [5]]"
      ]
     },
     "execution_count": 61,
     "metadata": {},
     "output_type": "execute_result"
    }
   ],
   "source": [
    "comp"
   ]
  },
  {
   "cell_type": "code",
   "execution_count": 69,
   "metadata": {},
   "outputs": [
    {
     "name": "stdout",
     "output_type": "stream",
     "text": [
      "[1, 3, 2, 6, 4]\n"
     ]
    },
    {
     "ename": "KeyError",
     "evalue": "0",
     "output_type": "error",
     "traceback": [
      "\u001b[1;31m---------------------------------------------------------------------------\u001b[0m",
      "\u001b[1;31mKeyError\u001b[0m                                  Traceback (most recent call last)",
      "\u001b[1;32m<ipython-input-69-d9612950a8ea>\u001b[0m in \u001b[0;36m<module>\u001b[1;34m\u001b[0m\n\u001b[0;32m      8\u001b[0m     \u001b[1;32mfor\u001b[0m \u001b[0mi\u001b[0m \u001b[1;32min\u001b[0m \u001b[0mrange\u001b[0m\u001b[1;33m(\u001b[0m\u001b[0mlen\u001b[0m\u001b[1;33m(\u001b[0m\u001b[0mvec\u001b[0m\u001b[1;33m)\u001b[0m\u001b[1;33m)\u001b[0m\u001b[1;33m:\u001b[0m\u001b[1;33m\u001b[0m\u001b[1;33m\u001b[0m\u001b[0m\n\u001b[0;32m      9\u001b[0m         \u001b[1;32mif\u001b[0m \u001b[1;32mnot\u001b[0m \u001b[0mVisited\u001b[0m\u001b[1;33m[\u001b[0m\u001b[0mvec\u001b[0m\u001b[1;33m[\u001b[0m\u001b[0mi\u001b[0m\u001b[1;33m]\u001b[0m\u001b[1;33m]\u001b[0m\u001b[1;33m:\u001b[0m\u001b[1;33m\u001b[0m\u001b[1;33m\u001b[0m\u001b[0m\n\u001b[1;32m---> 10\u001b[1;33m             \u001b[0mcompanent\u001b[0m\u001b[1;33m.\u001b[0m\u001b[0mappend\u001b[0m\u001b[1;33m(\u001b[0m\u001b[0mdfs\u001b[0m\u001b[1;33m(\u001b[0m\u001b[0mgraph\u001b[0m\u001b[1;33m,\u001b[0m \u001b[0mi\u001b[0m\u001b[1;33m,\u001b[0m \u001b[0mco\u001b[0m\u001b[1;33m)\u001b[0m\u001b[1;33m)\u001b[0m\u001b[1;33m\u001b[0m\u001b[1;33m\u001b[0m\u001b[0m\n\u001b[0m\u001b[0;32m     11\u001b[0m \u001b[0mcompanent\u001b[0m\u001b[1;33m\u001b[0m\u001b[1;33m\u001b[0m\u001b[0m\n",
      "\u001b[1;32m<ipython-input-68-ccb258733d0e>\u001b[0m in \u001b[0;36mdfs\u001b[1;34m(graph, start, c)\u001b[0m\n\u001b[0;32m      2\u001b[0m     \u001b[0mc\u001b[0m\u001b[1;33m.\u001b[0m\u001b[0mappend\u001b[0m\u001b[1;33m(\u001b[0m\u001b[0mstart\u001b[0m\u001b[1;33m)\u001b[0m\u001b[1;33m\u001b[0m\u001b[1;33m\u001b[0m\u001b[0m\n\u001b[0;32m      3\u001b[0m     \u001b[0mVisited\u001b[0m\u001b[1;33m[\u001b[0m\u001b[0mstart\u001b[0m\u001b[1;33m]\u001b[0m \u001b[1;33m=\u001b[0m \u001b[1;32mTrue\u001b[0m\u001b[1;33m\u001b[0m\u001b[1;33m\u001b[0m\u001b[0m\n\u001b[1;32m----> 4\u001b[1;33m     \u001b[1;32mfor\u001b[0m \u001b[0mv\u001b[0m \u001b[1;32min\u001b[0m \u001b[0mgraph\u001b[0m\u001b[1;33m[\u001b[0m\u001b[0mstart\u001b[0m\u001b[1;33m]\u001b[0m\u001b[1;33m:\u001b[0m\u001b[1;33m\u001b[0m\u001b[1;33m\u001b[0m\u001b[0m\n\u001b[0m\u001b[0;32m      5\u001b[0m         \u001b[1;32mif\u001b[0m \u001b[1;32mnot\u001b[0m \u001b[0mVisited\u001b[0m\u001b[1;33m[\u001b[0m\u001b[0mv\u001b[0m\u001b[1;33m]\u001b[0m\u001b[1;33m:\u001b[0m\u001b[1;33m\u001b[0m\u001b[1;33m\u001b[0m\u001b[0m\n\u001b[0;32m      6\u001b[0m             \u001b[0mdfs\u001b[0m\u001b[1;33m(\u001b[0m\u001b[0mgraph\u001b[0m\u001b[1;33m,\u001b[0m \u001b[0mv\u001b[0m\u001b[1;33m,\u001b[0m \u001b[0mc\u001b[0m\u001b[1;33m)\u001b[0m\u001b[1;33m\u001b[0m\u001b[1;33m\u001b[0m\u001b[0m\n",
      "\u001b[1;31mKeyError\u001b[0m: 0"
     ]
    }
   ],
   "source": [
    "# n = len(graph)\n",
    "Visited = [False] * (n + 1)\n",
    "\n",
    "companent = []\n",
    "for vec in comp:\n",
    "    print(vec)\n",
    "    co = []\n",
    "    for i in range(len(vec)):\n",
    "        if not Visited[vec[i]]:\n",
    "            companent.append(dfs(graph, i, co))\n",
    "companent"
   ]
  },
  {
   "cell_type": "code",
   "execution_count": 152,
   "metadata": {},
   "outputs": [
    {
     "data": {
      "text/plain": [
       "{6: {2}, 2: {3, 4}, 3: {1}, 4: {6}, 5: set(), 1: {3, 5}, 7: set()}"
      ]
     },
     "execution_count": 152,
     "metadata": {},
     "output_type": "execute_result"
    }
   ],
   "source": [
    "graph = {6: {2}, 2: {3, 4}, 3: {1}, 4: {6}, 5: set(), 1: {3, 5}, 7: set()}\n",
    "graph"
   ]
  },
  {
   "cell_type": "code",
   "execution_count": 162,
   "metadata": {},
   "outputs": [
    {
     "data": {
      "text/plain": [
       "64"
      ]
     },
     "execution_count": 162,
     "metadata": {},
     "output_type": "execute_result"
    }
   ],
   "source": [
    "n = len(graph)\n",
    "n"
   ]
  },
  {
   "cell_type": "code",
   "execution_count": 166,
   "metadata": {},
   "outputs": [],
   "source": [
    "in_time = [0] * (n + 1)\n",
    "out_time = [0] * (n + 1)"
   ]
  },
  {
   "cell_type": "code",
   "execution_count": 154,
   "metadata": {},
   "outputs": [],
   "source": [
    "cur_time = 0"
   ]
  },
  {
   "cell_type": "code",
   "execution_count": 167,
   "metadata": {},
   "outputs": [],
   "source": [
    "def dfs(v, comp, visited):\n",
    "    comp.append(v)\n",
    "    global cur_time\n",
    "    in_time[v] = cur_time\n",
    "    visited[v] = True\n",
    "    for e in graph[v]:\n",
    "        if not visited[e]:\n",
    "            cur_time += 1\n",
    "            dfs(e, comp, visited)\n",
    "    cur_time += 1\n",
    "    out_time[v] = cur_time\n"
   ]
  },
  {
   "cell_type": "code",
   "execution_count": 168,
   "metadata": {},
   "outputs": [],
   "source": [
    "visited = [False] * (n + 1)\n",
    "cur_time = 0\n",
    "\n",
    "coms = []\n",
    "\n",
    "for i in range(1, n + 1):\n",
    "    if not visited[i]:\n",
    "        comp = []\n",
    "        cur_time += 1\n",
    "        dfs(i, comp, visited)\n",
    "        coms.append(comp)"
   ]
  },
  {
   "cell_type": "code",
   "execution_count": 164,
   "metadata": {},
   "outputs": [],
   "source": [
    "# обратный порядок выхода\n",
    "# list(np.flipud(np.array(out_time).argsort()))[:-1]"
   ]
  },
  {
   "cell_type": "code",
   "execution_count": 169,
   "metadata": {},
   "outputs": [
    {
     "data": {
      "text/plain": [
       "[[1],\n",
       " [2],\n",
       " [3, 57],\n",
       " [4],\n",
       " [5],\n",
       " [6],\n",
       " [7],\n",
       " [8],\n",
       " [9],\n",
       " [10],\n",
       " [11,\n",
       "  50,\n",
       "  51,\n",
       "  12,\n",
       "  33,\n",
       "  34,\n",
       "  32,\n",
       "  39,\n",
       "  64,\n",
       "  40,\n",
       "  46,\n",
       "  44,\n",
       "  35,\n",
       "  37,\n",
       "  36,\n",
       "  29,\n",
       "  28,\n",
       "  45,\n",
       "  43,\n",
       "  13,\n",
       "  17,\n",
       "  18,\n",
       "  54,\n",
       "  58,\n",
       "  59,\n",
       "  60,\n",
       "  55,\n",
       "  61,\n",
       "  62,\n",
       "  63,\n",
       "  19,\n",
       "  52,\n",
       "  25,\n",
       "  26,\n",
       "  47,\n",
       "  48,\n",
       "  49,\n",
       "  56,\n",
       "  27,\n",
       "  38,\n",
       "  53,\n",
       "  41,\n",
       "  42,\n",
       "  14,\n",
       "  15,\n",
       "  16,\n",
       "  22,\n",
       "  20,\n",
       "  21,\n",
       "  30,\n",
       "  23,\n",
       "  24,\n",
       "  31]]"
      ]
     },
     "execution_count": 169,
     "metadata": {},
     "output_type": "execute_result"
    }
   ],
   "source": [
    "coms"
   ]
  },
  {
   "cell_type": "code",
   "execution_count": 170,
   "metadata": {},
   "outputs": [],
   "source": [
    "visited = [False] * (n + 1)\n",
    "c = []\n",
    "\n",
    "for comp in coms:\n",
    "    for v in comp[::-1]:\n",
    "        if not visited[v]:\n",
    "            co = []\n",
    "            dfs(v, co, visited)\n",
    "            c.append(co)"
   ]
  },
  {
   "cell_type": "code",
   "execution_count": 171,
   "metadata": {},
   "outputs": [
    {
     "data": {
      "text/plain": [
       "[[1],\n",
       " [2],\n",
       " [57],\n",
       " [3],\n",
       " [4],\n",
       " [5],\n",
       " [6],\n",
       " [7],\n",
       " [8],\n",
       " [9],\n",
       " [10],\n",
       " [31,\n",
       "  32,\n",
       "  33,\n",
       "  39,\n",
       "  64,\n",
       "  40,\n",
       "  46,\n",
       "  44,\n",
       "  35,\n",
       "  37,\n",
       "  36,\n",
       "  29,\n",
       "  28,\n",
       "  45,\n",
       "  43,\n",
       "  11,\n",
       "  50,\n",
       "  51,\n",
       "  12,\n",
       "  34,\n",
       "  15,\n",
       "  16,\n",
       "  22,\n",
       "  13,\n",
       "  17,\n",
       "  18,\n",
       "  54,\n",
       "  58,\n",
       "  59,\n",
       "  60,\n",
       "  55,\n",
       "  61,\n",
       "  62,\n",
       "  63,\n",
       "  19,\n",
       "  52,\n",
       "  25,\n",
       "  26,\n",
       "  47,\n",
       "  48,\n",
       "  49,\n",
       "  56,\n",
       "  27,\n",
       "  38,\n",
       "  53,\n",
       "  41,\n",
       "  42,\n",
       "  14,\n",
       "  20,\n",
       "  21,\n",
       "  23,\n",
       "  24,\n",
       "  30]]"
      ]
     },
     "execution_count": 171,
     "metadata": {},
     "output_type": "execute_result"
    }
   ],
   "source": [
    "c"
   ]
  },
  {
   "cell_type": "code",
   "execution_count": null,
   "metadata": {},
   "outputs": [],
   "source": []
  }
 ],
 "metadata": {
  "kernelspec": {
   "display_name": "Python 3",
   "language": "python",
   "name": "python3"
  },
  "language_info": {
   "codemirror_mode": {
    "name": "ipython",
    "version": 3
   },
   "file_extension": ".py",
   "mimetype": "text/x-python",
   "name": "python",
   "nbconvert_exporter": "python",
   "pygments_lexer": "ipython3",
   "version": "3.8.6"
  }
 },
 "nbformat": 4,
 "nbformat_minor": 4
}
