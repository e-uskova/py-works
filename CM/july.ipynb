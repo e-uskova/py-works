{
 "cells": [
  {
   "cell_type": "code",
   "execution_count": 1,
   "metadata": {},
   "outputs": [],
   "source": [
    "import numpy as np\n",
    "# from PySide2.QtCore import *\n",
    "# from PySide2.QtGui import *\n",
    "# from PySide2.QtWidgets import *\n",
    "# from math import *"
   ]
  },
  {
   "cell_type": "code",
   "execution_count": 2,
   "metadata": {},
   "outputs": [],
   "source": [
    "# a = 0\n",
    "# b = -0.2\n",
    "d = 0.005\n",
    "\n",
    "N = 800"
   ]
  },
  {
   "cell_type": "code",
   "execution_count": 3,
   "metadata": {},
   "outputs": [],
   "source": [
    "x_0, y_0 = -2, 2"
   ]
  },
  {
   "cell_type": "code",
   "execution_count": 12,
   "metadata": {},
   "outputs": [
    {
     "name": "stdout",
     "output_type": "stream",
     "text": [
      "Введите значения следующих параметров:\n",
      "Диаметр разбиения \n",
      "0.5\n",
      "a \n",
      "0\n",
      "b \n",
      "-0.2\n"
     ]
    }
   ],
   "source": [
    "# print(\"Введите значения следующих параметров:\\nДиаметр разбиения \")\n",
    "# d = float(input())\n",
    "# print(\"a \")\n",
    "# a = float(input())\n",
    "# print(\"b \")\n",
    "# b = float(input())"
   ]
  },
  {
   "cell_type": "code",
   "execution_count": 13,
   "metadata": {},
   "outputs": [
    {
     "data": {
      "text/plain": [
       "8"
      ]
     },
     "execution_count": 13,
     "metadata": {},
     "output_type": "execute_result"
    }
   ],
   "source": [
    "# N = int(4 / d)\n",
    "# N"
   ]
  },
  {
   "cell_type": "code",
   "execution_count": 6,
   "metadata": {},
   "outputs": [
    {
     "name": "stdout",
     "output_type": "stream",
     "text": [
      "Сохранять? (0/1)\n",
      "1\n"
     ]
    }
   ],
   "source": [
    "# print(\"Сохранять? (0/1)\")\n",
    "# save = bool(int(input()))"
   ]
  },
  {
   "cell_type": "code",
   "execution_count": 4,
   "metadata": {},
   "outputs": [
    {
     "name": "stdout",
     "output_type": "stream",
     "text": [
      "Нужна нулевая вершина? (0/1)\n",
      "0\n"
     ]
    }
   ],
   "source": [
    "print(\"Нужна нулевая вершина? (0/1)\")\n",
    "add_zero_v = bool(int(input()))"
   ]
  },
  {
   "cell_type": "code",
   "execution_count": 7,
   "metadata": {},
   "outputs": [
    {
     "data": {
      "text/plain": [
       "False"
      ]
     },
     "execution_count": 7,
     "metadata": {},
     "output_type": "execute_result"
    }
   ],
   "source": [
    "add_zero_v"
   ]
  },
  {
   "cell_type": "code",
   "execution_count": 33,
   "metadata": {},
   "outputs": [
    {
     "name": "stdout",
     "output_type": "stream",
     "text": [
      "Введите формулу для x\n",
      "x * x - y * y + a\n",
      "Введите формулу для y\n",
      "2 * x * y + b\n"
     ]
    }
   ],
   "source": [
    "# print(\"Введите формулу для x\")\n",
    "# form_x = str(input())\n",
    "# print(\"Введите формулу для y\")\n",
    "# form_y = str(input())"
   ]
  },
  {
   "cell_type": "code",
   "execution_count": 3,
   "metadata": {},
   "outputs": [],
   "source": [
    "def form(x, y):\n",
    "    return(eval(form_x), eval(form_y))"
   ]
  },
  {
   "cell_type": "code",
   "execution_count": 4,
   "metadata": {},
   "outputs": [],
   "source": [
    "def equal(x, y):\n",
    "    return(x, y + 1)"
   ]
  },
  {
   "cell_type": "code",
   "execution_count": 5,
   "metadata": {},
   "outputs": [],
   "source": [
    "def july(x, y):\n",
    "    return(x * x - y * y - 0.2, 2 * x * y - 0.2)"
   ]
  },
  {
   "cell_type": "code",
   "execution_count": 6,
   "metadata": {},
   "outputs": [],
   "source": [
    "def get_num(x, y):\n",
    "    y = np.where(x < -2, 3, y)\n",
    "    x = np.where(x < -2, -3, x)\n",
    "    \n",
    "    y = np.where(x > 2, 3, y)\n",
    "    x = np.where(x > 2, -3, x)\n",
    "    \n",
    "    x = np.where(y < -2, -3, x)\n",
    "    y = np.where(y < -2, 3, y)\n",
    "    \n",
    "    x = np.where(y > 2, -3, x)\n",
    "    y = np.where(y > 2, 3, y)\n",
    "    \n",
    "    i = ((y_0 - y) // d * N) + ((x - x_0) // d) + 1\n",
    "    i = np.where(i < 0, 0, i)\n",
    "    if add_zero_v:\n",
    "        return i\n",
    "    else:\n",
    "        return i[np.where(i > 0)]"
   ]
  },
  {
   "cell_type": "code",
   "execution_count": 7,
   "metadata": {},
   "outputs": [
    {
     "name": "stdout",
     "output_type": "stream",
     "text": [
      "Количество рёбер: 2534008\n",
      "Количество вершин: 640800\n",
      "Wall time: 2min 26s\n"
     ]
    }
   ],
   "source": [
    "%%time\n",
    "graph = {}\n",
    "pattern_x = np.ones((10, 10)) * np.array(range(1, 11)) * 0.1 * d - d / 20\n",
    "pattern_y = pattern_x.copy().transpose()\n",
    "n = 1\n",
    "y_n = y_0\n",
    "cntr = 0\n",
    "c = add_zero_v\n",
    "while(y_n > -y_0):\n",
    "    x_n = x_0\n",
    "    while(x_n < -x_0 - d):\n",
    "        x_n = x_0 + ((n - 1) % N) * d\n",
    "#         print(n)\n",
    "#         print(x_n)\n",
    "#         print(y_n)\n",
    "#         se = get_num(*july(x_n + pattern_x, y_n - pattern_y))\n",
    "#         s = set(np.unique(se[np.where(se != 0)]).astype('int32'))\n",
    "        s = set(np.unique(get_num(*july(x_n + pattern_x, y_n - pattern_y)).astype('int32')))\n",
    "        graph[n] = s\n",
    "        cntr += len(s)\n",
    "        c += 1\n",
    "        #print(s)\n",
    "#         x_n += d\n",
    "        n += 1\n",
    "    #print(y_n)\n",
    "    y_n -= d\n",
    "\n",
    "print(\"Количество рёбер: {}\".format(cntr))\n",
    "print(\"Количество вершин: {}\".format(c))\n"
   ]
  },
  {
   "cell_type": "code",
   "execution_count": null,
   "metadata": {},
   "outputs": [],
   "source": []
  },
  {
   "cell_type": "code",
   "execution_count": 8,
   "metadata": {},
   "outputs": [],
   "source": [
    "f = open('graph_nastya.txt', 'w')\n",
    "for k, v in graph.items():\n",
    "    f.write(f'{k}: {v}\\n')\n",
    "f.close()"
   ]
  },
  {
   "cell_type": "code",
   "execution_count": null,
   "metadata": {},
   "outputs": [],
   "source": []
  },
  {
   "cell_type": "code",
   "execution_count": 16,
   "metadata": {},
   "outputs": [],
   "source": [
    "if save:\n",
    "    f = open('graph640_0.txt', 'w')\n",
    "#     f.write('a = {}, b = {}\\n'.format(a, b))\n",
    "    for k, v in graph.items():\n",
    "        f.write(f'{k}: {v}\\n')\n",
    "    f.close()"
   ]
  },
  {
   "cell_type": "code",
   "execution_count": 1,
   "metadata": {},
   "outputs": [
    {
     "name": "stdout",
     "output_type": "stream",
     "text": [
      "{'1': set(), '2': set(), '3': {57}, '4': set(), '5': set(), '6': {1}, '7': set(), '8': set(), '9': set(), '10': set(), '11': {50, 51, 57, 58, 59, 60}, '12': {33, 34, 41, 42, 43, 49, 50, 51, 57}, '13': {33, 34, 9, 10, 17, 18, 19, 25, 26, 27}, '14': {1, 2, 3, 4, 9, 10, 11, 12, 19}, '15': {5}, '16': set(), '17': {64}, '18': {64, 54, 55, 61, 62, 63}, '19': {44, 45, 51, 52, 53, 54, 60, 61}, '20': {35, 36, 43, 44, 51}, '21': {35, 36, 19, 20, 27, 28}, '22': {4, 5, 11, 12, 13, 14, 19, 20, 21, 22, 28, 29}, '23': {5, 6, 7, 8, 13, 14, 15, 16, 22}, '24': {8}, '25': set(), '26': {64, 39, 40, 46, 47, 48, 49, 54, 55, 56}, '27': {37, 38, 45, 46, 54}, '28': {37, 36, 45, 44}, '29': {29, 28, 37, 36}, '30': {37, 38, 21, 22, 29, 30}, '31': {32, 33, 39, 40, 15, 16, 22, 23, 24, 30, 31}, '32': set(), '33': set(), '34': {32, 33, 39, 40, 15, 16, 22, 23, 24, 30, 31}, '35': {37, 38, 21, 22, 29, 30}, '36': {29, 28, 37, 36}, '37': {37, 36, 45, 44}, '38': {37, 38, 45, 46, 54}, '39': {64, 39, 40, 46, 47, 48, 49, 54, 55, 56}, '40': set(), '41': {8}, '42': {5, 6, 7, 8, 13, 14, 15, 16, 22}, '43': {4, 5, 11, 12, 13, 14, 19, 20, 21, 22, 28, 29}, '44': {35, 36, 19, 20, 27, 28}, '45': {35, 36, 43, 44, 51}, '46': {44, 45, 51, 52, 53, 54, 60, 61}, '47': {64, 54, 55, 61, 62, 63}, '48': {64}, '49': set(), '50': {5}, '51': {1, 2, 3, 4, 9, 10, 11, 12, 19}, '52': {33, 34, 9, 10, 17, 18, 19, 25, 26, 27}, '53': {33, 34, 41, 42, 43, 49, 50, 51, 57}, '54': {50, 51, 57, 58, 59, 60}, '55': set(), '56': set(), '57': set(), '58': set(), '59': {1}, '60': set(), '61': set(), '62': {57}, '63': set(), '64': set()}\n"
     ]
    }
   ],
   "source": [
    "dic = {}\n",
    "f = open('graph64.txt', 'r')\n",
    "for line in f:\n",
    "    line = line.strip().split(': ')\n",
    "#     print(line)\n",
    "    dic[line[0]] = eval(line[1])\n",
    "print(dic)"
   ]
  },
  {
   "cell_type": "code",
   "execution_count": null,
   "metadata": {},
   "outputs": [],
   "source": [
    "Количество рёбер: 2536942\n",
    "Количество вершин: 640800\n",
    "Wall time: 2min 29s"
   ]
  },
  {
   "cell_type": "code",
   "execution_count": 27,
   "metadata": {},
   "outputs": [
    {
     "data": {
      "text/plain": [
       "{1: {0},\n",
       " 2: {0},\n",
       " 3: {0},\n",
       " 4: {0},\n",
       " 5: {0},\n",
       " 6: {0},\n",
       " 7: {0},\n",
       " 8: {0},\n",
       " 9: {0},\n",
       " 10: {0},\n",
       " 11: {0, 57, 58},\n",
       " 12: {0, 41, 42, 49, 50, 57, 58},\n",
       " 13: {0, 17, 18, 25, 26, 33, 34},\n",
       " 14: {0, 1, 2, 3, 9, 10, 11, 17, 18},\n",
       " 15: {0, 3, 4},\n",
       " 16: {0},\n",
       " 17: {0},\n",
       " 18: {0, 61, 62, 63},\n",
       " 19: {0, 50, 51, 52, 53, 58, 59, 60, 61},\n",
       " 20: {42, 43, 50, 51},\n",
       " 21: {26, 27, 34, 35},\n",
       " 22: {11, 12, 18, 19, 20, 21, 26, 27, 28, 29},\n",
       " 23: {0, 4, 5, 6, 7, 12, 13, 14, 15, 21, 22, 23},\n",
       " 24: {0, 7, 8, 15, 16},\n",
       " 25: {0, 48, 56, 64, 65},\n",
       " 26: {46, 47, 48, 53, 54, 55, 56, 61, 62, 63, 64},\n",
       " 27: {44, 45, 52, 53},\n",
       " 28: {43, 44},\n",
       " 29: {35, 36},\n",
       " 30: {28, 29, 36, 37},\n",
       " 31: {21, 22, 23, 24, 29, 30, 31, 32, 38, 39, 40},\n",
       " 32: {0, 16, 24, 25, 32, 40},\n",
       " 33: {0, 16, 24, 25, 32, 40},\n",
       " 34: {21, 22, 23, 24, 29, 30, 31, 32, 38, 39, 40},\n",
       " 35: {28, 29, 36, 37},\n",
       " 36: {35, 36},\n",
       " 37: {43, 44},\n",
       " 38: {44, 45, 52, 53},\n",
       " 39: {46, 47, 48, 53, 54, 55, 56, 61, 62, 63, 64},\n",
       " 40: {0, 48, 56, 64, 65},\n",
       " 41: {0, 7, 8, 15, 16},\n",
       " 42: {0, 4, 5, 6, 7, 12, 13, 14, 15, 21, 22, 23},\n",
       " 43: {11, 12, 18, 19, 20, 21, 26, 27, 28, 29},\n",
       " 44: {26, 27, 34, 35},\n",
       " 45: {42, 43, 50, 51},\n",
       " 46: {0, 50, 51, 52, 53, 58, 59, 60, 61},\n",
       " 47: {0, 61, 62, 63},\n",
       " 48: {0},\n",
       " 49: {0},\n",
       " 50: {0, 3, 4},\n",
       " 51: {0, 1, 2, 3, 9, 10, 11, 17, 18},\n",
       " 52: {0, 17, 18, 25, 26, 33, 34},\n",
       " 53: {0, 41, 42, 49, 50, 57, 58},\n",
       " 54: {0, 57, 58},\n",
       " 55: {0},\n",
       " 56: {0},\n",
       " 57: {0},\n",
       " 58: {0},\n",
       " 59: {0},\n",
       " 60: {0},\n",
       " 61: {0},\n",
       " 62: {0},\n",
       " 63: {0},\n",
       " 64: {0}}"
      ]
     },
     "execution_count": 27,
     "metadata": {},
     "output_type": "execute_result"
    }
   ],
   "source": [
    "graph"
   ]
  },
  {
   "cell_type": "code",
   "execution_count": 37,
   "metadata": {},
   "outputs": [
    {
     "data": {
      "text/plain": [
       "{57: {3, 11, 12, 53, 54, 62},\n",
       " 1: {6, 14, 51, 59},\n",
       " 50: {11, 12, 53, 54},\n",
       " 51: {11, 12, 19, 20, 45, 46, 53, 54},\n",
       " 58: {11, 54},\n",
       " 59: {11, 54},\n",
       " 60: {11, 19, 46, 54},\n",
       " 33: {12, 13, 31, 34, 52, 53},\n",
       " 34: {12, 13, 52, 53},\n",
       " 41: {12, 53},\n",
       " 42: {12, 53},\n",
       " 43: {12, 20, 45, 53},\n",
       " 49: {12, 26, 39, 53},\n",
       " 9: {13, 14, 51, 52},\n",
       " 10: {13, 14, 51, 52},\n",
       " 17: {13, 52},\n",
       " 18: {13, 52},\n",
       " 19: {13, 14, 21, 22, 43, 44, 51, 52},\n",
       " 25: {13, 52},\n",
       " 26: {13, 52},\n",
       " 27: {13, 21, 44, 52},\n",
       " 2: {14, 51},\n",
       " 3: {14, 51},\n",
       " 4: {14, 22, 43, 51},\n",
       " 11: {14, 22, 43, 51},\n",
       " 12: {14, 22, 43, 51},\n",
       " 5: {15, 22, 23, 42, 43, 50},\n",
       " 64: {17, 18, 26, 39, 47, 48},\n",
       " 54: {18, 19, 26, 27, 38, 39, 46, 47},\n",
       " 55: {18, 26, 39, 47},\n",
       " 61: {18, 19, 46, 47},\n",
       " 62: {18, 47},\n",
       " 63: {18, 47},\n",
       " 44: {19, 20, 28, 37, 45, 46},\n",
       " 45: {19, 27, 28, 37, 38, 46},\n",
       " 52: {19, 46},\n",
       " 53: {19, 46},\n",
       " 35: {20, 21, 44, 45},\n",
       " 36: {20, 21, 28, 29, 36, 37, 44, 45},\n",
       " 20: {21, 22, 43, 44},\n",
       " 28: {21, 22, 29, 36, 43, 44},\n",
       " 13: {22, 23, 42, 43},\n",
       " 14: {22, 23, 42, 43},\n",
       " 21: {22, 30, 35, 43},\n",
       " 22: {22, 23, 30, 31, 34, 35, 42, 43},\n",
       " 29: {22, 29, 30, 35, 36, 43},\n",
       " 6: {23, 42},\n",
       " 7: {23, 42},\n",
       " 8: {23, 24, 41, 42},\n",
       " 15: {23, 31, 34, 42},\n",
       " 16: {23, 31, 34, 42},\n",
       " 39: {26, 31, 34, 39},\n",
       " 40: {26, 31, 34, 39},\n",
       " 46: {26, 27, 38, 39},\n",
       " 47: {26, 39},\n",
       " 48: {26, 39},\n",
       " 56: {26, 39},\n",
       " 37: {27, 28, 29, 30, 35, 36, 37, 38},\n",
       " 38: {27, 30, 35, 38},\n",
       " 30: {30, 31, 34, 35},\n",
       " 32: {31, 34},\n",
       " 23: {31, 34},\n",
       " 24: {31, 34},\n",
       " 31: {31, 34}}"
      ]
     },
     "execution_count": 37,
     "metadata": {},
     "output_type": "execute_result"
    }
   ],
   "source": [
    "i_graph = {}\n",
    "for k, v in dic.items():\n",
    "    for vertice in v:\n",
    "        if vertice in i_graph.keys():\n",
    "            i_graph[vertice].add(int(k))\n",
    "        else:\n",
    "            i_graph[vertice] = {int(k)}\n",
    "i_graph"
   ]
  },
  {
   "cell_type": "code",
   "execution_count": 10,
   "metadata": {},
   "outputs": [
    {
     "data": {
      "text/plain": [
       "64"
      ]
     },
     "execution_count": 10,
     "metadata": {},
     "output_type": "execute_result"
    }
   ],
   "source": [
    "len(i_graph.keys())"
   ]
  },
  {
   "cell_type": "code",
   "execution_count": 15,
   "metadata": {},
   "outputs": [],
   "source": [
    "def dfs(graph, start, visited=None):\n",
    "    if visited is None:\n",
    "        visited = set()\n",
    "    visited.add(start)\n",
    "#     print(start)\n",
    "#     print(graph[53])\n",
    "#     print(graph[start])\n",
    "    for next in graph[start] - visited:\n",
    "#         print(graph[start])\n",
    "        dfs(graph, next, visited)\n",
    "    return visited"
   ]
  },
  {
   "cell_type": "code",
   "execution_count": 16,
   "metadata": {},
   "outputs": [
    {
     "data": {
      "text/plain": [
       "{11,\n",
       " 12,\n",
       " 13,\n",
       " 14,\n",
       " 18,\n",
       " 19,\n",
       " 20,\n",
       " 21,\n",
       " 22,\n",
       " 23,\n",
       " 26,\n",
       " 27,\n",
       " 28,\n",
       " 29,\n",
       " 30,\n",
       " 31,\n",
       " 34,\n",
       " 35,\n",
       " 36,\n",
       " 37,\n",
       " 38,\n",
       " 39,\n",
       " 42,\n",
       " 43,\n",
       " 44,\n",
       " 45,\n",
       " 46,\n",
       " 47,\n",
       " 51,\n",
       " 52,\n",
       " 53,\n",
       " 54}"
      ]
     },
     "execution_count": 16,
     "metadata": {},
     "output_type": "execute_result"
    }
   ],
   "source": [
    "result = dfs(i_graph, 42)\n",
    "result"
   ]
  },
  {
   "cell_type": "code",
   "execution_count": 42,
   "metadata": {},
   "outputs": [
    {
     "name": "stdout",
     "output_type": "stream",
     "text": [
      "59\n",
      "11\n",
      "51\n",
      "12\n",
      "43\n",
      "53\n",
      "19\n",
      "44\n",
      "37\n",
      "35\n",
      "45\n",
      "38\n",
      "27\n",
      "21\n",
      "22\n",
      "34\n",
      "13\n",
      "42\n",
      "23\n",
      "31\n",
      "52\n",
      "46\n",
      "26\n",
      "39\n",
      "30\n",
      "28\n",
      "36\n",
      "20\n",
      "29\n",
      "14\n",
      "54\n",
      "47\n",
      "18\n",
      "6\n",
      "15\n",
      "50\n",
      "24\n",
      "41\n",
      "62\n"
     ]
    }
   ],
   "source": [
    "start = 1\n",
    "n = 64\n",
    "Visited = [False] * (n + 1)\n",
    "def DFS(start):\n",
    "    Visited[start] = True\n",
    "#     print(i_graph[start])\n",
    "    for v in i_graph[start]:\n",
    "        if not Visited[v]:\n",
    "            print(v)\n",
    "            DFS(v)\n",
    "ncomp = 0\n",
    "for i in range(1, n + 1): \n",
    "    if not Visited[i]:\n",
    "        ncomp += 1\n",
    "        DFS(i)"
   ]
  },
  {
   "cell_type": "code",
   "execution_count": null,
   "metadata": {},
   "outputs": [],
   "source": []
  }
 ],
 "metadata": {
  "kernelspec": {
   "display_name": "Python 3",
   "language": "python",
   "name": "python3"
  },
  "language_info": {
   "codemirror_mode": {
    "name": "ipython",
    "version": 3
   },
   "file_extension": ".py",
   "mimetype": "text/x-python",
   "name": "python",
   "nbconvert_exporter": "python",
   "pygments_lexer": "ipython3",
   "version": "3.8.6"
  }
 },
 "nbformat": 4,
 "nbformat_minor": 4
}
