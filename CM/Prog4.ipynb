{
 "cells": [
  {
   "cell_type": "code",
   "execution_count": 1,
   "metadata": {},
   "outputs": [
    {
     "ename": "SystemExit",
     "evalue": "0",
     "output_type": "error",
     "traceback": [
      "An exception has occurred, use %tb to see the full traceback.\n",
      "\u001b[1;31mSystemExit\u001b[0m\u001b[1;31m:\u001b[0m 0\n"
     ]
    },
    {
     "name": "stderr",
     "output_type": "stream",
     "text": [
      "c:\\users\\ekaterina\\appdata\\local\\programs\\python\\python38\\lib\\site-packages\\IPython\\core\\interactiveshell.py:3425: UserWarning: To exit: use 'exit', 'quit', or Ctrl-D.\n",
      "  warn(\"To exit: use 'exit', 'quit', or Ctrl-D.\", stacklevel=1)\n"
     ]
    }
   ],
   "source": [
    "import sys\n",
    "import numpy as np\n",
    "from math import *\n",
    "import time\n",
    "from PIL import Image\n",
    "from PIL import ImageDraw\n",
    "from PIL import ImageColor\n",
    "from PySide2.QtCore import *\n",
    "from PySide2.QtGui import *\n",
    "from PySide2.QtWidgets import *\n",
    "from Prog4_ui import Ui_MainWindow\n",
    "\n",
    "if not QApplication.instance():\n",
    "    app = QApplication(sys.argv)\n",
    "else:\n",
    "    app = QApplication.instance()\n",
    "\n",
    "Form = QMainWindow()\n",
    "ui = Ui_MainWindow()\n",
    "ui.setupUi(Form)\n",
    "Form.show()\n",
    "\n",
    "def make_graph():\n",
    "    global x_0, y_0, d, N\n",
    "    graph = {}\n",
    "    d = ui.doubleSpinBox.value()\n",
    "    if d == 0.5:\n",
    "        f = open('graph64', 'r')\n",
    "    elif d == 0.25:\n",
    "        f = open('graph256', 'r')\n",
    "    elif d == 0.005:\n",
    "        f = open('graph_nastya.txt', 'r')\n",
    "    else:\n",
    "        print(d)\n",
    "    for line in f:\n",
    "        line = line.strip().split(': ')\n",
    "        graph[int(line[0])] = eval(line[1])\n",
    "    x_0, y_0 = -2, 2\n",
    "    N = int(4 / d)\n",
    "    return graph\n",
    "\n",
    "def invert_graph(graph):\n",
    "    i_graph = dict.fromkeys(graph.keys(), 0)\n",
    "    for k, v in graph.items():\n",
    "        for vertice in v:\n",
    "            if i_graph[vertice]:\n",
    "                i_graph[vertice].add(int(k))\n",
    "            else:\n",
    "                i_graph[vertice] = {int(k)}\n",
    "    for k, v in i_graph.items():\n",
    "        if v == 0:\n",
    "            i_graph[k] = set()\n",
    "    return i_graph\n",
    "\n",
    "def dfs1(graph, v, comp, visited, cur_time, leave):\n",
    "    visited[v] = True\n",
    "    cur_time += 1\n",
    "    for e in graph[v]:\n",
    "        if not visited[e]:\n",
    "            dfs1(graph, e, comp, visited, cur_time, leave)\n",
    "    cur_time += 1\n",
    "    leave[v] = cur_time\n",
    "    comp.append(v)\n",
    "    \n",
    "def dfs2(graph, v, comp, visited):\n",
    "    visited[v] = True\n",
    "    for e in graph[v]:\n",
    "        if not visited[e]:\n",
    "            dfs2(graph, e, comp, visited)\n",
    "    comp.append(v)\n",
    "    \n",
    "def topo(graph):\n",
    "    n = N * N\n",
    "    \n",
    "    visited = [False] * (n + 1)\n",
    "    cur_time = 0\n",
    "    leave = [0] * (n + 1)\n",
    "    coms = []\n",
    "    \n",
    "    for i in range(1, n + 1):\n",
    "        if (i in graph.keys() and (not visited[i])):\n",
    "            comp = []\n",
    "            dfs1(graph, i, comp, visited, cur_time, leave)\n",
    "            coms.append(comp)\n",
    "            \n",
    "    sorted_graph = list(np.argsort(np.array(leave)))[::-1]\n",
    "    new_nums = [0] * (n + 1)\n",
    "    \n",
    "    i_graph = invert_graph(graph)\n",
    "    no = 0\n",
    "    \n",
    "    visited = [False] * (n + 1)\n",
    "    \n",
    "    for v in sorted_graph[:-1]:\n",
    "        if not visited[v]:\n",
    "            \n",
    "            if len(i_graph[v]) > 0:\n",
    "                co = []\n",
    "                dfs2(i_graph, v, co, visited)\n",
    "                h = co\n",
    "            else:\n",
    "                h = [v]\n",
    "\n",
    "            for k in range(len(h)):\n",
    "                new_nums[h[k]] = no + k + 1\n",
    "                visited[h[k]] = True\n",
    "            no += len(h)\n",
    "    return new_nums[1:]\n",
    "\n",
    "def func():\n",
    "    global graph, scc, was\n",
    "    start = time.time()\n",
    "    graph = make_graph()\n",
    "    nums = topo(graph)\n",
    "    ui.label_7.setText(f'{round(time.time() - start, 3)} c')\n",
    "    ui.tableWidget.setRowCount(0)\n",
    "    \n",
    "    for n in range(len(nums)):\n",
    "        ui.tableWidget.setRowCount(ui.tableWidget.rowCount() + 1)\n",
    "        ui.tableWidget.setItem(n, 1, QTableWidgetItem(\"%d\" % (nums[n])))\n",
    "        ui.tableWidget.setItem(n, 0, QTableWidgetItem(\"%d\" % (n + 1)))\n",
    "        \n",
    "ui.pushButton.clicked.connect(func)\n",
    "sys.exit(app.exec_())\n"
   ]
  },
  {
   "cell_type": "code",
   "execution_count": 4,
   "metadata": {},
   "outputs": [
    {
     "data": {
      "text/plain": [
       "8"
      ]
     },
     "execution_count": 4,
     "metadata": {},
     "output_type": "execute_result"
    }
   ],
   "source": [
    "N"
   ]
  },
  {
   "cell_type": "code",
   "execution_count": null,
   "metadata": {},
   "outputs": [],
   "source": []
  }
 ],
 "metadata": {
  "kernelspec": {
   "display_name": "Python 3",
   "language": "python",
   "name": "python3"
  },
  "language_info": {
   "codemirror_mode": {
    "name": "ipython",
    "version": 3
   },
   "file_extension": ".py",
   "mimetype": "text/x-python",
   "name": "python",
   "nbconvert_exporter": "python",
   "pygments_lexer": "ipython3",
   "version": "3.8.6"
  }
 },
 "nbformat": 4,
 "nbformat_minor": 4
}
